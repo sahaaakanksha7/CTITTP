{
 "cells": [
  {
   "cell_type": "code",
   "execution_count": 5,
   "id": "19b505bb-5b1c-445c-9184-1883551324bf",
   "metadata": {},
   "outputs": [
    {
     "name": "stdout",
     "output_type": "stream",
     "text": [
      "Total techniques reported by MITRE: 637\n",
      "Total techniques observed in APT groups: 421\n",
      "Techniques not covered by the APT groups: 216\n",
      "Techniques not observed: {'T1562.007', 'T1555.001', 'T1055.009', 'T1505.005', 'T1590.003', 'T1598.001', 'T1569.001', 'T1495', 'T1069.003', 'T1587.004', 'T1556.004', 'T1222', 'T1505.001', 'T1619', 'T1563.001', 'T1584.007', 'T1600', 'T1622', 'T1596.001', 'T1574.008', 'T1132.002', 'T1218.012', 'T1550.004', 'T1059.002', 'T1055.011', 'T1612', 'T1055.015', 'T1216', 'T1036.009', 'T1596', 'T1546.012', 'T1137.005', 'T1559', 'T1546', 'T1027.012', 'T1499.004', 'T1055.003', 'T1566.004', 'T1021.003', 'T1584', 'T1548.001', 'T1003.008', 'T1185', 'T1011', 'T1596.002', 'T1037.003', 'T1548.006', 'T1055.008', 'T1558.004', 'T1550', 'T1552', 'T1059.008', 'T1567.003', 'T1212', 'T1600.002', 'T1602', 'T1547.010', 'T1542.005', 'T1070.009', 'T1555.006', 'T1547.003', 'T1020.001', 'T1546.002', 'T1021.008', 'T1036.006', 'T1592.001', 'T1195.001', 'T1562.012', 'T1592.003', 'T1556.005', 'T1195', 'T1564.007', 'T1590.006', 'T1027.008', 'T1070.008', 'T1037.002', 'T1578.004', 'T1129', 'T1546.014', 'T1548.004', 'T1195.003', 'T1547.015', 'T1134.004', 'T1526', 'T1547.014', 'T1608.003', 'T1052', 'T1574.014', 'T1546.016', 'T1574.010', 'T1552.003', 'T1001', 'T1574.011', 'T1543', 'T1053.006', 'T1583.007', 'T1567.001', 'T1583.005', 'T1218.013', 'T1547.008', 'T1591.003', 'T1056.003', 'T1537', 'T1578.005', 'T1599.001', 'T1597.001', 'T1542.004', 'T1132', 'T1525', 'T1207', 'T1505.002', 'T1499.001', 'T1567.004', 'T1542.001', 'T1011.001', 'T1574.004', 'T1543.001', 'T1602.001', 'T1098.006', 'T1599', 'T1595', 'T1653', 'T1055.014', 'T1547.006', 'T1547.002', 'T1499.003', 'T1546.005', 'T1547.013', 'T1053.007', 'T1003.007', 'T1548.005', 'T1098.001', 'T1037.005', 'T1535', 'T1558.002', 'T1564', 'T1559.003', 'T1574.007', 'T1552.007', 'T1647', 'T1027.009', 'T1564.011', 'T1606.001', 'T1561', 'T1505.004', 'T1491', 'T1218.009', 'T1555.002', 'T1542', 'T1648', 'T1553.004', 'T1564.012', 'T1547.007', 'T1546.004', 'T1553.003', 'T1574.009', 'T1134.005', 'T1562.010', 'T1546.007', 'T1480', 'T1562.011', 'T1543.005', 'T1547.005', 'T1205.002', 'T1606', 'T1574', 'T1574.005', 'T1601', 'T1585.003', 'T1578', 'T1498.002', 'T1556.008', 'T1547', 'T1216.002', 'T1562.009', 'T1548', 'T1606.002', 'T1564.009', 'T1127.001', 'T1590.002', 'T1588.007', 'T1546.006', 'T1548.003', 'T1652', 'T1498.001', 'T1218.014', 'T1218.015', 'T1564.010', 'T1558', 'T1546.009', 'T1564.006', 'T1600.001', 'T1563', 'T1592', 'T1578.001', 'T1601.002', 'T1588', 'T1543.004', 'T1602.002', 'T1497.003', 'T1596.003', 'T1127', 'T1484', 'T1505', 'T1586', 'T1499.002', 'T1048.001', 'T1137.003', 'T1557.003', 'T1055.005', 'T1556.003', 'T1205', 'T1553.001', 'T1601.001', 'T1650', 'T1596.004'}\n"
     ]
    }
   ],
   "source": [
    "import pandas as pd\n",
    "\n",
    "# Load the first sheet ('techniques') containing the universe of all techniques\n",
    "csv_file = r\"C:\\Users\\Aakanksha Saha\\Downloads\\enterprise-attack-v15.1-techniques.xlsx\"\n",
    "df1 = pd.read_excel(csv_file, sheet_name='techniques')\n",
    "\n",
    "csv_file1 = r\"C:\\Users\\Aakanksha Saha\\Downloads\\enterprise-attack-v15.1-groups.xlsx\"\n",
    "# Load the second sheet ('techniques used') containing techniques observed among apt groups\n",
    "df2 = pd.read_excel(csv_file1, sheet_name='techniques used')\n",
    "\n",
    "# Extract the unique IDs from the first sheet (universe of techniques)\n",
    "all_technique_ids = df1['ID'].unique()\n",
    "\n",
    "# Extract the target IDs from the second sheet (observed techniques)\n",
    "observed_technique_ids = df2['target ID'].unique()\n",
    "\n",
    "# Find the overlap (intersection) between the two lists\n",
    "overlap_ids = set(all_technique_ids).intersection(set(observed_technique_ids))\n",
    "\n",
    "# Calculate statistics\n",
    "total_techniques = len(all_technique_ids)\n",
    "observed_techniques = len(overlap_ids)\n",
    "unobserved_techniques = total_techniques - observed_techniques\n",
    "\n",
    "# Output the stats\n",
    "print(f\"Total techniques reported by MITRE: {total_techniques}\")\n",
    "print(f\"Total techniques observed in APT groups: {observed_techniques}\")\n",
    "print(f\"Techniques not covered by the APT groups: {unobserved_techniques}\")\n",
    "\n",
    "# Optionally, print the list of techniques not observed\n",
    "unobserved_ids = set(all_technique_ids) - set(observed_technique_ids)\n",
    "print(f\"Techniques not observed: {unobserved_ids}\")\n",
    "\n"
   ]
  },
  {
   "cell_type": "code",
   "execution_count": 7,
   "id": "0f948286-ad98-4d9d-805f-395798b59dc3",
   "metadata": {},
   "outputs": [
    {
     "name": "stdout",
     "output_type": "stream",
     "text": [
      "Total techniques reported by MITRE: 637\n",
      "Total techniques observed in APT groups: 421\n",
      "Techniques not covered by the APT groups: 216\n",
      "\n",
      "Techniques not observed (ID and name):\n",
      "            ID                                               name\n",
      "0        T1548                  Abuse Elevation Control Mechanism\n",
      "2    T1548.004  Abuse Elevation Control Mechanism: Elevated Ex...\n",
      "3    T1548.001  Abuse Elevation Control Mechanism: Setuid and ...\n",
      "4    T1548.003  Abuse Elevation Control Mechanism: Sudo and Su...\n",
      "5    T1548.006  Abuse Elevation Control Mechanism: TCC Manipul...\n",
      "..         ...                                                ...\n",
      "613  T1550.004  Use Alternate Authentication Material: Web Ses...\n",
      "626  T1497.003  Virtualization/Sandbox Evasion: Time Based Eva...\n",
      "628      T1600                                  Weaken Encryption\n",
      "629  T1600.002         Weaken Encryption: Disable Crypto Hardware\n",
      "630  T1600.001                Weaken Encryption: Reduce Key Space\n",
      "\n",
      "[216 rows x 2 columns]\n"
     ]
    }
   ],
   "source": [
    "import pandas as pd\n",
    "\n",
    "# Load the first sheet ('techniques') containing the universe of all techniques\n",
    "csv_file = r\"C:\\Users\\Aakanksha Saha\\Downloads\\enterprise-attack-v15.1-techniques.xlsx\"\n",
    "df1 = pd.read_excel(csv_file, sheet_name='techniques')\n",
    "\n",
    "csv_file1 = r\"C:\\Users\\Aakanksha Saha\\Downloads\\enterprise-attack-v15.1-groups.xlsx\"\n",
    "# Load the second sheet ('techniques used') containing techniques observed among apt groups\n",
    "df2 = pd.read_excel(csv_file1, sheet_name='techniques used')\n",
    "\n",
    "# Extract both 'ID' and 'name' from the first sheet\n",
    "all_techniques = df1[['ID', 'name']]\n",
    "\n",
    "# Extract the target IDs from the second sheet (observed techniques)\n",
    "observed_technique_ids = df2['target ID'].unique()\n",
    "\n",
    "# Find the techniques not observed (IDs in df1 but not in df2)\n",
    "unobserved_techniques = all_techniques[~all_techniques['ID'].isin(observed_technique_ids)]\n",
    "\n",
    "# Calculate statistics\n",
    "total_techniques = len(all_techniques)\n",
    "observed_techniques = total_techniques - len(unobserved_techniques)\n",
    "unobserved_techniques_count = len(unobserved_techniques)\n",
    "\n",
    "# Output the stats\n",
    "print(f\"Total techniques reported by MITRE: {total_techniques}\")\n",
    "print(f\"Total techniques observed in APT groups: {observed_techniques}\")\n",
    "print(f\"Techniques not covered by the APT groups: {unobserved_techniques_count}\")\n",
    "\n",
    "# Display the techniques (ID and name) that are not observed\n",
    "print(\"\\nTechniques not observed (ID and name):\")\n",
    "print(unobserved_techniques)\n"
   ]
  },
  {
   "cell_type": "code",
   "execution_count": null,
   "id": "17980fd1-70e4-4977-85d4-bacd15677da6",
   "metadata": {},
   "outputs": [],
   "source": []
  }
 ],
 "metadata": {
  "kernelspec": {
   "display_name": "Python 3 (ipykernel)",
   "language": "python",
   "name": "python3"
  },
  "language_info": {
   "codemirror_mode": {
    "name": "ipython",
    "version": 3
   },
   "file_extension": ".py",
   "mimetype": "text/x-python",
   "name": "python",
   "nbconvert_exporter": "python",
   "pygments_lexer": "ipython3",
   "version": "3.12.6"
  }
 },
 "nbformat": 4,
 "nbformat_minor": 5
}
