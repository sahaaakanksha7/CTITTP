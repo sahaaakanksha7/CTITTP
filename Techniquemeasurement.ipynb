{
 "cells": [
  {
   "cell_type": "code",
   "execution_count": 7,
   "metadata": {},
   "outputs": [],
   "source": [
    "import os\n",
    "import re\n",
    "\n",
    "def count_files_with_techniques_and_subtechniques(folder_path):\n",
    "    # Counters for files with only techniques and with both techniques and sub-techniques\n",
    "    only_techniques_count = 0\n",
    "    techniques_and_subtechniques_count = 0\n",
    "\n",
    "    # Regex to extract TTP IDs (ignores extra metadata)\n",
    "    ttp_pattern = re.compile(r'\\bT\\d{4}(\\.\\d+)?\\b')\n",
    "\n",
    "    # Iterate over each file in the folder\n",
    "    for filename in os.listdir(folder_path):\n",
    "        file_path = os.path.join(folder_path, filename)\n",
    "        \n",
    "        # Skip if it's not a file\n",
    "        if not os.path.isfile(file_path):\n",
    "            continue\n",
    "\n",
    "        # Flags to check if the file has techniques and/or sub-techniques\n",
    "        has_technique = False\n",
    "        has_subtechnique = False\n",
    "\n",
    "        # Open the file and check each line for TTP patterns\n",
    "        with open(file_path, 'r') as file:\n",
    "            for line in file:\n",
    "                match = ttp_pattern.search(line)\n",
    "                if match:\n",
    "                    ttp_id = match.group(0)  # Extracts the TTP ID (e.g., \"T1027\" or \"T1003.004\")\n",
    "                    if \".\" in ttp_id:\n",
    "                        has_subtechnique = True  # Detected a sub-technique\n",
    "                    else:\n",
    "                        has_technique = True     # Detected a technique\n",
    "\n",
    "        # Update the counters based on what was found in the file\n",
    "        if has_technique and not has_subtechnique:\n",
    "            only_techniques_count += 1\n",
    "        elif has_technique and has_subtechnique:\n",
    "            techniques_and_subtechniques_count += 1\n",
    "\n",
    "    return only_techniques_count, techniques_and_subtechniques_count\n"
   ]
  },
  {
   "cell_type": "code",
   "execution_count": 8,
   "metadata": {},
   "outputs": [
    {
     "name": "stdout",
     "output_type": "stream",
     "text": [
      "Files with only techniques: 472\n",
      "Files with both techniques and sub-techniques: 523\n"
     ]
    }
   ],
   "source": [
    "folder_path = 'C:/Users/Aakanksha Saha/Documents/CTI_downloads/malpedia_20220718/malpedia_20220718/iocs'\n",
    "#folder_path = 'C:/Users/Aakanksha Saha/Documents/CTI_downloads/downloads/20241008_downloads/iocs2'\n",
    "\n",
    "only_techniques, both_techniques_and_subtechniques = count_files_with_techniques_and_subtechniques(folder_path)\n",
    "print(f\"Files with only techniques: {only_techniques}\")\n",
    "print(f\"Files with both techniques and sub-techniques: {both_techniques_and_subtechniques}\")"
   ]
  },
  {
   "cell_type": "code",
   "execution_count": 10,
   "metadata": {},
   "outputs": [],
   "source": [
    "import os\n",
    "import re\n",
    "\n",
    "def count_cumulative_unique_ttps(folder_path):\n",
    "    # Set to store cumulative unique TTP IDs across all files\n",
    "    cumulative_unique_ttps = set()\n",
    "\n",
    "    # Regex to capture full TTP IDs (anything starting with 'T' followed by numbers, possibly with dot and more numbers)\n",
    "    ttp_pattern = re.compile(r'\\bT\\d{4}(?:\\.\\d+)?\\b')\n",
    "\n",
    "    # Iterate over each file in the folder\n",
    "    for filename in os.listdir(folder_path):\n",
    "        file_path = os.path.join(folder_path, filename)\n",
    "        \n",
    "        # Skip if it's not a file\n",
    "        if not os.path.isfile(file_path):\n",
    "            continue\n",
    "\n",
    "        # Open the file and check each line for TTP patterns\n",
    "        with open(file_path, 'r') as file:\n",
    "            for line in file:\n",
    "                # Find all TTP IDs in the line and add them directly to the cumulative set\n",
    "                matches = ttp_pattern.findall(line)\n",
    "                cumulative_unique_ttps.update(matches)  # Add each unique TTP ID found in the line\n",
    "\n",
    "    # Count of unique TTPs across all files\n",
    "    num_cumulative_unique_ttps = len(cumulative_unique_ttps)\n",
    "\n",
    "    return num_cumulative_unique_ttps\n",
    "\n",
    "# Usage example:\n",
    "# folder_path = 'your/folder/path'\n",
    "# num_ttps = count_cumulative_unique_ttps(folder_path)\n",
    "# print(f\"Total unique TTP IDs across all files: {num_ttps}\")\n"
   ]
  },
  {
   "cell_type": "code",
   "execution_count": 11,
   "metadata": {},
   "outputs": [
    {
     "name": "stdout",
     "output_type": "stream",
     "text": [
      "Unique techniques: 752\n"
     ]
    }
   ],
   "source": [
    "folder_path = 'C:/Users/Aakanksha Saha/Documents/CTI_downloads/malpedia_20220718/malpedia_20220718/iocs'\n",
    "#folder_path = 'C:/Users/Aakanksha Saha/Documents/CTI_downloads/downloads/20241008_downloads/iocs2'\n",
    "num_techniques = count_cumulative_unique_ttps(folder_path)\n",
    "print(f\"Unique techniques: {num_techniques}\")\n",
    "#print(f\"Unique sub-techniques: {num_subtechniques}\")"
   ]
  },
  {
   "cell_type": "code",
   "execution_count": null,
   "metadata": {},
   "outputs": [],
   "source": []
  }
 ],
 "metadata": {
  "kernelspec": {
   "display_name": "Python 3 (ipykernel)",
   "language": "python",
   "name": "python3"
  },
  "language_info": {
   "codemirror_mode": {
    "name": "ipython",
    "version": 3
   },
   "file_extension": ".py",
   "mimetype": "text/x-python",
   "name": "python",
   "nbconvert_exporter": "python",
   "pygments_lexer": "ipython3",
   "version": "3.12.6"
  }
 },
 "nbformat": 4,
 "nbformat_minor": 4
}
