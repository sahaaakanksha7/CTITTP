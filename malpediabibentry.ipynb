{
 "cells": [
  {
   "cell_type": "code",
   "execution_count": 1,
   "id": "b425ac7c-92c7-47d1-ac32-be340233b42c",
   "metadata": {},
   "outputs": [
    {
     "ename": "UnicodeDecodeError",
     "evalue": "'charmap' codec can't decode byte 0x81 in position 13281: character maps to <undefined>",
     "output_type": "error",
     "traceback": [
      "\u001b[1;31m---------------------------------------------------------------------------\u001b[0m",
      "\u001b[1;31mUnicodeDecodeError\u001b[0m                        Traceback (most recent call last)",
      "Cell \u001b[1;32mIn[1], line 27\u001b[0m\n\u001b[0;32m     24\u001b[0m file2_path \u001b[38;5;241m=\u001b[39m \u001b[38;5;124m'\u001b[39m\u001b[38;5;124mmalpedia-db_2024-11-12.bib\u001b[39m\u001b[38;5;124m'\u001b[39m\n\u001b[0;32m     26\u001b[0m \u001b[38;5;66;03m# Get unique entries in file1 but not in file2\u001b[39;00m\n\u001b[1;32m---> 27\u001b[0m unique_entries \u001b[38;5;241m=\u001b[39m \u001b[43mfind_unique_entries\u001b[49m\u001b[43m(\u001b[49m\u001b[43mfile1_path\u001b[49m\u001b[43m,\u001b[49m\u001b[43m \u001b[49m\u001b[43mfile2_path\u001b[49m\u001b[43m)\u001b[49m\n\u001b[0;32m     29\u001b[0m \u001b[38;5;66;03m# Print the unique entries\u001b[39;00m\n\u001b[0;32m     30\u001b[0m \u001b[38;5;28mprint\u001b[39m(\u001b[38;5;124m\"\u001b[39m\u001b[38;5;124mEntries in file1 but not in file2:\u001b[39m\u001b[38;5;124m\"\u001b[39m)\n",
      "Cell \u001b[1;32mIn[1], line 15\u001b[0m, in \u001b[0;36mfind_unique_entries\u001b[1;34m(file1, file2)\u001b[0m\n\u001b[0;32m     14\u001b[0m \u001b[38;5;28;01mdef\u001b[39;00m \u001b[38;5;21mfind_unique_entries\u001b[39m(file1, file2):\n\u001b[1;32m---> 15\u001b[0m     entries_file1 \u001b[38;5;241m=\u001b[39m \u001b[43mextract_bib_entries\u001b[49m\u001b[43m(\u001b[49m\u001b[43mfile1\u001b[49m\u001b[43m)\u001b[49m\n\u001b[0;32m     16\u001b[0m     entries_file2 \u001b[38;5;241m=\u001b[39m extract_bib_entries(file2)\n\u001b[0;32m     18\u001b[0m     \u001b[38;5;66;03m# Find the entries in file1 that are not in file2\u001b[39;00m\n",
      "Cell \u001b[1;32mIn[1], line 6\u001b[0m, in \u001b[0;36mextract_bib_entries\u001b[1;34m(file_path)\u001b[0m\n\u001b[0;32m      4\u001b[0m \u001b[38;5;28;01mdef\u001b[39;00m \u001b[38;5;21mextract_bib_entries\u001b[39m(file_path):\n\u001b[0;32m      5\u001b[0m     \u001b[38;5;28;01mwith\u001b[39;00m \u001b[38;5;28mopen\u001b[39m(file_path, \u001b[38;5;124m'\u001b[39m\u001b[38;5;124mr\u001b[39m\u001b[38;5;124m'\u001b[39m) \u001b[38;5;28;01mas\u001b[39;00m file:\n\u001b[1;32m----> 6\u001b[0m         content \u001b[38;5;241m=\u001b[39m \u001b[43mfile\u001b[49m\u001b[38;5;241;43m.\u001b[39;49m\u001b[43mread\u001b[49m\u001b[43m(\u001b[49m\u001b[43m)\u001b[49m\n\u001b[0;32m      8\u001b[0m     \u001b[38;5;66;03m# Regular expression to capture the entry key (e.g., 037:20190320:apt38:4c7f1d4)\u001b[39;00m\n\u001b[0;32m      9\u001b[0m     entry_pattern \u001b[38;5;241m=\u001b[39m \u001b[38;5;124mr\u001b[39m\u001b[38;5;124m'\u001b[39m\u001b[38;5;124m@.*?\u001b[39m\u001b[38;5;124m{\u001b[39m\u001b[38;5;124m([^,]+),\u001b[39m\u001b[38;5;124m'\u001b[39m\n",
      "File \u001b[1;32m~\\AppData\\Local\\Programs\\Python\\Python312\\Lib\\encodings\\cp1252.py:23\u001b[0m, in \u001b[0;36mIncrementalDecoder.decode\u001b[1;34m(self, input, final)\u001b[0m\n\u001b[0;32m     22\u001b[0m \u001b[38;5;28;01mdef\u001b[39;00m \u001b[38;5;21mdecode\u001b[39m(\u001b[38;5;28mself\u001b[39m, \u001b[38;5;28minput\u001b[39m, final\u001b[38;5;241m=\u001b[39m\u001b[38;5;28;01mFalse\u001b[39;00m):\n\u001b[1;32m---> 23\u001b[0m     \u001b[38;5;28;01mreturn\u001b[39;00m \u001b[43mcodecs\u001b[49m\u001b[38;5;241;43m.\u001b[39;49m\u001b[43mcharmap_decode\u001b[49m\u001b[43m(\u001b[49m\u001b[38;5;28;43minput\u001b[39;49m\u001b[43m,\u001b[49m\u001b[38;5;28;43mself\u001b[39;49m\u001b[38;5;241;43m.\u001b[39;49m\u001b[43merrors\u001b[49m\u001b[43m,\u001b[49m\u001b[43mdecoding_table\u001b[49m\u001b[43m)\u001b[49m[\u001b[38;5;241m0\u001b[39m]\n",
      "\u001b[1;31mUnicodeDecodeError\u001b[0m: 'charmap' codec can't decode byte 0x81 in position 13281: character maps to <undefined>"
     ]
    }
   ],
   "source": [
    "import re\n",
    "\n",
    "# Function to extract BibTeX entries from a file\n",
    "def extract_bib_entries(file_path):\n",
    "    with open(file_path, 'r') as file:\n",
    "        content = file.read()\n",
    "\n",
    "    # Regular expression to capture the entry key (e.g., 037:20190320:apt38:4c7f1d4)\n",
    "    entry_pattern = r'@.*?{([^,]+),'\n",
    "    entries = re.findall(entry_pattern, content)\n",
    "    return set(entries)\n",
    "\n",
    "# Function to find entries in file1 that are not in file2\n",
    "def find_unique_entries(file1, file2):\n",
    "    entries_file1 = extract_bib_entries(file1)\n",
    "    entries_file2 = extract_bib_entries(file2)\n",
    "\n",
    "    # Find the entries in file1 that are not in file2\n",
    "    unique_entries = entries_file1 - entries_file2\n",
    "    return unique_entries\n",
    "\n",
    "# Paths to your two BibTeX files\n",
    "file1_path = 'malpedia-db_2022-07-18.bib'\n",
    "file2_path = 'malpedia-db_2024-11-12.bib'\n",
    "\n",
    "# Get unique entries in file1 but not in file2\n",
    "unique_entries = find_unique_entries(file1_path, file2_path)\n",
    "\n",
    "# Print the unique entries\n",
    "print(\"Entries in file1 but not in file2:\")\n",
    "for entry in unique_entries:\n",
    "    print(entry)\n"
   ]
  },
  {
   "cell_type": "code",
   "execution_count": null,
   "id": "1b07d0e2-e088-4314-b248-c94ae1e2af57",
   "metadata": {},
   "outputs": [],
   "source": []
  }
 ],
 "metadata": {
  "kernelspec": {
   "display_name": "Python 3 (ipykernel)",
   "language": "python",
   "name": "python3"
  },
  "language_info": {
   "codemirror_mode": {
    "name": "ipython",
    "version": 3
   },
   "file_extension": ".py",
   "mimetype": "text/x-python",
   "name": "python",
   "nbconvert_exporter": "python",
   "pygments_lexer": "ipython3",
   "version": "3.12.6"
  }
 },
 "nbformat": 4,
 "nbformat_minor": 5
}
