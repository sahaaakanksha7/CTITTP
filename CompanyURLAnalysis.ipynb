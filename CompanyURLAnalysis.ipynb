{
 "cells": [
  {
   "cell_type": "code",
   "execution_count": 24,
   "id": "e6c95041-be04-4bdd-83e6-c279eac36ede",
   "metadata": {},
   "outputs": [],
   "source": [
    "import json\n",
    "from urllib.parse import urlparse\n",
    "\n",
    "def extract_fqdn_and_date(file_path: str):\n",
    "    \"\"\"\n",
    "    Extracts the FQDN from the 'url' field and the 'date' from the provided JSON lines.\n",
    "\n",
    "    Args:\n",
    "        file_path (str): Path to the file containing JSON entries.\n",
    "\n",
    "    Returns:\n",
    "        list: A list of tuples containing the FQDN and date for each entry.\n",
    "    \"\"\"\n",
    "    results = []\n",
    "\n",
    "    with open(file_path, 'r') as file:\n",
    "        # Read each line of the JSONL file\n",
    "        for line in file:\n",
    "            entry = json.loads(line)\n",
    "            # Extract the FQDN from the 'url'\n",
    "            url = entry.get(\"url\", \"\")\n",
    "            parsed_url = urlparse(url)\n",
    "            fqdn = parsed_url.netloc  # Get the FQDN part from the URL\n",
    "\n",
    "            # Extract the 'date'\n",
    "            date = entry.get(\"date\", \"\")\n",
    "\n",
    "            # Append the FQDN and date to the results\n",
    "            results.append((fqdn, date))\n",
    "\n",
    "    return results"
   ]
  },
  {
   "cell_type": "code",
   "execution_count": 25,
   "id": "ceb35681-84ef-4507-8ece-91ce1734f67d",
   "metadata": {},
   "outputs": [
    {
     "name": "stdout",
     "output_type": "stream",
     "text": [
      "1666\n"
     ]
    }
   ],
   "source": [
    "# Example Usage\n",
    "file_path = r\"C:\\Users\\Aakanksha Saha\\Documents\\CTI_downloads\\malpedia_20220718\\malpedia_20220718\\malpedia-db_2022-07-18_downloader.jsonl\"  # Replace with the actual file path\n",
    "malpedia_fqdn_and_dates = extract_fqdn_and_date(file_path)\n",
    "print(len(set(fqdn for fqdn, date in malpedia_fqdn_and_dates)))\n",
    "# Display the results\n",
    "#for fqdn, date in fqdn_and_dates:\n",
    "#    print(f\"FQDN: {fqdn}, Date: {date}\")\n"
   ]
  },
  {
   "cell_type": "code",
   "execution_count": 22,
   "id": "6093994e-322e-4c64-b435-ed01b27d49d6",
   "metadata": {},
   "outputs": [],
   "source": [
    "import json\n",
    "from urllib.parse import urlparse\n",
    "\n",
    "def extract_successful_urls(file_path: str):\n",
    "    \"\"\"\n",
    "    Extracts the FQDN from the 'url' field only for entries where the 'download_status' is 200 (successful).\n",
    "\n",
    "    Args:\n",
    "        file_path (str): Path to the file containing JSON entries.\n",
    "\n",
    "    Returns:\n",
    "        list: A list of FQDNs for entries with a successful download status.\n",
    "    \"\"\"\n",
    "    successful_urls = []\n",
    "\n",
    "    with open(file_path, 'r') as file:\n",
    "        # Read each line of the JSONL file\n",
    "        for line in file:\n",
    "            entry = json.loads(line)\n",
    "\n",
    "            # Check if 'download_status' is 200\n",
    "            if entry.get('download_status') == 200:\n",
    "                # Extract the FQDN from the 'url'\n",
    "                url = entry.get(\"url\", \"\")\n",
    "                parsed_url = urlparse(url)\n",
    "                fqdn = parsed_url.netloc  # Get the FQDN part from the URL\n",
    "\n",
    "                # Append the FQDN to the list\n",
    "                if fqdn:\n",
    "                    successful_urls.append(fqdn)\n",
    "\n",
    "    return successful_urls"
   ]
  },
  {
   "cell_type": "code",
   "execution_count": 23,
   "id": "110ea9ab-3190-43a5-b592-cbca04f1629a",
   "metadata": {},
   "outputs": [
    {
     "name": "stdout",
     "output_type": "stream",
     "text": [
      "179\n"
     ]
    }
   ],
   "source": [
    "# Example Usage\n",
    "file_path = r\"C:\\Users\\Aakanksha Saha\\Documents\\CTI_downloads\\downloads\\20241008_downloads.jsonl\"  # Replace with the actual file path\n",
    "mitre_successful_fqdns = extract_successful_urls(file_path)\n",
    "print(len(set(mitre_successful_fqdns)))\n",
    "# Display the results\n",
    "#for fqdn in successful_fqdns:\n",
    "#    print(f\"FQDN: {fqdn}\")"
   ]
  },
  {
   "cell_type": "code",
   "execution_count": 28,
   "id": "00cdb7de-6868-4c59-bb6e-4ed4fbc03a4c",
   "metadata": {},
   "outputs": [],
   "source": [
    "def compare_fqdns(malpedia_fqdn_and_dates: list, mitre_successful_fqdns: list):\n",
    "    \"\"\"\n",
    "    Compares two sets of FQDNs, returning the overlap, A-B, B-A, and their counts.\n",
    "\n",
    "    Args:\n",
    "        fqdn_and_dates (list): A list of tuples containing FQDN and date.\n",
    "        successful_fqdns (list): A list of FQDNs with successful download statuses.\n",
    "\n",
    "    Returns:\n",
    "        dict: A dictionary with the overlap, A-B, B-A, and counts for each.\n",
    "    \"\"\"\n",
    "    # Extract unique FQDNs from both lists\n",
    "    unique_fqdn_dates = set(fqdn for fqdn, date in malpedia_fqdn_and_dates)  # Unique FQDNs from fqdn_and_dates\n",
    "    unique_successful_fqdns = set(mitre_successful_fqdns)  # Unique FQDNs from successful_fqdns\n",
    "\n",
    "    # Find the overlap\n",
    "    overlap = unique_fqdn_dates.intersection(unique_successful_fqdns)\n",
    "\n",
    "    # Find A - B (FQDNs in fqdn_and_dates but not in successful_fqdns)\n",
    "    a_minus_b = unique_fqdn_dates.difference(unique_successful_fqdns)\n",
    "\n",
    "    # Find B - A (FQDNs in successful_fqdns but not in fqdn_and_dates)\n",
    "    b_minus_a = unique_successful_fqdns.difference(unique_fqdn_dates)\n",
    "\n",
    "    # Return the results along with the counts\n",
    "    return {\n",
    "        'overlap': overlap,\n",
    "        'A-B': a_minus_b,\n",
    "        'B-A': b_minus_a,\n",
    "        'overlap_count': len(overlap),\n",
    "        'A-B_count': len(a_minus_b),\n",
    "        'B-A_count': len(b_minus_a),\n",
    "    }\n"
   ]
  },
  {
   "cell_type": "code",
   "execution_count": 29,
   "id": "5a9b790e-7adb-47b5-9bd6-d9d156dfcdf0",
   "metadata": {},
   "outputs": [
    {
     "name": "stdout",
     "output_type": "stream",
     "text": [
      "Overlap (A ∩ B): {'www.trendmicro.de', 'citizenlab.ca', 'query.prod.cms.rt.microsoft.com', 'blog.checkpoint.com', 'www.rapid7.com', 'businessinsights.bitdefender.com', 'adversary.crowdstrike.com', 'blog.morphisec.com', 'www.fox-it.com', 'blog.qualys.com', 'www.trustwave.com', 'www.cybercom.mil', 'blog.talosintelligence.com', 'www.cylance.com', 'www.slideshare.net', 'www.lacework.com', 'blogs.microsoft.com', 'blog.certfa.com', 'www.ironnet.com', 'blog.aquasec.com', 'www.proofpoint.com', 'www.recordedfuture.com', 'blog.malwarebytes.com', 'www.talent-jump.com', 'www.gov.uk', 'documents.trendmicro.com', 'noticeofpleadings.com', 'www.youtube.com', 'www.symantec.com', 'securityaffairs.co', 'home.treasury.gov', 'threatpost.com', 'unit42.paloaltonetworks.com', 'msrc.microsoft.com', 'blogs.cisco.com', 'thehackernews.com', 'www.bbc.com', 'cybleinc.com', 'cdn0.vox-cdn.com', 'www.us-cert.gov', 'www.forcepoint.com', 'blog-assets.f-secure.com', 'download.bitdefender.com', 'community.broadcom.com', 'www.sentinelone.com', 'go.recordedfuture.com', 'objective-see.com', 'www.cert.ssi.gouv.fr', 'www.wired.com', 'blogs.technet.microsoft.com', 'securingtomorrow.mcafee.com', 'iranthreats.github.io', 'www.intezer.com', 'research.nccgroup.com', 'www.fireeye.com', 'www.volexity.com', 'www.ptsecurity.com', 'www.secureworks.com', 'us-cert.cisa.gov', 'vblocalhost.com', 'docs.microsoft.com', 'www.clearskysec.com', 'blogs.jpcert.or.jp', 'www.domaintools.com', 'www.bleepingcomputer.com', 'www.europol.europa.eu', 'blog.google', 'www.ncsc.gov.uk', 'www.bitdefender.com', 'www.rsa.com', 'therecord.media', 'download.microsoft.com', 'www.darkreading.com', 'msrc-blog.microsoft.com', 'www.cybereason.com', 'www.mcafee.com', 'www.cyberscoop.com', 'netzpolitik.org', 'www.welivesecurity.com', 'insight-jp.nttsecurity.com', 'threatvector.cylance.com', 'www.blackberry.com', 'www.f-secure.com', 'www.brighttalk.com', 'assets.sentinelone.com', 'www.rewterz.com', 'blog.360totalsecurity.com', 'www.crowdstrike.com', 'www.whitehouse.gov', 'threatconnect.com', 'cycraft.com', 'security.web.cern.ch', 'www.esentire.com', 'symantec-enterprise-blogs.security.com', 'www.mandiant.com', 'foxitsecurity.files.wordpress.com', 'arcticwolf.com', 'www.paloaltonetworks.com', 'blog.netlab.360.com', 'www.zdnet.com', 'www.deepinstinct.com', 'www.eweek.com', 'twitter.com', 'logrhythm.com', 'info.lookout.com', 'www.zscaler.com', 'www.accenture.com', 'cdn2.hubspot.net', 'www.justice.gov', 'www.uptycs.com', 'web.archive.org', 'cloudblogs.microsoft.com', 'blog.trendmicro.com', 'go.crowdstrike.com', 'blog.alyac.co.kr', 'ti.dbappsecurity.com.cn', 'labs.sentinelone.com', 'www.flashpoint-intel.com', 'blog.bushidotoken.net', 'pylos.co', 'github.com', 'lab52.io', 'arstechnica.com', 'redcanary.com', 'thedfirreport.com', 'usa.visa.com', 'f.hubspotusercontent30.net', 'reaqta.com', 'www.pwc.co.uk', 'www.threatconnect.com', 'blog.sygnia.co', 'research.checkpoint.com', 'attack.mitre.org', 'docs.broadcom.com', 'media.kasperskycontenthub.com', 'www.cadosecurity.com', 'www.trendmicro.com', 'www.anomali.com', 'www.cisa.gov', 'www.microsoft.com', 'www.dragos.com', 'www.forbes.com', 'www.infosecurity-magazine.com', 'go.group-ib.com', 'cdn-cybersecurity.att.com', 'www.avira.com', 'news.sophos.com', 'info.phishlabs.com', 'securelist.com', 'www.leonardo.com', 'www.ic3.gov', 'vb2020.vblocalhost.com', 'www.virusbulletin.com', 'securityintelligence.com', 'blogs.blackberry.com', 'dragos.com', 'media.defense.gov', 'researchcenter.paloaltonetworks.com'}, Count: 158\n",
      "A - B (In malpedia but not in MITRE) Count: 1508\n",
      "B - A (In MITRE but not in Malpedia): {'www.malwarebytes.com', 'airbus-cyber-security.com', 'www.iranwatch.org', 'crowdstrike.lookbookhq.com', 'www.amnestyusa.org', 'citizenlab.org', 'carnal0wnage.attackresearch.com', 'cyberscoop.com', 'learn.microsoft.com', 'telefonicatech.com', 'www.issuemakerslab.com', 'usa.kaspersky.com', 'blogs.forcepoint.com', 'blog.scilabs.mx', '401trg.github.io', 'www.threatminer.org', 'recon.cx', 'www.threatstream.com', 'tools.kali.org', 'fortune.com', 'www.csmonitor.com'}, Count: 21\n"
     ]
    }
   ],
   "source": [
    "# Compare the FQDNs\n",
    "comparison_results = compare_fqdns(malpedia_fqdn_and_dates, mitre_successful_fqdns)\n",
    "\n",
    "# Display the results\n",
    "print(f\"Overlap (A ∩ B): {comparison_results['overlap']}, Count: {comparison_results['overlap_count']}\")\n",
    "#print(f\"Overlap (A ∩ B) Count: {comparison_results['overlap_count']}\")\n",
    "#print(f\"A - B (In malpedia but not in MITRE): {comparison_results['A-B']}, Count: {comparison_results['A-B_count']}\")\n",
    "print(f\"A - B (In malpedia but not in MITRE) Count: {comparison_results['A-B_count']}\")\n",
    "print(f\"B - A (In MITRE but not in Malpedia): {comparison_results['B-A']}, Count: {comparison_results['B-A_count']}\")\n"
   ]
  },
  {
   "cell_type": "code",
   "execution_count": null,
   "id": "c7724bff-7cbf-4efa-a5c1-2074c492ec10",
   "metadata": {},
   "outputs": [],
   "source": []
  }
 ],
 "metadata": {
  "kernelspec": {
   "display_name": "Python 3 (ipykernel)",
   "language": "python",
   "name": "python3"
  },
  "language_info": {
   "codemirror_mode": {
    "name": "ipython",
    "version": 3
   },
   "file_extension": ".py",
   "mimetype": "text/x-python",
   "name": "python",
   "nbconvert_exporter": "python",
   "pygments_lexer": "ipython3",
   "version": "3.12.6"
  }
 },
 "nbformat": 4,
 "nbformat_minor": 5
}
