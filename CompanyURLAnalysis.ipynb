{
 "cells": [
  {
   "cell_type": "code",
   "execution_count": 8,
   "id": "e6c95041-be04-4bdd-83e6-c279eac36ede",
   "metadata": {},
   "outputs": [],
   "source": [
    "import json\n",
    "from urllib.parse import urlparse\n",
    "\n",
    "def extract_fqdn_and_date(file_paths: list):\n",
    "    \"\"\"\n",
    "    Extracts the FQDN from the 'url' field and the 'date' from the provided JSON lines\n",
    "    in multiple files.\n",
    "\n",
    "    Args:\n",
    "        file_paths (list): List of paths to files containing JSON entries.\n",
    "\n",
    "    Returns:\n",
    "        list: A list of tuples containing the FQDN and date for each entry from all files.\n",
    "    \"\"\"\n",
    "    results = []\n",
    "\n",
    "    for file_path in file_paths:\n",
    "        with open(file_path, 'r') as file:\n",
    "            # Read each line of the JSONL file\n",
    "            for line in file:\n",
    "                entry = json.loads(line)\n",
    "                # Extract the FQDN from the 'url'\n",
    "                url = entry.get(\"url\", \"\")\n",
    "                parsed_url = urlparse(url)\n",
    "                fqdn = parsed_url.netloc  # Get the FQDN part from the URL\n",
    "\n",
    "                # Extract the 'date'\n",
    "                date = entry.get(\"date\", \"\")\n",
    "\n",
    "                # Append the FQDN and date to the results\n",
    "                results.append((fqdn, date))\n",
    "\n",
    "    return results"
   ]
  },
  {
   "cell_type": "code",
   "execution_count": 9,
   "id": "ceb35681-84ef-4507-8ece-91ce1734f67d",
   "metadata": {},
   "outputs": [
    {
     "name": "stdout",
     "output_type": "stream",
     "text": [
      "2002\n"
     ]
    }
   ],
   "source": [
    "# File paths\n",
    "file_path1 = r\"C:\\Users\\ricewater\\Documents\\CTIDownloads\\malpedia_20220718\\malpedia_20220718\\malpedia-db_2022-07-18_downloader.jsonl\"\n",
    "file_path2 = r\"C:\\Users\\ricewater\\Documents\\CTIDownloads\\20241204_malpedia_downloads\\20241204_downloads.jsonl\"\n",
    "\n",
    "# Extract FQDNs and dates from both files\n",
    "malpedia_fqdn_and_dates = extract_fqdn_and_date([file_path1, file_path2])\n",
    "\n",
    "# Print the count of unique FQDNs across both files\n",
    "print(len(set(fqdn for fqdn, date in malpedia_fqdn_and_dates)))\n"
   ]
  },
  {
   "cell_type": "code",
   "execution_count": 10,
   "id": "6093994e-322e-4c64-b435-ed01b27d49d6",
   "metadata": {},
   "outputs": [],
   "source": [
    "import json\n",
    "from urllib.parse import urlparse\n",
    "\n",
    "def extract_successful_urls(file_path: str):\n",
    "    \"\"\"\n",
    "    Extracts the FQDN from the 'url' field only for entries where the 'download_status' is 200 (successful).\n",
    "\n",
    "    Args:\n",
    "        file_path (str): Path to the file containing JSON entries.\n",
    "\n",
    "    Returns:\n",
    "        list: A list of FQDNs for entries with a successful download status.\n",
    "    \"\"\"\n",
    "    successful_urls = []\n",
    "\n",
    "    with open(file_path, 'r') as file:\n",
    "        # Read each line of the JSONL file\n",
    "        for line in file:\n",
    "            entry = json.loads(line)\n",
    "\n",
    "            # Check if 'download_status' is 200\n",
    "            if entry.get('download_status') == 200:\n",
    "                # Extract the FQDN from the 'url'\n",
    "                url = entry.get(\"url\", \"\")\n",
    "                parsed_url = urlparse(url)\n",
    "                fqdn = parsed_url.netloc  # Get the FQDN part from the URL\n",
    "\n",
    "                # Append the FQDN to the list\n",
    "                if fqdn:\n",
    "                    successful_urls.append(fqdn)\n",
    "\n",
    "    return successful_urls"
   ]
  },
  {
   "cell_type": "code",
   "execution_count": 14,
   "id": "110ea9ab-3190-43a5-b592-cbca04f1629a",
   "metadata": {},
   "outputs": [
    {
     "name": "stdout",
     "output_type": "stream",
     "text": [
      "179\n"
     ]
    }
   ],
   "source": [
    "# Example Usage for MITRE\n",
    "file_path = r\"C:\\Users\\ricewater\\Documents\\CTIDownloads\\downloads\\downloads\\20241008_downloads.jsonl\" \n",
    "mitre_successful_fqdns = extract_successful_urls(file_path)\n",
    "print(len(set(mitre_successful_fqdns)))\n",
    "# Display the results\n",
    "#for fqdn in successful_fqdns:\n",
    "#    print(f\"FQDN: {fqdn}\")"
   ]
  },
  {
   "cell_type": "code",
   "execution_count": 23,
   "id": "00cdb7de-6868-4c59-bb6e-4ed4fbc03a4c",
   "metadata": {},
   "outputs": [],
   "source": [
    "from collections import Counter\n",
    "\n",
    "def compare_fqdns(malpedia_fqdn_and_dates: list, mitre_successful_fqdns: list):\n",
    "    \"\"\"\n",
    "    Compares two sets of FQDNs, returning the overlap, A-B, B-A, and their counts.\n",
    "\n",
    "    Args:\n",
    "        fqdn_and_dates (list): A list of tuples containing FQDN and date.\n",
    "        successful_fqdns (list): A list of FQDNs with successful download statuses.\n",
    "\n",
    "    Returns:\n",
    "        dict: A dictionary with the overlap, A-B, B-A, and counts for each.\n",
    "    \"\"\"\n",
    "    # Extract unique FQDNs from both lists\n",
    "    unique_fqdn_dates = set(fqdn for fqdn, date in malpedia_fqdn_and_dates)  # Unique FQDNs from fqdn_and_dates\n",
    "    unique_successful_fqdns = set(mitre_successful_fqdns)  # Unique FQDNs from successful_fqdns\n",
    "\n",
    "    # Find the overlap\n",
    "    overlap = unique_fqdn_dates.intersection(unique_successful_fqdns)\n",
    "\n",
    "    # Find A - B (FQDNs in fqdn_and_dates but not in successful_fqdns)\n",
    "    a_minus_b = unique_fqdn_dates.difference(unique_successful_fqdns)\n",
    "\n",
    "    # Find B - A (FQDNs in successful_fqdns but not in fqdn_and_dates)\n",
    "    b_minus_a = unique_successful_fqdns.difference(unique_fqdn_dates)\n",
    "\n",
    "    #Count the frequencies of FQDNs in Malpedia and MITRE lists\n",
    "    malpedia_fqdn_counter = Counter(fqdn for fqdn, date in malpedia_fqdn_and_dates)\n",
    "    mitre_fqdn_counter = Counter(mitre_successful_fqdns)\n",
    "\n",
    "    # Get the top 5 FQDNs by frequency in Malpedia, MITRE, and overlap\n",
    "    top_malpedia_fqdns = malpedia_fqdn_counter.most_common(10)\n",
    "    top_mitre_fqdns = mitre_fqdn_counter.most_common(10)\n",
    " \n",
    "\n",
    "    # Return the results along with the counts\n",
    "    return {\n",
    "        'overlap': overlap,\n",
    "        'A-B': a_minus_b,\n",
    "        'B-A': b_minus_a,\n",
    "        'overlap_count': len(overlap),\n",
    "        'A-B_count': len(a_minus_b),\n",
    "        'B-A_count': len(b_minus_a),\n",
    "        'top_malpedia_fqdns': top_malpedia_fqdns,\n",
    "        'top_mitre_fqdns': top_mitre_fqdns,\n",
    "    }\n"
   ]
  },
  {
   "cell_type": "code",
   "execution_count": 24,
   "id": "5a9b790e-7adb-47b5-9bd6-d9d156dfcdf0",
   "metadata": {},
   "outputs": [
    {
     "name": "stdout",
     "output_type": "stream",
     "text": [
      "Overlap (A ∩ B): {'www.recordedfuture.com', 'lab52.io', 'www.sentinelone.com', 'www.cybercom.mil', 'www.anomali.com', 'securityintelligence.com', 'attack.mitre.org', 'threatpost.com', 'www.forcepoint.com', 'blog.360totalsecurity.com', 'www.gov.uk', 'securingtomorrow.mcafee.com', 'www.esentire.com', 'www.ic3.gov', 'go.crowdstrike.com', 'msrc.microsoft.com', 'iranthreats.github.io', 'assets.sentinelone.com', 'www.cisa.gov', 'thedfirreport.com', 'www.mandiant.com', 'www.zscaler.com', 'unit42.paloaltonetworks.com', 'blog.qualys.com', 'blog.certfa.com', 'www.welivesecurity.com', 'msrc-blog.microsoft.com', 'citizenlab.ca', 'www.us-cert.gov', 'blog.netlab.360.com', 'docs.broadcom.com', 'www.blackberry.com', 'www.ironnet.com', 'www.microsoft.com', 'www.lacework.com', 'www.crowdstrike.com', 'cycraft.com', 'www.darkreading.com', 'info.phishlabs.com', 'www.dragos.com', 'cdn2.hubspot.net', 'arcticwolf.com', 'query.prod.cms.rt.microsoft.com', 'www.malwarebytes.com', 'news.sophos.com', 'www.wired.com', 'adversary.crowdstrike.com', 'blog.morphisec.com', 'www.issuemakerslab.com', 'www.avira.com', 'arstechnica.com', 'blog.talosintelligence.com', 'therecord.media', 'www.forbes.com', 'blog.trendmicro.com', 'securityaffairs.co', 'www.cert.ssi.gouv.fr', 'logrhythm.com', 'www.europol.europa.eu', 'researchcenter.paloaltonetworks.com', 'research.checkpoint.com', 'www.cadosecurity.com', 'www.infosecurity-magazine.com', 'security.web.cern.ch', 'learn.microsoft.com', 'www.trendmicro.com', 'redcanary.com', 'media.kasperskycontenthub.com', 'blog.aquasec.com', 'usa.visa.com', 'threatconnect.com', 'www.slideshare.net', 'www.intezer.com', 'blogs.microsoft.com', 'blogs.jpcert.or.jp', 'download.bitdefender.com', 'blogs.technet.microsoft.com', 'cloudblogs.microsoft.com', 'go.recordedfuture.com', 'netzpolitik.org', 'blog.scilabs.mx', 'www.whitehouse.gov', 'community.broadcom.com', 'www.paloaltonetworks.com', 'www.justice.gov', 'www.uptycs.com', 'dragos.com', 'www.volexity.com', 'web.archive.org', 'www.mcafee.com', 'cdn-cybersecurity.att.com', 'noticeofpleadings.com', 'reaqta.com', 'www.trustwave.com', 'home.treasury.gov', 'cybleinc.com', 'www.bleepingcomputer.com', 'www.fox-it.com', 'f.hubspotusercontent30.net', 'cyberscoop.com', 'docs.microsoft.com', 'objective-see.com', 'symantec-enterprise-blogs.security.com', 'github.com', 'pylos.co', 'www.symantec.com', 'foxitsecurity.files.wordpress.com', 'usa.kaspersky.com', 'blogs.cisco.com', 'blog.malwarebytes.com', 'www.pwc.co.uk', 'documents.trendmicro.com', 'www.ncsc.gov.uk', 'www.domaintools.com', 'www.f-secure.com', 'blog.checkpoint.com', 'www.rewterz.com', 'go.group-ib.com', 'blog.bushidotoken.net', 'threatvector.cylance.com', 'blog.alyac.co.kr', 'download.microsoft.com', 'us-cert.cisa.gov', 'www.fireeye.com', 'twitter.com', 'www.leonardo.com', 'thehackernews.com', 'www.bitdefender.com', 'www.bbc.com', 'info.lookout.com', 'www.flashpoint-intel.com', 'www.rapid7.com', 'cdn0.vox-cdn.com', 'www.deepinstinct.com', 'www.secureworks.com', 'www.accenture.com', 'www.eweek.com', 'www.youtube.com', 'blog-assets.f-secure.com', 'securelist.com', 'www.proofpoint.com', 'labs.sentinelone.com', 'businessinsights.bitdefender.com', 'www.cylance.com', 'ti.dbappsecurity.com.cn', 'www.clearskysec.com', 'blogs.blackberry.com', 'www.ptsecurity.com', 'www.cybereason.com', 'research.nccgroup.com', 'blog.google', 'insight-jp.nttsecurity.com', 'vb2020.vblocalhost.com', 'www.cyberscoop.com', 'www.virusbulletin.com', 'www.threatconnect.com', 'www.talent-jump.com', 'blog.sygnia.co', 'www.rsa.com', 'www.brighttalk.com', 'www.trendmicro.de', 'media.defense.gov', 'www.zdnet.com', 'vblocalhost.com'}, Count: 164\n",
      "A - B (In Malpedia but not in MITRE) Count: 1838\n",
      "B - A (In MITRE but not in Malpedia): {'www.threatminer.org', 'recon.cx', 'fortune.com', '401trg.github.io', 'airbus-cyber-security.com', 'carnal0wnage.attackresearch.com', 'www.amnestyusa.org', 'telefonicatech.com', 'blogs.forcepoint.com', 'crowdstrike.lookbookhq.com', 'www.iranwatch.org', 'tools.kali.org', 'citizenlab.org', 'www.threatstream.com', 'www.csmonitor.com'}, Count: 15\n",
      "\n",
      "Top FQDNs in Malpedia (by frequency):\n",
      "twitter.com: 574 times\n",
      "www.bleepingcomputer.com: 447 times\n",
      "securelist.com: 396 times\n",
      "github.com: 358 times\n",
      "unit42.paloaltonetworks.com: 321 times\n",
      "www.trendmicro.com: 309 times\n",
      "www.welivesecurity.com: 281 times\n",
      "medium.com: 238 times\n",
      "www.youtube.com: 235 times\n",
      "blog.talosintelligence.com: 219 times\n",
      "\n",
      "Top FQDNs in MITRE (by frequency):\n",
      "securelist.com: 74 times\n",
      "www.secureworks.com: 74 times\n",
      "www.welivesecurity.com: 58 times\n",
      "researchcenter.paloaltonetworks.com: 53 times\n",
      "web.archive.org: 50 times\n",
      "www.microsoft.com: 46 times\n",
      "www.crowdstrike.com: 46 times\n",
      "unit42.paloaltonetworks.com: 38 times\n",
      "www.proofpoint.com: 36 times\n",
      "www.mandiant.com: 35 times\n"
     ]
    }
   ],
   "source": [
    "# Compare the FQDNs\n",
    "comparison_results = compare_fqdns(malpedia_fqdn_and_dates, mitre_successful_fqdns)\n",
    "\n",
    "# Display the results\n",
    "print(f\"Overlap (A ∩ B): {comparison_results['overlap']}, Count: {comparison_results['overlap_count']}\")\n",
    "print(f\"A - B (In Malpedia but not in MITRE) Count: {comparison_results['A-B_count']}\")\n",
    "print(f\"B - A (In MITRE but not in Malpedia): {comparison_results['B-A']}, Count: {comparison_results['B-A_count']}\")\n",
    "\n",
    "# Print the top FQDNs by frequency\n",
    "print(\"\\nTop FQDNs in Malpedia (by frequency):\")\n",
    "for fqdn, count in comparison_results['top_malpedia_fqdns']:\n",
    "    print(f\"{fqdn}: {count} times\")\n",
    "\n",
    "print(\"\\nTop FQDNs in MITRE (by frequency):\")\n",
    "for fqdn, count in comparison_results['top_mitre_fqdns']:\n",
    "    print(f\"{fqdn}: {count} times\")\n",
    "\n",
    "\n"
   ]
  },
  {
   "cell_type": "code",
   "execution_count": 25,
   "id": "c7724bff-7cbf-4efa-a5c1-2074c492ec10",
   "metadata": {},
   "outputs": [
    {
     "name": "stdout",
     "output_type": "stream",
     "text": [
      "Intersection of second-level domains: {'noticeofpleadings', 'paloaltonetworks', 'bbc', 'cylance', 'pwc', 'sygnia', 'f-secure', 'jpcert', 'cybereason', 'mandiant', 'defense', 'citizenlab', 'symantec', 'malwarebytes', 'forbes', 'lookout', 'github', 'issuemakerslab', 'cycraft', 'dragos', 'archive', 'nttsecurity', 'bitdefender', 'thehackernews', '360', 'rewterz', 'darkreading', 'att', 'blog', 'deepinstinct', 'infosecurity-magazine', 'welivesecurity', 'kaspersky', 'logrhythm', '360totalsecurity', 'trustwave', 'lab52', 'certfa', 'arstechnica', 'twitter', 'trendmicro', 'rsa', 'recordedfuture', 'youtube', 'morphisec', 'whitehouse', 'kasperskycontenthub', 'scilabs', 'secureworks', 'ncsc', 'broadcom', 'europa', 'securityintelligence', 'uptycs', 'checkpoint', 'virusbulletin', 'brighttalk', 'flashpoint-intel', 'ssi', 'wordpress', 'eweek', 'fox-it', 'securelist', 'zscaler', 'vblocalhost', 'esentire', 'clearskysec', 'hubspotusercontent30', 'fireeye', 'justice', 'mcafee', 'cybercom', 'sentinelone', 'bleepingcomputer', 'security', 'www', 'threatpost', 'qualys', 'cyberscoop', 'pylos', 'avira', 'proofpoint', 'cisco', 'ic3', 'treasury', 'talosintelligence', 'accenture', 'therecord', 'lacework', 'domaintools', 'dbappsecurity', 'rapid7', 'arcticwolf', 'us-cert', 'cadosecurity', 'forcepoint', 'intezer', 'slideshare', 'visa', 'sophos', 'phishlabs', 'threatconnect', 'securityaffairs', 'microsoft', 'zdnet', 'aquasec', 'wired', 'reaqta', 'talent-jump', 'blackberry', 'cern', 'objective-see', 'volexity', 'netzpolitik', 'crowdstrike', 'leonardo', 'cisa', 'nccgroup', 'ironnet', 'thedfirreport', 'anomali', 'alyac', 'ptsecurity', 'vox-cdn', 'mitre', 'redcanary', 'hubspot', 'group-ib', 'cybleinc', 'bushidotoken'}\n",
      "Domains in MITRE but not in Malpedia: {'fortune', 'iranwatch', 'attackresearch', 'csmonitor', 'threatminer', 'recon', 'amnestyusa', 'airbus-cyber-security', 'threatstream', 'telefonicatech', 'kali', 'lookbookhq'}\n"
     ]
    }
   ],
   "source": [
    "import tldextract\n",
    "\n",
    "def extract_second_level_domain(fqdn):\n",
    "    \"\"\"\n",
    "    Extracts the second-level domain (SLD) from a given FQDN.\n",
    "    \n",
    "    Args:\n",
    "        fqdn (str): Fully Qualified Domain Name (FQDN).\n",
    "        \n",
    "    Returns:\n",
    "        str: The second-level domain of the FQDN.\n",
    "    \"\"\"\n",
    "    extracted = tldextract.extract(fqdn)\n",
    "    return extracted.domain  # This gives you the second-level domain (SLD)\n",
    "\n",
    "\n",
    "# Extract unique second-level domains from both lists\n",
    "unique_second_level_malpedia = set(extract_second_level_domain(fqdn) for fqdn, date in malpedia_fqdn_and_dates)\n",
    "unique_second_level_mitre = set(extract_second_level_domain(fqdn) for fqdn in mitre_successful_fqdns)\n",
    "\n",
    "# Find the intersection of second-level domains\n",
    "overlap = unique_second_level_malpedia.intersection(unique_second_level_mitre)\n",
    "b_minus_a = unique_second_level_mitre.difference(unique_second_level_malpedia)\n",
    "# Print the result\n",
    "print(f\"Intersection of second-level domains: {overlap}\")\n",
    "print(f\"Domains in MITRE but not in Malpedia: {b_minus_a}\")"
   ]
  },
  {
   "cell_type": "code",
   "execution_count": null,
   "id": "9d61f587-0952-421d-b0b1-22c9010075e5",
   "metadata": {},
   "outputs": [],
   "source": []
  }
 ],
 "metadata": {
  "kernelspec": {
   "display_name": "Python 3 (ipykernel)",
   "language": "python",
   "name": "python3"
  },
  "language_info": {
   "codemirror_mode": {
    "name": "ipython",
    "version": 3
   },
   "file_extension": ".py",
   "mimetype": "text/x-python",
   "name": "python",
   "nbconvert_exporter": "python",
   "pygments_lexer": "ipython3",
   "version": "3.11.4"
  }
 },
 "nbformat": 4,
 "nbformat_minor": 5
}
