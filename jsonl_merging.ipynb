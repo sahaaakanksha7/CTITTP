{
 "cells": [
  {
   "cell_type": "code",
   "execution_count": 11,
   "id": "0a04fe3c-38c6-4c2b-b506-0d98be1b3510",
   "metadata": {},
   "outputs": [
    {
     "name": "stdout",
     "output_type": "stream",
     "text": [
      "Contents of 'C:\\Users\\ricewater\\Documents\\CTIDownloads\\downloads\\downloads\\mobile-ics\\mobile-ics\\downloads.jsonl' have been appended to 'C:\\Users\\ricewater\\Documents\\CTIDownloads\\downloads\\downloads\\20241008_downloads.jsonl'.\n"
     ]
    }
   ],
   "source": [
    "def merge_jsonl(source_file, target_file):\n",
    "    \"\"\"\n",
    "    Appends the contents of one JSONL file to another.\n",
    "\n",
    "    Args:\n",
    "        source_file (str): Path to the source JSONL file whose content will be appended.\n",
    "        target_file (str): Path to the target JSONL file to which data will be appended.\n",
    "    \"\"\"\n",
    "    with open(source_file, 'r', encoding='utf-8') as src, open(target_file, 'a', encoding='utf-8') as tgt:\n",
    "        for line in src:\n",
    "            tgt.write(line)\n",
    "\n",
    "    print(f\"Contents of '{source_file}' have been appended to '{target_file}'.\")\n",
    "\n",
    "\n",
    "# Example usage\n",
    "merge_jsonl(r\"\", r\"C:\\Users\\ricewater\\Documents\\CTIDownloads\\downloads\\downloads\\20241008_downloads.jsonl\")\n"
   ]
  },
  {
   "cell_type": "code",
   "execution_count": 7,
   "id": "39644332-4914-48f3-89ba-0de4314f7bda",
   "metadata": {},
   "outputs": [],
   "source": [
    "import json"
   ]
  },
  {
   "cell_type": "code",
   "execution_count": 8,
   "id": "46ab9f5a-137b-4efb-a15e-084a30c1b2d9",
   "metadata": {},
   "outputs": [],
   "source": [
    "file_path = r\"C:\\Users\\ricewater\\Documents\\CTIDownloads\\malpedia_20220718\\malpedia_20220718\\malpedia-db_2022-07-18_downloader.jsonl\"\n",
    "\n",
    "with open(file_path, \"rb\") as f:\n",
    "    if not f.read().endswith(b\"\\n\"):\n",
    "        print(\"[!] File is missing trailing newline. Might affect reading.\")\n"
   ]
  },
  {
   "cell_type": "code",
   "execution_count": 9,
   "id": "8a5d6977-2275-4b18-b123-48e7909d97f5",
   "metadata": {},
   "outputs": [],
   "source": [
    "def read_jsonl(file_path):\n",
    "    \"\"\"\n",
    "    Reads a JSONL file and returns a list of JSON objects.\n",
    "\n",
    "    Parameters\n",
    "    ----------\n",
    "    file_path : str\n",
    "        The path to the JSONL file.\n",
    "\n",
    "    Returns\n",
    "    -------\n",
    "    list\n",
    "        A list of JSON objects.\n",
    "    \"\"\"\n",
    "    data = []\n",
    "    total_lines = 0\n",
    "    parsed_lines = 0\n",
    "\n",
    "    with open(file_path, 'r', encoding='utf-8') as f:\n",
    "        for i, line in enumerate(f, start=1):\n",
    "            total_lines += 1\n",
    "            line = line.strip()\n",
    "            if not line:\n",
    "                continue\n",
    "            try:\n",
    "                obj = json.loads(line)\n",
    "                data.append(obj)\n",
    "                parsed_lines += 1\n",
    "            except json.JSONDecodeError as e:\n",
    "                print(f\"[!] Failed to parse line {i}: {e}\")\n",
    "    \n",
    "    print(f\"[i] Total lines: {total_lines}\")\n",
    "    print(f\"[i] Successfully parsed: {parsed_lines}\")\n",
    "\n",
    "    return data\n"
   ]
  },
  {
   "cell_type": "code",
   "execution_count": null,
   "id": "21432c7c-2b58-4e60-b8cb-3ed519199b52",
   "metadata": {},
   "outputs": [],
   "source": [
    "import requests\n",
    "import re\n",
    "\n",
    "# URL of the MITRE ATT&CK Groups page\n",
    "#url = \"https://attack.mitre.org/groups/\"\n",
    "url = \"https://attack.mitre.org/versions/v15/groups/\"\n",
    "\n",
    "# Send a GET request to fetch the page content\n",
    "response = requests.get(url)\n",
    "if response.status_code == 200:\n",
    "    # Use regular expression to find all group IDs (e.g., G0001, G1000)\n",
    "    group_ids = re.findall(r'G\\d{4}', response.text)\n",
    "    unique_group_ids = sorted(set(group_ids))\n",
    "    \n",
    "    print(f\"Total groups found: {len(unique_group_ids)}\")\n",
    "    #print(\"Group IDs:\")\n",
    "    #for gid in unique_group_ids:\n",
    "    #    print(gid)\n",
    "else:\n",
    "    print(f\"Failed to retrieve data. Status code: {response.status_code}\")\n"
   ]
  }
 ],
 "metadata": {
  "kernelspec": {
   "display_name": "Python 3 (ipykernel)",
   "language": "python",
   "name": "python3"
  },
  "language_info": {
   "codemirror_mode": {
    "name": "ipython",
    "version": 3
   },
   "file_extension": ".py",
   "mimetype": "text/x-python",
   "name": "python",
   "nbconvert_exporter": "python",
   "pygments_lexer": "ipython3",
   "version": "3.11.4"
  }
 },
 "nbformat": 4,
 "nbformat_minor": 5
}
