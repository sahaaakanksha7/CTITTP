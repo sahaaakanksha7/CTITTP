{
 "cells": [
  {
   "cell_type": "code",
   "execution_count": 1,
   "id": "a5f232c8-bcce-4369-babd-c046b654f8df",
   "metadata": {},
   "outputs": [],
   "source": [
    "import json\n",
    "import requests\n",
    "import re"
   ]
  },
  {
   "cell_type": "code",
   "execution_count": 2,
   "id": "71ff37f7-0678-499d-8b8c-ee6823735997",
   "metadata": {},
   "outputs": [
    {
     "name": "stdout",
     "output_type": "stream",
     "text": [
      "Extracted 17242 URLs and saved to 'C:\\Users\\ricewater\\Downloads\\malpedia_urls_2025.txt'\n"
     ]
    }
   ],
   "source": [
    "def extract_urls_from_bib(file_path):\n",
    "    \"\"\"\n",
    "    Extracts all URL entries from a .bib (BibTeX) file.\n",
    "\n",
    "    Parameters\n",
    "    ----------\n",
    "    file_path : str\n",
    "        Path to the .bib file.\n",
    "\n",
    "    Returns\n",
    "    -------\n",
    "    list\n",
    "        List of extracted URL strings.\n",
    "    \"\"\"\n",
    "    urls = []\n",
    "\n",
    "    with open(file_path, 'r', encoding='utf-8') as file:\n",
    "        content = file.read()\n",
    "\n",
    "        # Regex to match lines like: url = {https://...}\n",
    "        url_matches = re.findall(r'url\\s*=\\s*{([^}]+)}', content)\n",
    "\n",
    "        urls.extend(url_matches)\n",
    "\n",
    "    return urls\n",
    "\n",
    "\n",
    "def save_urls_to_file(urls, output_path):\n",
    "    \"\"\"\n",
    "    Saves a list of URLs to a text file, one per line.\n",
    "\n",
    "    Parameters\n",
    "    ----------\n",
    "    urls : list\n",
    "        List of URL strings.\n",
    "\n",
    "    output_path : str\n",
    "        Path to output .txt file.\n",
    "    \"\"\"\n",
    "    with open(output_path, 'w', encoding='utf-8') as f:\n",
    "        for url in urls:\n",
    "            f.write(url + '\\n')\n",
    "\n",
    "\n",
    "# Example usage\n",
    "if __name__ == \"__main__\":\n",
    "    bib_path = r\"C:\\Users\\ricewater\\Downloads\\malpedia.bib\"         \n",
    "    output_path = r\"C:\\Users\\ricewater\\Downloads\\malpedia_urls_2025.txt\" # Output text file\n",
    "\n",
    "    urls = extract_urls_from_bib(bib_path)\n",
    "    #save_urls_to_file(urls, output_path)\n",
    "\n",
    "    print(f\"Extracted {len(urls)} URLs and saved to '{output_path}'\")\n"
   ]
  },
  {
   "cell_type": "code",
   "execution_count": 3,
   "id": "0a04fe3c-38c6-4c2b-b506-0d98be1b3510",
   "metadata": {},
   "outputs": [],
   "source": [
    "def merge_jsonl(source_file, target_file):\n",
    "    \"\"\"\n",
    "    Appends the contents of one JSONL file to another.\n",
    "\n",
    "    Args:\n",
    "        source_file (str): Path to the source JSONL file whose content will be appended.\n",
    "        target_file (str): Path to the target JSONL file to which data will be appended.\n",
    "    \"\"\"\n",
    "    with open(source_file, 'r', encoding='utf-8') as src, open(target_file, 'a', encoding='utf-8') as tgt:\n",
    "        for line in src:\n",
    "            tgt.write(line)\n",
    "\n",
    "    print(f\"Contents of '{source_file}' have been appended to '{target_file}'.\")\n",
    "\n",
    "\n",
    "# Example usage\n",
    "#merge_jsonl(r\"C:\\Users\\ricewater\\Documents\\CTIDownloads\\malpedia_20220718\\malpedia_20220718\\malpedia-db_2022-07-18_downloader.jsonl\", r\"C:\\Users\\ricewater\\Documents\\CTIDownloads\\downloads\\downloads\\20241008_downloads.jsonl\")\n"
   ]
  },
  {
   "cell_type": "code",
   "execution_count": 4,
   "id": "46ab9f5a-137b-4efb-a15e-084a30c1b2d9",
   "metadata": {},
   "outputs": [],
   "source": [
    "file_path_malpedia_2022 = r\"C:\\Users\\ricewater\\Documents\\CTITTP\\group_profile_analysis\\data\\malpedia-db_2022-07-18_downloader.jsonl\""
   ]
  },
  {
   "cell_type": "code",
   "execution_count": 5,
   "id": "f3f5fa59-ac16-4697-b8f9-f40e8a4a8881",
   "metadata": {},
   "outputs": [],
   "source": [
    "file_path_malpedia_2024 = r\"C:\\Users\\ricewater\\Documents\\CTITTP\\group_profile_analysis\\data\\20241008_downloads.jsonl\""
   ]
  },
  {
   "cell_type": "code",
   "execution_count": 3,
   "id": "9bb0a215-c1fc-4bad-b16d-f6cc0c9f9c9c",
   "metadata": {},
   "outputs": [],
   "source": [
    "def read_urls_from_file(filepath):\n",
    "    \"\"\"Reads URLs from a text file and returns a set of unique URLs.\"\"\"\n",
    "    with open(filepath, 'r', encoding='utf-8') as file:\n",
    "        return set(line.strip() for line in file if line.strip())"
   ]
  },
  {
   "cell_type": "code",
   "execution_count": 23,
   "id": "e3b5b761-7c58-4562-919c-e6c7a263dd5c",
   "metadata": {},
   "outputs": [
    {
     "name": "stdout",
     "output_type": "stream",
     "text": [
      "Unique URLs in file 1: 905\n",
      "Unique URLs in file 2: 25\n",
      "Total unique URLs across both files: 930\n"
     ]
    }
   ],
   "source": [
    "# Paths to your two text files\n",
    "file1 = r\"C:\\Users\\ricewater\\Documents\\CTIDownloads\\downloads\\downloads\\20240930_urls.txt\"\n",
    "file2 = r\"C:\\Users\\ricewater\\Documents\\CTIDownloads\\downloads\\downloads\\mobile-ics\\mobile-ics\\urlsfromMobileandICS.txt\"\n",
    "\n",
    "# Read and combine URLs\n",
    "urls_file1 = read_urls_from_file(file1)\n",
    "urls_file2 = read_urls_from_file(file2)\n",
    "\n",
    "all_unique_urls_attack = urls_file1.union(urls_file2)\n",
    "\n",
    "print(f\"Unique URLs in file 1: {len(urls_file1)}\")\n",
    "print(f\"Unique URLs in file 2: {len(urls_file2)}\")\n",
    "print(f\"Total unique URLs across both files: {len(all_unique_urls_attack)}\")"
   ]
  },
  {
   "cell_type": "code",
   "execution_count": 46,
   "id": "1e32981b-764d-4abd-8e43-32b12cd3cf6e",
   "metadata": {},
   "outputs": [],
   "source": [
    "all_urls_malpedia = r\"C:\\Users\\ricewater\\Documents\\CTIDownloads\\all_unique_urls_malpedia.txt\"\n",
    "urls_file_malpedia = read_urls_from_file(all_urls_malpedia)"
   ]
  },
  {
   "cell_type": "code",
   "execution_count": 47,
   "id": "2f8eb250-0dc3-46c7-9832-5f3e57e9b0be",
   "metadata": {},
   "outputs": [
    {
     "data": {
      "text/plain": [
       "15699"
      ]
     },
     "execution_count": 47,
     "metadata": {},
     "output_type": "execute_result"
    }
   ],
   "source": [
    "len(urls_file_malpedia)"
   ]
  },
  {
   "cell_type": "code",
   "execution_count": 48,
   "id": "a84b4894-6176-4bff-a15e-b98dc4e00d6d",
   "metadata": {},
   "outputs": [
    {
     "data": {
      "text/plain": [
       "16107"
      ]
     },
     "execution_count": 48,
     "metadata": {},
     "output_type": "execute_result"
    }
   ],
   "source": [
    "len(all_unique_urls_attack.union(urls_file_malpedia))"
   ]
  },
  {
   "cell_type": "code",
   "execution_count": 24,
   "id": "a34e744a-1fd7-425f-ae7e-af1a871f71b4",
   "metadata": {},
   "outputs": [
    {
     "data": {
      "text/plain": [
       "17233"
      ]
     },
     "execution_count": 24,
     "metadata": {},
     "output_type": "execute_result"
    }
   ],
   "source": [
    "all_urls_malpedia_2025 = r\"C:\\Users\\ricewater\\Downloads\\malpedia_urls_2025.txt\"\n",
    "urls_file_malpedia_2025 = read_urls_from_file(all_urls_malpedia_2025)\n",
    "len(urls_file_malpedia_2025)"
   ]
  },
  {
   "cell_type": "code",
   "execution_count": 25,
   "id": "9e8b610e-be98-4720-85d9-ce30a7f84f4d",
   "metadata": {},
   "outputs": [
    {
     "name": "stdout",
     "output_type": "stream",
     "text": [
      "MISP URLs: 2660\n",
      "Combined total URLs: 17462\n"
     ]
    }
   ],
   "source": [
    "# Load the MISP threat actor references JSON file\n",
    "with open(\"threat_actor_report_misp.json\", \"r\", encoding=\"utf-8\") as f:\n",
    "    misp_data = json.load(f)\n",
    "\n",
    "# Extract all URLs from the references\n",
    "misp_urls = set()\n",
    "for actor in misp_data:\n",
    "    misp_urls.update(actor.get(\"references\", []))\n",
    "\n",
    "\n",
    "# Compute union\n",
    "all_combined_urls = misp_urls.union(urls_file_malpedia_2025)\n",
    "\n",
    "# Print result\n",
    "print(f\"MISP URLs: {len(misp_urls)}\")\n",
    "print(f\"Combined total URLs: {len(all_combined_urls)}\")\n"
   ]
  },
  {
   "cell_type": "code",
   "execution_count": 26,
   "id": "79c44cb9-b761-4799-af8b-32e74c23b08c",
   "metadata": {},
   "outputs": [
    {
     "name": "stdout",
     "output_type": "stream",
     "text": [
      "Intersection with malpedia source: 2431 URLs\n"
     ]
    }
   ],
   "source": [
    "# Step 4: Compute intersections\n",
    "#intersect_attack = misp_urls.intersection(all_unique_urls_attack)\n",
    "intersect_malpedia = misp_urls.intersection(urls_file_malpedia_2025)\n",
    "\n",
    "\n",
    "# Step 5: Output results\n",
    "#print(f\"Intersection with attack source: {len(intersect_attack)} URLs\")\n",
    "print(f\"Intersection with malpedia source: {len(intersect_malpedia)} URLs\")\n"
   ]
  },
  {
   "cell_type": "code",
   "execution_count": 27,
   "id": "7ed71f90-d972-470d-b3f6-43fc855bf72e",
   "metadata": {},
   "outputs": [
    {
     "data": {
      "text/plain": [
       "2660"
      ]
     },
     "execution_count": 27,
     "metadata": {},
     "output_type": "execute_result"
    }
   ],
   "source": [
    "len(misp_urls)"
   ]
  },
  {
   "cell_type": "code",
   "execution_count": 28,
   "id": "28432173-b4f5-46e5-98ee-f2101ee1d8de",
   "metadata": {},
   "outputs": [
    {
     "name": "stdout",
     "output_type": "stream",
     "text": [
      "URLs in both MISP and malpedia): 2431\n",
      "URLs unique to MISP: 229\n",
      "\n",
      "Example of URLs only in MISP:\n",
      "  http://www.ptsecurity.com/upload/corporate/ww-en/analytics/APT-Attacks-eng.pdf\n",
      "  https://www.ptsecurity.com/ww-en/analytics/pt-esc-threat-intelligence/hellhounds-operation-lahat-part-2/\n",
      "  https://www.redpacketsecurity.com/wildpressure-targets-industrial-related-entities-in-the-middle-east/\n",
      "  https://www.cisa.gov/news-events/cybersecurity-advisories/aa22-152a\n",
      "  https://www.dragos.com/blog/responding-to-chernovites-pipedream-with-dragos-global-services/\n",
      "  https://www.rewterz.com/rewterz-news/rewterz-threat-alert-new-ransomware-actor-oldgremlin-hits-multiple-organizations\n",
      "  https://www.fortinet.com/blog/threat-research/guidance-on-hacktivist-operation-opspatuk-by-dragonforce\n",
      "  https://www.mandiant.com/resources/blog/investigating-ivanti-exploitation-persistence\n",
      "  https://www.securityweek.com/palestinian-hackers-hit-100-israeli-organizations-in-destructive-attacks/\n",
      "  https://cert.gov.ua/article/4555802\n",
      "  https://www.youtube.com/watch?v=khywfhJv4H8\n",
      "  https://www.ncsc.gov.uk/static-assets/documents/malware-analysis-reports/jolly-jellyfish/NCSC-MAR-Jolly-Jellyfish.pdf\n",
      "  https://www.rewterz.com/rewterz-news/rewterz-threat-alert-newspenguin-threat-actors-targeting-pakistani-entities-with-malicious-campaign-active-iocs\n",
      "  https://www.truesec.com/hub/blog/are-the-notorious-cyber-criminals-evil-corp-actually-russian-spies\n",
      "  https://darknetlive.com/post/who-is-responsible-for-running-hundreds-of-malicious-tor-relays/\n",
      "  https://www.ptsecurity.com/ww-en/analytics/pt-esc-threat-intelligence/space-pirates-a-look-into-the-group-s-unconventional-techniques-new-attack-vectors-and-tools/\n",
      "  https://www.dragos.com/threats/the-2022-ics-ot-vulnerability-briefing-recap/\n",
      "  http://www.csoonline.com/article/3193397/security/no-netflix-is-not-a-victim-of-ransomware.html\n",
      "  https://blogs.blackberry.com/en/2023/07/decoding-romcom-behaviors-and-opportunities-for-detection\n",
      "  http://blog.trendmicro.com/trendlabs-security-intelligence/osx_dok-mac-malware-emmental-hijacks-user-network-traffic/\n"
     ]
    }
   ],
   "source": [
    "# Step 1: Union of attack and malpedia sources\n",
    "#non_misp_union = all_unique_urls_attack.union(urls_file_malpedia)\n",
    "#print(f\"Union of attack & malpedia sources: {len(non_misp_union)} URLs\")\n",
    "\n",
    "# Step 2: Intersection with MISP\n",
    "misp_intersection = misp_urls.intersection(urls_file_malpedia_2025)\n",
    "print(f\"URLs in both MISP and malpedia): {len(misp_intersection)}\")\n",
    "\n",
    "# Step 3: URLs in MISP but not in either attack or malpedia\n",
    "misp_only = misp_urls.difference(urls_file_malpedia_2025)\n",
    "print(f\"URLs unique to MISP: {len(misp_only)}\")\n",
    "\n",
    "\n",
    "print(\"\\nExample of URLs only in MISP:\")\n",
    "for url in list(misp_only)[:20]:\n",
    "    print(\" \", url)\n"
   ]
  },
  {
   "cell_type": "code",
   "execution_count": 29,
   "id": "3da81d8b-d286-4aa3-a16a-72cdd65de734",
   "metadata": {},
   "outputs": [
    {
     "name": "stdout",
     "output_type": "stream",
     "text": [
      "2431 out of 2660 MISP URLs are already in your dataset.\n",
      "That’s approximately 91.39% overlap.\n"
     ]
    }
   ],
   "source": [
    "# Make sure these are already defined:\n",
    "# misp_urls: set of URLs from MISP\n",
    "# non_misp_union: set of all your other known URLs (e.g., attack ∪ malpedia)\n",
    "\n",
    "# Intersection\n",
    "misp_intersection = misp_urls.intersection(urls_file_malpedia_2025)\n",
    "\n",
    "# Percentage of MISP URLs that are already in your dataset\n",
    "if misp_urls:\n",
    "    percentage_overlap = (len(misp_intersection) / len(misp_urls)) * 100\n",
    "else:\n",
    "    percentage_overlap = 0.0\n",
    "\n",
    "print(f\"{len(misp_intersection)} out of {len(misp_urls)} MISP URLs are already in your dataset.\")\n",
    "print(f\"That’s approximately {percentage_overlap:.2f}% overlap.\")\n"
   ]
  },
  {
   "cell_type": "code",
   "execution_count": 18,
   "id": "343e2be3-3b63-4cbc-a8dc-09a288ea5c3b",
   "metadata": {},
   "outputs": [
    {
     "name": "stdout",
     "output_type": "stream",
     "text": [
      "Total unique FQDNs in MISP: 549\n",
      "FQDNs also in your dataset: 527\n",
      "FQDNs unique to MISP: 22\n",
      "FQDN coverage: 95.99%\n"
     ]
    }
   ],
   "source": [
    "def extract_fqdns(urls: set) -> set:\n",
    "    \"\"\"\n",
    "    Extract domains (FQDNs) from a set of URLs.\n",
    "\n",
    "    Parameters\n",
    "    ----------\n",
    "    urls : set\n",
    "        A set of full URLs\n",
    "\n",
    "    Returns\n",
    "    -------\n",
    "    set\n",
    "        A set of unique FQDNs (domains)\n",
    "    \"\"\"\n",
    "    domains = set()\n",
    "    for url in urls:\n",
    "        try:\n",
    "            parsed = urlparse(url)\n",
    "            if parsed.netloc:\n",
    "                domains.add(parsed.netloc.lower())\n",
    "        except Exception:\n",
    "            continue\n",
    "    return domains\n",
    "\n",
    "\n",
    "# Step 1: Extract FQDNs from each source\n",
    "misp_fqdns = extract_fqdns(misp_urls)\n",
    "#attack_fqdns = extract_fqdns(all_unique_urls_attack)\n",
    "malpedia_fqdns = extract_fqdns(urls_file_malpedia_2025)\n",
    "\n",
    "# Step 2: Union of other sources\n",
    "#non_misp_fqdns = attack_fqdns.union(malpedia_fqdns)\n",
    "\n",
    "# Step 3: Intersection and difference\n",
    "fqdns_intersection = misp_fqdns.intersection(malpedia_fqdns)\n",
    "fqdns_unique_to_misp = misp_fqdns.difference(malpedia_fqdns)\n",
    "\n",
    "# Step 4: Coverage percentage\n",
    "if misp_fqdns:\n",
    "    fqdn_coverage = (len(fqdns_intersection) / len(misp_fqdns)) * 100\n",
    "else:\n",
    "    fqdn_coverage = 0.0\n",
    "\n",
    "# Step 5: Output results\n",
    "print(f\"Total unique FQDNs in MISP: {len(misp_fqdns)}\")\n",
    "print(f\"FQDNs also in your dataset: {len(fqdns_intersection)}\")\n",
    "print(f\"FQDNs unique to MISP: {len(fqdns_unique_to_misp)}\")\n",
    "print(f\"FQDN coverage: {fqdn_coverage:.2f}%\")"
   ]
  },
  {
   "cell_type": "code",
   "execution_count": 21,
   "id": "0d77771a-2984-4c3e-bff4-a2a0a7b016ca",
   "metadata": {},
   "outputs": [
    {
     "data": {
      "text/plain": [
       "(549, 2174)"
      ]
     },
     "execution_count": 21,
     "metadata": {},
     "output_type": "execute_result"
    }
   ],
   "source": [
    "len(misp_fqdns),  len(malpedia_fqdns)"
   ]
  },
  {
   "cell_type": "code",
   "execution_count": 22,
   "id": "78cdc99b-96f6-4b07-942d-c1e483ce28bf",
   "metadata": {},
   "outputs": [
    {
     "data": {
      "text/plain": [
       "{'darknetlive.com',\n",
       " 'dev.ua',\n",
       " 'files.truesec.com',\n",
       " 'forescoutstage.wpengine.com',\n",
       " 'internal-www.fireeye.com',\n",
       " 'mybroadband.co.za',\n",
       " 'nsi-globalcounterintelligence.com',\n",
       " 'packetstormsecurity.com',\n",
       " 'securitybrief.asia',\n",
       " 'static.fortra.com',\n",
       " 'thecyberwire.com',\n",
       " 'titaniam.io',\n",
       " 'www.chronline.com',\n",
       " 'www.cybersecurityintelligence.com',\n",
       " 'www.facct.ru',\n",
       " 'www.ibtimes.com',\n",
       " 'www.itpro.com',\n",
       " 'www.loginradius.com',\n",
       " 'www.newslocker.com',\n",
       " 'www.phishlabs.com',\n",
       " 'www.privacyaffairs.com',\n",
       " 'zimpstage.wpengine.com'}"
      ]
     },
     "execution_count": 22,
     "metadata": {},
     "output_type": "execute_result"
    }
   ],
   "source": [
    "fqdns_unique_to_misp"
   ]
  },
  {
   "cell_type": "code",
   "execution_count": 49,
   "id": "4a06a390-f236-4e80-9294-f80be1f8d9f7",
   "metadata": {},
   "outputs": [
    {
     "data": {
      "text/plain": [
       "522"
      ]
     },
     "execution_count": 49,
     "metadata": {},
     "output_type": "execute_result"
    }
   ],
   "source": [
    "len(all_unique_urls_attack.intersection(urls_file_malpedia))"
   ]
  },
  {
   "cell_type": "code",
   "execution_count": 53,
   "id": "cf108862-1af9-49d7-850a-97e0ac338521",
   "metadata": {},
   "outputs": [],
   "source": [
    "unique_url_malpedia = r\"group_profile_analysis/malpedia_api_responses/malpedia_unique_actor_url.txt\""
   ]
  },
  {
   "cell_type": "code",
   "execution_count": 54,
   "id": "6ff812fb-8c8a-4e3b-af22-8829f01ceca3",
   "metadata": {},
   "outputs": [],
   "source": [
    "unique_urls_file_malpedia = read_urls_from_file(unique_url_malpedia)"
   ]
  },
  {
   "cell_type": "code",
   "execution_count": 55,
   "id": "c81d3c5b-04e0-484f-aae2-7269d5896950",
   "metadata": {},
   "outputs": [
    {
     "data": {
      "text/plain": [
       "2443"
      ]
     },
     "execution_count": 55,
     "metadata": {},
     "output_type": "execute_result"
    }
   ],
   "source": [
    "len(unique_urls_file_malpedia)"
   ]
  },
  {
   "cell_type": "code",
   "execution_count": 56,
   "id": "0a62bb1b-d611-449d-b020-4a987f636a11",
   "metadata": {},
   "outputs": [
    {
     "data": {
      "text/plain": [
       "3160"
      ]
     },
     "execution_count": 56,
     "metadata": {},
     "output_type": "execute_result"
    }
   ],
   "source": [
    "len(all_unique_urls_attack.union(unique_urls_file_malpedia))"
   ]
  },
  {
   "cell_type": "code",
   "execution_count": 42,
   "id": "21432c7c-2b58-4e60-b8cb-3ed519199b52",
   "metadata": {},
   "outputs": [
    {
     "name": "stdout",
     "output_type": "stream",
     "text": [
      "Total groups found: 152\n"
     ]
    }
   ],
   "source": [
    "\n",
    "# URL of the MITRE ATT&CK Groups page\n",
    "#url = \"https://attack.mitre.org/groups/\"\n",
    "url = \"https://attack.mitre.org/versions/v15/groups/\"\n",
    "\n",
    "# Send a GET request to fetch the page content\n",
    "response = requests.get(url)\n",
    "if response.status_code == 200:\n",
    "    # Use regular expression to find all group IDs (e.g., G0001, G1000)\n",
    "    group_ids = re.findall(r'G\\d{4}', response.text)\n",
    "    unique_group_ids = sorted(set(group_ids))\n",
    "    \n",
    "    print(f\"Total groups found: {len(unique_group_ids)}\")\n",
    "    #print(\"Group IDs:\")\n",
    "    #for gid in unique_group_ids:\n",
    "    #    print(gid)\n",
    "else:\n",
    "    print(f\"Failed to retrieve data. Status code: {response.status_code}\")\n"
   ]
  },
  {
   "cell_type": "code",
   "execution_count": 28,
   "id": "7fdff2c5-10a1-48de-9f04-140b059e1175",
   "metadata": {},
   "outputs": [],
   "source": []
  },
  {
   "cell_type": "code",
   "execution_count": 31,
   "id": "daa983be-cc53-49ef-9a8f-174c8aa4f0ff",
   "metadata": {},
   "outputs": [],
   "source": []
  },
  {
   "cell_type": "code",
   "execution_count": null,
   "id": "e5984bb1-99d8-4cc9-8c33-5ab1b4263678",
   "metadata": {},
   "outputs": [],
   "source": []
  },
  {
   "cell_type": "code",
   "execution_count": null,
   "id": "18a3db2c-7ad0-4dc2-87fd-bd379d45af72",
   "metadata": {},
   "outputs": [],
   "source": []
  }
 ],
 "metadata": {
  "kernelspec": {
   "display_name": "Python 3 (ipykernel)",
   "language": "python",
   "name": "python3"
  },
  "language_info": {
   "codemirror_mode": {
    "name": "ipython",
    "version": 3
   },
   "file_extension": ".py",
   "mimetype": "text/x-python",
   "name": "python",
   "nbconvert_exporter": "python",
   "pygments_lexer": "ipython3",
   "version": "3.11.4"
  }
 },
 "nbformat": 4,
 "nbformat_minor": 5
}
