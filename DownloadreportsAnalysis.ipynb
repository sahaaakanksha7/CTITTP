{
 "cells": [
  {
   "cell_type": "code",
   "execution_count": 10,
   "id": "393ddb2c-ab87-4721-a441-e9cfe70347e7",
   "metadata": {},
   "outputs": [
    {
     "name": "stdout",
     "output_type": "stream",
     "text": [
      "Total number of URLs: 1372\n"
     ]
    }
   ],
   "source": [
    "# Function to count the number of URLs in the file\n",
    "def count_urls(file_path):\n",
    "    url_count = 0\n",
    "    \n",
    "    # Open and read the file\n",
    "    with open(file_path, 'r') as file:\n",
    "        for line in file:\n",
    "            # Count non-empty lines (assuming each line contains one URL)\n",
    "            if line.strip():  # Strip any whitespace and check if the line is not empty\n",
    "                url_count += 1\n",
    "                \n",
    "    return url_count\n",
    "\n",
    "# Specify the path to your text file\n",
    "file_path = r\"C:\\Users\\Aakanksha Saha\\Documents\\CTI_downloads\\downloads\\20240930_urls.txt\"\n",
    "\n",
    "# Call the function and print the result\n",
    "print(f'Total number of URLs: {count_urls(file_path)}')"
   ]
  },
  {
   "cell_type": "code",
   "execution_count": 11,
   "id": "4a2765cb-8cfc-4676-86ba-2e844fcf0ed8",
   "metadata": {},
   "outputs": [
    {
     "name": "stdout",
     "output_type": "stream",
     "text": [
      "List of downloaded files (SHA256 hash names):\n",
      "\n",
      "Total number of downloaded files: 899\n"
     ]
    }
   ],
   "source": [
    "import os\n",
    "\n",
    "# Function to list and count files in a folder, excluding certain file types\n",
    "def list_downloaded_files(folder_path):\n",
    "    downloaded_files = []\n",
    "\n",
    "    # Walk through the directory structure\n",
    "    for root, dirs, files in os.walk(folder_path):\n",
    "        for file_name in files:\n",
    "            # Exclude files ending with '.download.iocs'\n",
    "            if not file_name.endswith('.download.iocs'):\n",
    "                downloaded_files.append(file_name)\n",
    "\n",
    "    # Return the list of files and the total count\n",
    "    return downloaded_files, len(downloaded_files)\n",
    "\n",
    "# Specify the path to the folder containing downloaded files\n",
    "folder_path = r\"C:\\Users\\Aakanksha Saha\\Documents\\CTI_downloads\\downloads\\20241008_downloads\"\n",
    "\n",
    "# Call the function and get the list of files and their count\n",
    "downloaded_files, total_count = list_downloaded_files(folder_path)\n",
    "\n",
    "# Print the list of files and the total count\n",
    "print(\"List of downloaded files (SHA256 hash names):\")\n",
    "#for file_name in downloaded_files:\n",
    "#    print(file_name)\n",
    "\n",
    "print(f\"\\nTotal number of downloaded files: {total_count}\")\n"
   ]
  },
  {
   "cell_type": "code",
   "execution_count": 12,
   "id": "61f03abc-79f4-4f78-bfc3-6d0c56dd1e10",
   "metadata": {},
   "outputs": [
    {
     "name": "stdout",
     "output_type": "stream",
     "text": [
      "\n",
      "Total number of successful downloads (size >= 20KB): 1146\n"
     ]
    }
   ],
   "source": [
    "import json\n",
    "\n",
    "# Function to identify successful downloads, filtering by download size\n",
    "def identify_successful_downloads(file_path):\n",
    "    successful_downloads = []\n",
    "    \n",
    "    # Open and read the file line by line\n",
    "    with open(file_path, 'r') as file:\n",
    "        for line in file:\n",
    "            try:\n",
    "                # Parse each line as a JSON object\n",
    "                download_info = json.loads(line)\n",
    "                \n",
    "                # Check if the download status is 200 (successful) and size is 20KB or more\n",
    "                if download_info.get(\"download_status\") == 200 and download_info.get(\"download_size\", 0) >= 20000:\n",
    "                    successful_downloads.append({\n",
    "                        \"url\": download_info.get(\"url\"),\n",
    "                        \"download_sha256\": download_info.get(\"download_sha256\"),\n",
    "                        \"download_status\": download_info.get(\"download_status\"),\n",
    "                        \"download_size\": download_info.get(\"download_size\"),\n",
    "                        \"download_ts\": download_info.get(\"download_ts\")\n",
    "                    })\n",
    "            except json.JSONDecodeError:\n",
    "                # Handle case where the line is not a valid JSON (optional)\n",
    "                print(f\"Error decoding JSON for line: {line.strip()}\")\n",
    "    \n",
    "    return successful_downloads\n",
    "\n",
    "# Specify the path to your JSONL file\n",
    "file_path = r\"C:\\Users\\Aakanksha Saha\\Documents\\CTI_downloads\\downloads\\20241008_downloads.jsonl\"\n",
    "\n",
    "# Call the function and get the successful downloads\n",
    "successful_downloads = identify_successful_downloads(file_path)\n",
    "\n",
    "# Print out the results\n",
    "#for download in successful_downloads:\n",
    "#    print(f\"URL: {download['url']}, SHA256: {download['download_sha256']}, Size: {download['download_size']} bytes, Status: {download['download_status']}\")\n",
    "\n",
    "# Print the total count of successful downloads with size >= 20KB\n",
    "print(f\"\\nTotal number of successful downloads (size >= 20KB): {len(successful_downloads)}\")\n"
   ]
  },
  {
   "cell_type": "code",
   "execution_count": 14,
   "id": "3fc56b67-6ad7-44ac-9934-ae91720fbdee",
   "metadata": {},
   "outputs": [
    {
     "name": "stdout",
     "output_type": "stream",
     "text": [
      "\n",
      "Total number of successful downloads: 1186\n"
     ]
    }
   ],
   "source": [
    "import json\n",
    "\n",
    "# Function to identify successful downloads\n",
    "def identify_successful_downloads(file_path):\n",
    "    successful_downloads = []\n",
    "    \n",
    "    # Open and read the file line by line\n",
    "    with open(file_path, 'r') as file:\n",
    "        for line in file:\n",
    "            try:\n",
    "                # Parse each line as a JSON object\n",
    "                download_info = json.loads(line)\n",
    "                \n",
    "                # Check if the download status is 200 (successful)\n",
    "                if download_info.get(\"download_status\") == 200:\n",
    "                    successful_downloads.append({\n",
    "                        \"url\": download_info.get(\"url\"),\n",
    "                        \"download_sha256\": download_info.get(\"download_sha256\"),\n",
    "                        \"download_status\": download_info.get(\"download_status\"),\n",
    "                        \"download_size\": download_info.get(\"download_size\"),\n",
    "                        \"download_ts\": download_info.get(\"download_ts\")\n",
    "                    })\n",
    "            except json.JSONDecodeError:\n",
    "                # Handle case where the line is not a valid JSON (optional)\n",
    "                print(f\"Error decoding JSON for line: {line.strip()}\")\n",
    "    \n",
    "    return successful_downloads\n",
    "\n",
    "# Specify the path to your JSONL file\n",
    "file_path = r\"C:\\Users\\Aakanksha Saha\\Documents\\CTI_downloads\\downloads\\20241008_downloads.jsonl\"\n",
    "\n",
    "# Call the function and print the successful downloads\n",
    "successful_downloads = identify_successful_downloads(file_path)\n",
    "\n",
    "# Print out the results\n",
    "#for download in successful_downloads:\n",
    "#    print(f\"URL: {download['url']}, SHA256: {download['download_sha256']}, Status: {download['download_status']}\")\n",
    "\n",
    "# Print the total count of successful downloads\n",
    "print(f\"\\nTotal number of successful downloads: {len(successful_downloads)}\")\n"
   ]
  },
  {
   "cell_type": "code",
   "execution_count": null,
   "id": "422ca229-378f-4a6d-ac9f-62cccdb7067b",
   "metadata": {},
   "outputs": [],
   "source": []
  }
 ],
 "metadata": {
  "kernelspec": {
   "display_name": "Python 3 (ipykernel)",
   "language": "python",
   "name": "python3"
  },
  "language_info": {
   "codemirror_mode": {
    "name": "ipython",
    "version": 3
   },
   "file_extension": ".py",
   "mimetype": "text/x-python",
   "name": "python",
   "nbconvert_exporter": "python",
   "pygments_lexer": "ipython3",
   "version": "3.12.6"
  }
 },
 "nbformat": 4,
 "nbformat_minor": 5
}
