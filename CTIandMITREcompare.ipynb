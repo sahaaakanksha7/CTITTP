{
 "cells": [
  {
   "cell_type": "code",
   "execution_count": 9,
   "id": "8eea5155-7b82-4142-96ba-1d8969974220",
   "metadata": {},
   "outputs": [],
   "source": [
    "import pandas as pd\n",
    "\n",
    "def read_technique_ids_from_xlsx(xlsx_file):\n",
    "    \"\"\"\n",
    "    Reads the technique IDs from the provided Excel (.xlsx) file.\n",
    "    \n",
    "    Parameters\n",
    "    ----------\n",
    "    xlsx_file : str\n",
    "        Path to the Excel file containing the technique IDs.\n",
    "\n",
    "    Returns\n",
    "    -------\n",
    "    list\n",
    "        List of technique IDs from the Excel file.\n",
    "    \"\"\"\n",
    "    df = pd.read_excel(xlsx_file, sheet_name='techniques')  # Adjust the sheet name if needed\n",
    "    technique_ids = df['ID'].astype(str).tolist()  # Ensure IDs are treated as strings\n",
    "    print(len(technique_ids))\n",
    "    return technique_ids\n",
    "\n",
    "\n",
    "def read_techniques_from_txt(txt_file):\n",
    "    \"\"\"\n",
    "    Reads techniques from the provided text file.\n",
    "    \n",
    "    Parameters\n",
    "    ----------\n",
    "    txt_file : str\n",
    "        Path to the text file containing techniques, one per line.\n",
    "\n",
    "    Returns\n",
    "    -------\n",
    "    list\n",
    "        List of techniques from the text file.\n",
    "    \"\"\"\n",
    "    with open(txt_file, 'r', encoding='utf-8') as file:\n",
    "        techniques = [line.strip() for line in file if line.strip()]\n",
    "\n",
    "    print(len(techniques))\n",
    "    return techniques\n",
    "\n",
    "\n",
    "def find_missing_techniques(xlsx_file, txt_file):\n",
    "    \"\"\"\n",
    "    Finds techniques from the text file that are not present in the Excel file.\n",
    "\n",
    "    Parameters\n",
    "    ----------\n",
    "    xlsx_file : str\n",
    "        Path to the Excel file containing the technique IDs.\n",
    "    txt_file : str\n",
    "        Path to the text file containing the techniques.\n",
    "\n",
    "    Returns\n",
    "    -------\n",
    "    list\n",
    "        List of techniques that are in the text file but not found in the Excel file.\n",
    "    \"\"\"\n",
    "    technique_ids = read_technique_ids_from_xlsx(xlsx_file)\n",
    "    techniques = read_techniques_from_txt(txt_file)\n",
    "\n",
    "    # Find techniques not in the Excel file\n",
    "    missing_techniques = [tech for tech in techniques if tech not in technique_ids]\n",
    "\n",
    "    return missing_techniques"
   ]
  },
  {
   "cell_type": "code",
   "execution_count": 10,
   "id": "a17d9ec0-e3bd-425b-943f-ab049c5bc41e",
   "metadata": {},
   "outputs": [
    {
     "name": "stdout",
     "output_type": "stream",
     "text": [
      "637\n",
      "461\n",
      "107\n",
      "Techniques not found in the CSV file:\n",
      "['T1194', 'T1088', 'T1346', 'T1065', 'T1500', 'T1311', 'T1432', 'T1002', 'T1043', 'T1433', 'T1329', 'T1312', 'T1179', 'T1517', 'T1093', 'T0872', 'T1079', 'T1009', 'T0840', 'T1099', 'T1053.004', 'T1045', 'T1426', 'T1100', 'T1512', 'T1022', 'T1438', 'T1420', 'T1532', 'T1508', 'T0871', 'T1533', 'T1476', 'T1077', 'T1191', 'T1402', 'T1341', 'T1024', 'T1117', 'T1047.001', 'T1345', 'T1004', 'T1497.004', 'T1064', 'T1247', 'T1089', 'T1249', 'T1086', 'T1260', 'T1061', 'T0853', 'T1143', 'T0847', 'T1122', 'T1084', 'T1351', 'T1268', 'T0807', 'T1023', 'T1107', 'T1444', 'T1660', 'T0831', 'T0809', 'T1081', 'T1101', 'T1437', 'T1076', 'T1503.004', 'T1035', 'T1412', 'T1308', 'T1328', 'T1013', 'T1031', 'T1060', 'T1193', 'T1085', 'T0855', 'T1513', 'T1116', 'T1168', 'T1094', 'T1447', 'T1138', 'T1063', 'T1183', 'T1032', 'T1158', 'T1418', 'T1502', 'T1337', 'T1145', 'T1575', 'T1347', 'T1503.003', 'T1503', 'T1429', 'T1544', 'T1050', 'T1108', 'T1073', 'T1015', 'T1038', 'T1192', 'T1362', 'T1066']\n"
     ]
    }
   ],
   "source": [
    "# Example usage\n",
    "csv_file = r\"C:\\Users\\Aakanksha Saha\\Documents\\CTITTP\\enterprise-attack-v15.1-techniques.xlsx\" \n",
    "txt_file = r\"C:\\Users\\Aakanksha Saha\\Documents\\CTITTP\\MITRETTPlist.txt\"\n",
    "\n",
    "missing_techniques = find_missing_techniques(csv_file, txt_file)\n",
    "print(len(missing_techniques))\n",
    "print(\"Techniques not found in the CSV file:\")\n",
    "print(missing_techniques)"
   ]
  },
  {
   "cell_type": "code",
   "execution_count": null,
   "id": "03dc436f-efad-491e-870a-dc949b61eef8",
   "metadata": {},
   "outputs": [],
   "source": []
  }
 ],
 "metadata": {
  "kernelspec": {
   "display_name": "Python 3 (ipykernel)",
   "language": "python",
   "name": "python3"
  },
  "language_info": {
   "codemirror_mode": {
    "name": "ipython",
    "version": 3
   },
   "file_extension": ".py",
   "mimetype": "text/x-python",
   "name": "python",
   "nbconvert_exporter": "python",
   "pygments_lexer": "ipython3",
   "version": "3.12.6"
  }
 },
 "nbformat": 4,
 "nbformat_minor": 5
}
