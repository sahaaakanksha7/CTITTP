{
 "cells": [
  {
   "cell_type": "code",
   "execution_count": 77,
   "id": "a0257f54-63ff-4a03-af71-b72e68045d3d",
   "metadata": {},
   "outputs": [],
   "source": [
    "import os\n",
    "import json\n",
    "import csv\n",
    "import pandas as pd\n",
    "import json\n",
    "import re\n",
    "from collections import defaultdict\n",
    "\n",
    "# Step 1: Load configuration from a JSON file\n",
    "with open(\"config.json\", \"r\") as config_file:\n",
    "    config = json.load(config_file)\n",
    "\n",
    "# Step 2: Extract the data directory and file paths for software and groups from the configuration\n",
    "data_directory = config[\"data_directory\"]\n",
    "groups_file_paths = {key: os.path.join(data_directory, value) for key, value in config[\"file_paths_groups_v15\"].items()}"
   ]
  },
  {
   "cell_type": "code",
   "execution_count": 78,
   "id": "43e0dadb-be57-4cc9-9c61-db68622156f3",
   "metadata": {},
   "outputs": [],
   "source": [
    "def load_groups(file_path, sheet_name='groups'):\n",
    "    \"\"\"\n",
    "    Load groups from a MITRE ATT&CK Excel file.\n",
    "\n",
    "    Parameters\n",
    "    ----------\n",
    "    file_path : str\n",
    "        Path to the Excel file.\n",
    "    sheet_name : str\n",
    "        Sheet name containing group data.\n",
    "\n",
    "    Returns\n",
    "    -------\n",
    "    dict\n",
    "        Dictionary mapping group ID to name and associated aliases.\n",
    "    \"\"\"\n",
    "    df = pd.read_excel(file_path, sheet_name=sheet_name)\n",
    "    df = df[['ID', 'name', 'associated groups']].dropna(subset=['ID'])\n",
    "\n",
    "    group_data = {}\n",
    "\n",
    "    for _, row in df.iterrows():\n",
    "        group_id = row['ID'].strip()\n",
    "        name = row['name'].strip()\n",
    "        aliases_raw = row.get('associated groups')\n",
    "\n",
    "        aliases = []\n",
    "        if pd.notna(aliases_raw):\n",
    "            aliases = [alias.strip() for alias in aliases_raw.split(\",\") if alias.strip()]\n",
    "\n",
    "        group_data[group_id] = {\n",
    "            'name': name,\n",
    "            'aliases': aliases\n",
    "        }\n",
    "\n",
    "    return group_data"
   ]
  },
  {
   "cell_type": "code",
   "execution_count": 36,
   "id": "9573871d-5cde-4825-91e8-9c65f0b6165a",
   "metadata": {},
   "outputs": [],
   "source": [
    "def merge_group_data(primary, secondary):\n",
    "    \"\"\"\n",
    "    Merge group data dictionaries by group ID.\n",
    "\n",
    "    Parameters\n",
    "    ----------\n",
    "    primary : dict\n",
    "        Base group data.\n",
    "    secondary : dict\n",
    "        New group data to merge into the base.\n",
    "    \"\"\"\n",
    "    for group_id, info in secondary.items():\n",
    "        if group_id not in primary:\n",
    "            primary[group_id] = info\n",
    "        else:\n",
    "            # Merge aliases while preserving uniqueness\n",
    "            existing_aliases = set(primary[group_id]['aliases'])\n",
    "            new_aliases = set(info['aliases'])\n",
    "\n",
    "            merged_aliases = sorted(existing_aliases.union(new_aliases))\n",
    "            primary[group_id]['aliases'] = merged_aliases\n"
   ]
  },
  {
   "cell_type": "code",
   "execution_count": 37,
   "id": "d93c386a-02f1-430d-8247-98dd2610838e",
   "metadata": {},
   "outputs": [],
   "source": [
    "# Example usage with your config:\n",
    "enterprise_file = groups_file_paths['enterprise']\n",
    "ics_file = groups_file_paths['ics']\n",
    "mobile_file = groups_file_paths['mobile']\n",
    "\n",
    "enterprise_groups = load_groups(enterprise_file)\n",
    "ics_groups = load_groups(ics_file)\n",
    "mobile_groups = load_groups(mobile_file)"
   ]
  },
  {
   "cell_type": "code",
   "execution_count": 40,
   "id": "a18f5c15-3b8c-40c1-aca5-795df91c4e33",
   "metadata": {},
   "outputs": [],
   "source": [
    " ##Merge ICS and Mobile into Enterprise\n",
    "merge_group_data(enterprise_groups, ics_groups)\n",
    "merge_group_data(enterprise_groups, mobile_groups)\n",
    "\n",
    "# Now enterprise_groups contains all merged data\n",
    "# Print an example output\n",
    "#for group_id, info in enterprise_groups.items():\n",
    "#    print(f\"{group_id}: {info['name']} (Aliases: {', '.join(info['aliases'])})\")"
   ]
  },
  {
   "cell_type": "code",
   "execution_count": 41,
   "id": "10d50ccd-a754-4675-bb5e-e0476093f14c",
   "metadata": {},
   "outputs": [
    {
     "data": {
      "text/plain": [
       "152"
      ]
     },
     "execution_count": 41,
     "metadata": {},
     "output_type": "execute_result"
    }
   ],
   "source": [
    "len(enterprise_groups)\n"
   ]
  },
  {
   "cell_type": "code",
   "execution_count": 44,
   "id": "a27a093c-4c6e-4c0c-a841-392bf99b0ee1",
   "metadata": {},
   "outputs": [],
   "source": [
    "# # Step 5: Optionally, export the updated group mapping to a new JSON file\n",
    "#with open('group_mapping_MITRE.json', 'w') as f:\n",
    "#     json.dump(enterprise_groups, f, indent=4)"
   ]
  },
  {
   "cell_type": "code",
   "execution_count": 58,
   "id": "d3e2fb21-18ec-4f13-8127-4891e58882a7",
   "metadata": {},
   "outputs": [],
   "source": [
    "# Function to read the actors data from the JSON file for Malpedia\n",
    "def read_actors_from_file(filename=\"actors_data.json\"):\n",
    "    try:\n",
    "        with open(filename, \"r\") as json_file:\n",
    "            actors_data = json.load(json_file)  # Load the JSON data from the file\n",
    "            return actors_data\n",
    "    except FileNotFoundError:\n",
    "        print(f\"File {filename} not found.\")\n",
    "        return None\n",
    "    except json.JSONDecodeError:\n",
    "        print(\"Error decoding the JSON data.\")\n",
    "        return None"
   ]
  },
  {
   "cell_type": "code",
   "execution_count": 53,
   "id": "fdbd5efa-c84d-4125-bfb7-e9460fc1e829",
   "metadata": {},
   "outputs": [],
   "source": [
    "# Load the MITRE group mappings (this should be the mappings of group_name ->aliases created from the Excel files)\n",
    "def read_group_mappings_mitre():\n",
    "    group_mappings_file_path = 'group_mapping_MITRE.json'  # Replace with actual path to group mappings\n",
    "    try:\n",
    "        with open(group_mappings_file_path, 'r') as f:\n",
    "            mitre_group_mappings = json.load(f)\n",
    "            return mitre_group_mappings\n",
    "    except FileNotFoundError:\n",
    "        print(f\"File {filename} not found.\")\n",
    "        return None\n",
    "    except json.JSONDecodeError:\n",
    "        print(\"Error decoding the JSON data.\")\n",
    "        return None      \n"
   ]
  },
  {
   "cell_type": "code",
   "execution_count": 67,
   "id": "ecb588c7-c68d-4c64-82ea-9f310865c377",
   "metadata": {},
   "outputs": [],
   "source": [
    "# Function to normalize group names\n",
    "def normalize_group_name(name):\n",
    "    # Convert to lowercase for case-insensitive comparison\n",
    "    name = name.lower().strip()\n",
    "\n",
    "    # Remove 'team' from names like 'Sandworm Team'\n",
    "    if name.endswith(' team'):\n",
    "        name = name.replace(' team', '')\n",
    "\n",
    "    # Replace 'threat group-' with 'tg-' (e.g., 'Threat Group-1314' -> 'TG-1314')\n",
    "    name = re.sub(r'threat group[- ]', 'tg-', name)\n",
    "\n",
    "    # Remove 'temp.' or similar prefixes (e.g., 'Temp.Pittytiger' -> 'Pittytiger')\n",
    "    name = re.sub(r'^temp[\\. ]+', '', name)\n",
    "\n",
    "    # Normalize spaces and dots (e.g., 'pitty tiger' == 'pitty.tiger')\n",
    "    name = re.sub(r'[\\. ]+', ' ', name)\n",
    "\n",
    "    # Remove common suffixes like 'framework' or 'group' (e.g., 'Inception Framework' -> 'Inception')\n",
    "    name = re.sub(r' (framework|group)$', '', name)\n",
    "\n",
    "    # Standardize 'Confucius' and 'Confucious' to 'confucius'\n",
    "    name = re.sub(r'confucious', 'confucius', name)\n",
    "\n",
    "    return name\n"
   ]
  },
  {
   "cell_type": "code",
   "execution_count": 68,
   "id": "793c9493-7b8a-4e0c-ab61-e8caab5d2a22",
   "metadata": {},
   "outputs": [],
   "source": [
    "# Compare MITRE group names and synonyms with Malpedia actors\n",
    "def find_intersection_with_malpedia_actors(malpedia_actors_data, mitre_group_mappings, output_file=\"group_intersection_output.json\"):\n",
    "    intersection = []  # Store MITRE groups that intersect with Malpedia actors\n",
    "    unique_group_ids = set()  # To store unique group IDs for intersection\n",
    "    mitre_groups_not_in_malpedia = []  # Store MITRE groups not found in Malpedia\n",
    "\n",
    "        # Dictionary to store the results for the JSON output\n",
    "    intersection_data = {}\n",
    "\n",
    "    # Loop through each MITRE group in mitre_group_mappings\n",
    "    for group_id, group_info in mitre_group_mappings.items():\n",
    "        group_name = normalize_group_name(group_info['name'])  # Normalize group name\n",
    "        associated_groups = group_info.get('aliases', '')\n",
    "\n",
    "        # Normalize associated_groups and ensure it's a list for iteration\n",
    "        if isinstance(associated_groups, float) or associated_groups is None:\n",
    "            associated_groups = ''\n",
    "        if isinstance(associated_groups, str):\n",
    "            associated_groups = [ag.strip() for ag in associated_groups.split(',')]\n",
    "\n",
    "        #associated_groups = [normalize_group_name(ag) for ag in associated_groups] if isinstance(associated_groups, list) else [normalize_group_name(associated_groups)]\n",
    "        associated_groups = [normalize_group_name(ag) for ag in associated_groups]\n",
    "\n",
    "        found_match = False\n",
    "\n",
    "        # Loop through each actor in Malpedia actors data\n",
    "        for actor_id, actor_info in malpedia_actors_data.items():\n",
    "            actor_name = normalize_group_name(actor_info['value'])  # Normalize actor name\n",
    "            synonyms = [normalize_group_name(synonym) for synonym in actor_info.get('meta', {}).get('synonyms', [])]  # Normalize synonyms\n",
    "\n",
    "            # Check if group_name or associated_groups match with Malpedia actor name or synonyms\n",
    "            if group_name == actor_name or group_name in synonyms:\n",
    "                intersection.append((group_name, actor_name, group_id))  # Found intersection with group_name\n",
    "                unique_group_ids.add(group_id)\n",
    "                found_match = True\n",
    "\n",
    "                # Add data to intersection_data for JSON output\n",
    "                intersection_data[group_id] = {\n",
    "                    'MITRE Group Name': group_name,\n",
    "                    'MITRE Associated Names': associated_groups,\n",
    "                    'Malpedia Actor Name': actor_name,\n",
    "                    'Malpedia Aliases': synonyms\n",
    "                }\n",
    "                \n",
    "                break  # No need to check further if match is found\n",
    "            elif any(ag == actor_name or ag in synonyms for ag in associated_groups):\n",
    "                intersection.append((group_name, actor_name, group_id))  # Found intersection with associated group\n",
    "                unique_group_ids.add(group_id)\n",
    "                found_match = True\n",
    "\n",
    "                # Add data to intersection_data for JSON output\n",
    "                intersection_data[group_id] = {\n",
    "                    'MITRE Group Name': group_name,\n",
    "                    'MITRE Associated Names': associated_groups,\n",
    "                    'Malpedia Actor Name': actor_name,\n",
    "                    'Malpedia Aliases':synonyms\n",
    "                }\n",
    "                \n",
    "                break\n",
    "\n",
    "        # If no match was found for this MITRE group, add it to the \"not in Malpedia\" list\n",
    "        if not found_match:\n",
    "            mitre_groups_not_in_malpedia.append((group_name, group_id))\n",
    "\n",
    "          # Write the intersection data to a JSON file\n",
    "    with open(output_file, 'w') as json_file:\n",
    "        json.dump(intersection_data, json_file, indent=4)\n",
    "\n",
    "    return intersection, unique_group_ids, mitre_groups_not_in_malpedia"
   ]
  },
  {
   "cell_type": "code",
   "execution_count": 69,
   "id": "2fad9412-1097-4300-ab68-3ef667ce07a5",
   "metadata": {},
   "outputs": [],
   "source": [
    "# Call the function to read the actors from the JSON file\n",
    "malpedia_actors_data = read_actors_from_file()\n",
    "mitre_group_mappings = read_group_mappings_mitre()\n",
    "# Find the intersection\n",
    "intersection, unique_group_ids, mitre_groups_not_in_malpedia = find_intersection_with_malpedia_actors(malpedia_actors_data, mitre_group_mappings, output_file=\"group_intersection_output.json\")\n"
   ]
  },
  {
   "cell_type": "code",
   "execution_count": 75,
   "id": "7ace3d9d-8053-4a0f-abdc-9cf5689863dc",
   "metadata": {},
   "outputs": [
    {
     "name": "stdout",
     "output_type": "stream",
     "text": [
      "Number of keys in the JSON file: 145\n"
     ]
    }
   ],
   "source": [
    "# Function to read the JSON and count the number of keys\n",
    "def count_json_keys(json_file_path):\n",
    "    # Open and load the JSON file\n",
    "    with open(json_file_path, 'r') as file:\n",
    "        data = json.load(file)\n",
    "\n",
    "    # Count the number of keys in the JSON data (which is a dictionary)\n",
    "    num_keys = len(data)\n",
    "    return num_keys\n",
    "# Example usage\n",
    "json_file_path = 'group_intersection_output.json'  # Replace with your actual file path\n",
    "num_keys = count_json_keys(json_file_path)\n",
    "\n",
    "print(f\"Number of keys in the JSON file: {num_keys}\")"
   ]
  },
  {
   "cell_type": "code",
   "execution_count": 79,
   "id": "8fd9d303-02a4-4aa4-be6d-7bde307548af",
   "metadata": {},
   "outputs": [
    {
     "name": "stdout",
     "output_type": "stream",
     "text": [
      "Collisions - Malpedia actors mapped to multiple MITRE groups:\n",
      "- apt17: ['G0025', 'G0001']\n",
      "- apt19: ['G0073', 'G0009']\n",
      "- apt30: ['G0013', 'G0030']\n",
      "- lazarus: ['G0082', 'G0138', 'G0032']\n",
      "- apt41: ['G0096', 'G0044']\n",
      "- earth lusca: ['G0143', 'G1006']\n",
      "- fin7: ['G0008', 'G0046']\n",
      "- dragonok: ['G0017', 'G0002']\n",
      "- mustang panda: ['G1014', 'G0129']\n"
     ]
    }
   ],
   "source": [
    "# Load your intersection JSON\n",
    "with open('group_intersection_output.json', 'r') as f:\n",
    "    data = json.load(f)\n",
    "\n",
    "# Step 1: Create a reverse map → Malpedia actor → list of MITRE group IDs\n",
    "actor_to_groups = defaultdict(list)\n",
    "\n",
    "for group_id, group_info in data.items():\n",
    "    actor_name = group_info['Malpedia Actor Name']\n",
    "    actor_to_groups[actor_name].append(group_id)\n",
    "\n",
    "# Step 2: Identify collisions (actors with multiple MITRE groups)\n",
    "collisions = {actor: group_ids for actor, group_ids in actor_to_groups.items() if len(group_ids) > 1}\n",
    "\n",
    "# Optional: Print or format the results\n",
    "print(\"Collisions - Malpedia actors mapped to multiple MITRE groups:\")\n",
    "for actor, group_ids in collisions.items():\n",
    "    print(f\"- {actor}: {group_ids}\")"
   ]
  },
  {
   "cell_type": "code",
   "execution_count": 80,
   "id": "3b682004-3ea8-47d1-acd9-9c7dc736f75a",
   "metadata": {},
   "outputs": [
    {
     "data": {
      "text/plain": [
       "[('blue mockingbird', 'G0108'),\n",
       " ('chimera', 'G0114'),\n",
       " ('lazyscripter', 'G0140'),\n",
       " ('the white company', 'G0089'),\n",
       " ('tg-1314', 'G0028'),\n",
       " ('windigo', 'G0124'),\n",
       " ('cyberav3ngers', 'G1027')]"
      ]
     },
     "execution_count": 80,
     "metadata": {},
     "output_type": "execute_result"
    }
   ],
   "source": [
    "mitre_groups_not_in_malpedia"
   ]
  },
  {
   "cell_type": "code",
   "execution_count": 26,
   "id": "5917ecc6-52ca-4ade-afae-a0a48e610e12",
   "metadata": {},
   "outputs": [],
   "source": [
    "# Load the MITRE group mappings (this should be the mappings created from the Excel files)\n",
    "# mitre_group_mappings = read_group_mappings_mitre()\n",
    "    \n",
    "# # Open file in append mode (or write mode, if needed) with utf-8 encoding\n",
    "# with open('group_name_alias_normalization.csv', 'a', newline='', encoding='utf-8') as csvfile:\n",
    "#         csvwriter = csv.writer(csvfile)\n",
    "\n",
    "#         # Check if the file is empty and write the header if necessary\n",
    "#         try:\n",
    "#             # Try to move to the beginning of the file\n",
    "#             csvfile.seek(0, 2)  # Go to the end of the file\n",
    "#             if csvfile.tell() == 0:  # If file size is 0, write header\n",
    "#                 csvwriter.writerow(['Group Name', 'Aliases', 'Normalized Name'])\n",
    "#         except Exception as e:\n",
    "#             print(f\"Error checking file for header: {e}\")\n",
    "\n",
    "\n",
    "        \n",
    "#                 # Loop through each MITRE group in mitre_group_mappings\n",
    "#         for group_id, group_info in mitre_group_mappings.items():\n",
    "#             original_group_name = group_info['name']\n",
    "#             normalized_group_name = normalize_group_name(group_info['name'])  # Normalize group name\n",
    "#             associated_groups = group_info.get('associated_groups', '')\n",
    "#             if isinstance(associated_groups, float) or associated_groups is None:\n",
    "#                 associated_groups = ''\n",
    "\n",
    "#             associated_groups = [(ag) for ag in associated_groups] if isinstance(associated_groups, list) else [(associated_groups)]\n",
    "\n",
    "#              # Write MITRE group name, aliases (comma-separated), and normalized name to file\n",
    "#             csvwriter.writerow([f\"mitre_{original_group_name}\", ', '.join(associated_groups), normalized_group_name])\n",
    "\n",
    "\n",
    "#                 # Loop through each actor in Malpedia actors data\n",
    "#         for actor_id, actor_info in malpedia_actors_data.items():\n",
    "#                 actor_name = actor_info['value']  # Use the original actor name\n",
    "#                 aliases = actor_info.get('meta', {}).get('synonyms', [])  # Get synonyms (aliases)\n",
    "                \n",
    "#                 # Ensure aliases is always a list\n",
    "#                 if not isinstance(aliases, list):\n",
    "#                     aliases = []\n",
    "\n",
    "#                 normalized_actor_name = normalize_group_name(actor_name)  # Normalize actor name\n",
    "#                 aliases = [(alias) for alias in aliases]  \n",
    "\n",
    "#                 # Write Malpedia group name, aliases (comma-separated), and normalized name to file\n",
    "#                 csvwriter.writerow([f\"malpedia_{actor_name}\", ', '.join(aliases), normalized_actor_name])\n"
   ]
  }
 ],
 "metadata": {
  "kernelspec": {
   "display_name": "Python 3 (ipykernel)",
   "language": "python",
   "name": "python3"
  },
  "language_info": {
   "codemirror_mode": {
    "name": "ipython",
    "version": 3
   },
   "file_extension": ".py",
   "mimetype": "text/x-python",
   "name": "python",
   "nbconvert_exporter": "python",
   "pygments_lexer": "ipython3",
   "version": "3.11.4"
  }
 },
 "nbformat": 4,
 "nbformat_minor": 5
}
