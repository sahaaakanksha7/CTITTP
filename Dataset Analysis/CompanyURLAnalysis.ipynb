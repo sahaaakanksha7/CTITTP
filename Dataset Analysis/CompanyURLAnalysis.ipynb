{
 "cells": [
  {
   "cell_type": "code",
   "execution_count": 48,
   "id": "e6c95041-be04-4bdd-83e6-c279eac36ede",
   "metadata": {},
   "outputs": [],
   "source": [
    "import json\n",
    "from urllib.parse import urlparse\n",
    "\n",
    "def extract_fqdn_and_date(file_paths: list):\n",
    "    \"\"\"\n",
    "    Extracts the FQDN from the 'url' field and the 'date' from the provided JSON lines\n",
    "    in multiple files.\n",
    "\n",
    "    Args:\n",
    "        file_paths (list): List of paths to files containing JSON entries.\n",
    "\n",
    "    Returns:\n",
    "        list: A list of tuples containing the FQDN and date for each entry from all files.\n",
    "    \"\"\"\n",
    "    results = []\n",
    "    urls = []\n",
    "\n",
    "    for file_path in file_paths:\n",
    "        with open(file_path, 'r') as file:\n",
    "            # Read each line of the JSONL file\n",
    "            for line in file:\n",
    "                entry = json.loads(line)\n",
    "                # Extract the FQDN from the 'url'\n",
    "                url = entry.get(\"url\", \"\")\n",
    "                parsed_url = urlparse(url)\n",
    "                urls.append(url)\n",
    "                fqdn = parsed_url.netloc  # Get the FQDN part from the URL\n",
    "\n",
    "                # Extract the 'date'\n",
    "                date = entry.get(\"date\", \"\")\n",
    "\n",
    "                # Append the FQDN and date to the results\n",
    "                results.append((fqdn, date))\n",
    "\n",
    "    return results, urls"
   ]
  },
  {
   "cell_type": "code",
   "execution_count": 49,
   "id": "ceb35681-84ef-4507-8ece-91ce1734f67d",
   "metadata": {},
   "outputs": [
    {
     "name": "stdout",
     "output_type": "stream",
     "text": [
      "2002\n",
      "Total unique URLs: 15695\n"
     ]
    }
   ],
   "source": [
    "# File paths\n",
    "file_path1 = r\"C:\\Users\\ricewater\\Documents\\CTIDownloads\\malpedia_20220718\\malpedia_20220718\\malpedia-db_2022-07-18_downloader.jsonl\"\n",
    "file_path2 = r\"C:\\Users\\ricewater\\Documents\\CTIDownloads\\20241204_malpedia_downloads\\20241204_downloads.jsonl\"\n",
    "\n",
    "# Extract FQDNs and dates from both files\n",
    "malpedia_fqdn_and_dates, malpedia_urls = extract_fqdn_and_date([file_path1, file_path2])\n",
    "\n",
    "# Print the count of unique FQDNs across both files\n",
    "print(len(set(fqdn for fqdn, date in malpedia_fqdn_and_dates)))\n",
    "print(\"Total unique URLs:\", len(set(urls)))"
   ]
  },
  {
   "cell_type": "code",
   "execution_count": 40,
   "id": "6093994e-322e-4c64-b435-ed01b27d49d6",
   "metadata": {},
   "outputs": [],
   "source": [
    "import json\n",
    "from urllib.parse import urlparse\n",
    "\n",
    "def extract_successful_urls(file_path: str):\n",
    "    \"\"\"\n",
    "    Extracts the FQDN from the 'url' field only for entries where the 'download_status' is 200 (successful).\n",
    "\n",
    "    Args:\n",
    "        file_path (str): Path to the file containing JSON entries.\n",
    "\n",
    "    Returns:\n",
    "        list: A list of FQDNs for entries with a successful download status.\n",
    "    \"\"\"\n",
    "    successful_fqdn = []\n",
    "    successful_urls = []\n",
    "\n",
    "    with open(file_path, 'r') as file:\n",
    "        # Read each line of the JSONL file\n",
    "        for line in file:\n",
    "            entry = json.loads(line)\n",
    "\n",
    "            # Check if 'download_status' is 200\n",
    "            if entry.get('download_status') == 200:\n",
    "                # Extract the FQDN from the 'url'\n",
    "                url = entry.get(\"url\", \"\")\n",
    "                parsed_url = urlparse(url)\n",
    "                successful_urls.append(url)\n",
    "                fqdn = parsed_url.netloc  # Get the FQDN part from the URL\n",
    "\n",
    "                # Append the FQDN to the list\n",
    "                if fqdn:\n",
    "                    successful_fqdn.append(fqdn)\n",
    "\n",
    "    return successful_urls, successful_fqdn"
   ]
  },
  {
   "cell_type": "code",
   "execution_count": 42,
   "id": "110ea9ab-3190-43a5-b592-cbca04f1629a",
   "metadata": {},
   "outputs": [
    {
     "name": "stdout",
     "output_type": "stream",
     "text": [
      "FQDNS: 179\n",
      "URLS: 787\n"
     ]
    }
   ],
   "source": [
    "# Example Usage for MITRE\n",
    "file_path = r\"C:\\Users\\ricewater\\Documents\\CTIDownloads\\downloads\\downloads\\20241008_downloads.jsonl\" \n",
    "mitre_successful_urls, mitre_successful_fqdns = extract_successful_urls(file_path)\n",
    "print(\"FQDNS:\", len(set(mitre_successful_fqdns)))\n",
    "print(\"URLS:\" , len(set(mitre_successful_urls)))\n",
    "# Display the results\n",
    "#for fqdn in successful_fqdns:\n",
    "#    print(f\"FQDN: {fqdn}\")"
   ]
  },
  {
   "cell_type": "code",
   "execution_count": 54,
   "id": "33418cf8-3b47-4f7e-a05d-51af0c35ba71",
   "metadata": {},
   "outputs": [
    {
     "name": "stdout",
     "output_type": "stream",
     "text": [
      "1372 905\n",
      "213\n",
      "{'labs.sentinelone.com', 'threatconnect.com', 'geminiadvisory.io', 'blog.scilabs.mx', 'www.reuters.com', 'www.intezer.com', 'attack.mitre.org', 'www.volexity.com', 'docs.microsoft.com', 'www.mandiant.com', 'cloudblogs.microsoft.com', 'www.cisa.gov', 'www.malwarebytes.com', 'download.ahnlab.com', 'unit42.paloaltonetworks.com', 'www.rapid7.com', 'www.threatminer.org', 'www.ncsc.gov.uk', 'usa.kaspersky.com', 'blog.qualys.com', 'cyberscoop.com', 'www.uptycs.com', 'www.securityweek.com', 'pylos.co', 'objective-see.com', 'www.slideshare.net', 'blog.cylance.com', 'blog.alyac.co.kr', 'securityaffairs.co', 'threatpost.com', '2017-2021.state.gov', 'dragos.com', 'vb2020.vblocalhost.com', 'blogs.blackberry.com', 'vblocalhost.com', 'www.darkreading.com', 'insight-jp.nttsecurity.com', 'www.lacework.com', 'www.talent-jump.com', 'www.wired.com', 'www.accenture.com', 'cdn-cybersecurity.att.com', 'cycraft.com', 'blog.certfa.com', 'news.sophos.com', 'home.treasury.gov', 'www.f-secure.com', 'citizenlab.ca', 'iranthreats.github.io', 'research.checkpoint.com', 'blog.google', 'documents.trendmicro.com', 'www.forbes.com', 'securingtomorrow.mcafee.com', 'blog.talosintelligence.com', 'asert.arbornetworks.com', 'www.bitdefender.com', 'cybersecurity.att.com', 'recon.cx', 'media.defense.gov', 'www.cybereason.com', 'research.nccgroup.com', 's3-eu-west-1.amazonaws.com', 'www.forcepoint.com', 'lab52.io', 'download.bitdefender.com', 'f.hubspotusercontent30.net', 'blog.netlab.360.com', 'learn.microsoft.com', 'www.fsec.or.kr', 'www.cylance.com', 'brica.de', 'info.lookout.com', 'www.tetradefense.com', 'www.trendmicro.com', 'www.issuemakerslab.com', 'www.cert.ssi.gouv.fr', 'www.virusbulletin.com', 'www.youtube.com', 'redcanary.com', 'netzpolitik.org', 'www.group-ib.com', 'blog.sygnia.co', 'go.recordedfuture.com', 'gibnc.group-ib.com', 'www.proofpoint.com', 'arcticwolf.com', 'blog.malwarebytes.com', 'resources.cylera.com', 'content.fireeye.com', 'www.deepinstinct.com', 'www.zdnet.com', 'www.domaintools.com', 'www.recordedfuture.com', '401trg.github.io', 'www.blackberry.com', 'www.boho.or.kr', 'go.group-ib.com', 'www.crowdstrike.com', 'go.crowdstrike.com', 'www.coresecurity.com', 'www.amnestyusa.org', 'info.phishlabs.com', 'query.prod.cms.rt.microsoft.com', 'enterprise-manage.norman.c.bitbit.net', 'www.rewterz.com', 'www.esentire.com', 'cdn2.hubspot.net', 'blog.checkpoint.com', 'symantec-enterprise-blogs.security.com', 'cybleinc.com', 'www.mcafee.com', 'www.pwc.co.uk', 'www.europol.europa.eu', 'www.ptsecurity.com', 'airbus-cyber-security.com', 'blogs.jpcert.or.jp', 'www.infosecurity-magazine.com', 'docs.google.com', 'usa.visa.com', 'telefonicatech.com', 'www.avira.com', 'global.ahnlab.com', 'www.fox-it.com', 'www.iranwatch.org', 'www.threatstream.com', 'www.leonardo.com', 'blog.bushidotoken.net', 'www.csmonitor.com', 'www2.fireeye.com', 'www.operationblockbuster.com', 'blog.trendmicro.com', 'cdn0.vox-cdn.com', 'www.justice.gov', 'published-prd.lanyonevents.com', 'businessinsights.bitdefender.com', 'blog-assets.f-secure.com', 'blogs.forcepoint.com', 'www.paloaltonetworks.com', 'reaqta.com', 'securelist.com', 'blogs.technet.microsoft.com', 'download.microsoft.com', 'www.bleepingcomputer.com', 'threatvector.cylance.com', 'msrc-blog.microsoft.com', 'www.dragos.com', 'github.com', 'www.microsoft.com', 'www.gov.uk', 'blogs.microsoft.com', 'www.trustwave.com', 'assets.sentinelone.com', 'media.kasperskycontenthub.com', 'blog.aquasec.com', 'noticeofpleadings.com', 'www.cybercom.mil', 'www.anomali.com', 'msrc.microsoft.com', 'www.prevailion.com', 'www.symantec.com', 'www.eweek.com', 'blogs.cisco.com', 'www.cadosecurity.com', 'blog.morphisec.com', 'www.rsa.com', 'www.welivesecurity.com', 'thedfirreport.com', 'citizenlab.org', 'thehackernews.com', 'www.brighttalk.com', 'fortune.com', 'ti.dbappsecurity.com.cn', 'www.sans.org', 'www.us-cert.gov', 'operationblockbuster.com', 'securityintelligence.com', 'twitter.com', 'docs.broadcom.com', 'www.threatconnect.com', 'www.flashpoint-intel.com', 'pwc.blogs.com', 'crowdstrike.lookbookhq.com', 'foxitsecurity.files.wordpress.com', 'blog.360totalsecurity.com', 'www.bbc.com', 'carnal0wnage.attackresearch.com', 'community.broadcom.com', 'logrhythm.com', 'www.ria.ee', 'www.trellix.com', 'www.clearskysec.com', 'www.sentinelone.com', 'paper.seebug.org', 'researchcenter.paloaltonetworks.com', 'cyberforensicator.com', 'www.fireeye.com', 'therecord.media', 'www.ironnet.com', 'adversary.crowdstrike.com', 'www.ic3.gov', 'www.secureworks.com', 'www.lastline.com', 'security.web.cern.ch', 'www.trendmicro.de', 'www.whitehouse.gov', 'www.cyberscoop.com', 'www.zscaler.com', 'us-cert.cisa.gov', 'web.archive.org', 'arstechnica.com', 'tools.kali.org', 'pan-unit42.github.io'}\n"
     ]
    }
   ],
   "source": [
    "import pandas as pd\n",
    "file_path_1 = r\"C:\\Users\\ricewater\\Documents\\CTITTP\\ATTACK Excel sheets\\enterprise-attack-v15.1-groups.xlsx\"\n",
    "\n",
    "# Step 2: Read the \"Citations\" sheet and extract the \"URL\" column from each spreadsheet\n",
    "df1 = pd.read_excel(file_path_1, sheet_name='citations')['url'].dropna()\n",
    "print(len(df1), df1.nunique())\n",
    "mitre_successful_urls = df1\n",
    "\n",
    "mitre_successful_fqdns = []\n",
    "\n",
    "for url in mitre_successful_urls:\n",
    "                parsed_url = urlparse(url)\n",
    "                fqdn = parsed_url.netloc  # Get the FQDN part from the URL\n",
    "                if fqdn:\n",
    "                    mitre_successful_fqdns.append(fqdn)\n",
    "\n",
    "print(len(set(mitre_successful_fqdns)))\n",
    "print(set(mitre_successful_fqdns))"
   ]
  },
  {
   "cell_type": "code",
   "execution_count": 55,
   "id": "96687c8f-b99e-417f-8f7e-774b3007a3d7",
   "metadata": {},
   "outputs": [
    {
     "name": "stdout",
     "output_type": "stream",
     "text": [
      "16600\n"
     ]
    }
   ],
   "source": [
    "union_URLS = set(mitre_successful_urls).union(set(urls))\n",
    "print(len(union_URLS))"
   ]
  },
  {
   "cell_type": "code",
   "execution_count": 56,
   "id": "00cdb7de-6868-4c59-bb6e-4ed4fbc03a4c",
   "metadata": {},
   "outputs": [],
   "source": [
    "from collections import Counter\n",
    "\n",
    "def compare_fqdns(malpedia_fqdn_and_dates: list, mitre_successful_fqdns: list):\n",
    "    \"\"\"\n",
    "    Compares two sets of FQDNs, returning the overlap, A-B, B-A, and their counts.\n",
    "\n",
    "    Args:\n",
    "        fqdn_and_dates (list): A list of tuples containing FQDN and date.\n",
    "        successful_fqdns (list): A list of FQDNs with successful download statuses.\n",
    "\n",
    "    Returns:\n",
    "        dict: A dictionary with the overlap, A-B, B-A, and counts for each.\n",
    "    \"\"\"\n",
    "    # Extract unique FQDNs from both lists\n",
    "    unique_fqdn_dates = set(fqdn for fqdn, date in malpedia_fqdn_and_dates)  # Unique FQDNs from fqdn_and_dates\n",
    "    unique_successful_fqdns = set(mitre_successful_fqdns)  # Unique FQDNs from successful_fqdns\n",
    "\n",
    "    # Find union\n",
    "    union_set = unique_fqdn_dates.union(unique_successful_fqdns)\n",
    "    \n",
    "    # Find the overlap\n",
    "    overlap = unique_fqdn_dates.intersection(unique_successful_fqdns)\n",
    "\n",
    "    # Find A - B (FQDNs in fqdn_and_dates but not in successful_fqdns)\n",
    "    a_minus_b = unique_fqdn_dates.difference(unique_successful_fqdns)\n",
    "\n",
    "    # Find B - A (FQDNs in successful_fqdns but not in fqdn_and_dates)\n",
    "    b_minus_a = unique_successful_fqdns.difference(unique_fqdn_dates)\n",
    "\n",
    "    #Count the frequencies of FQDNs in Malpedia and MITRE lists\n",
    "    malpedia_fqdn_counter = Counter(fqdn for fqdn, date in malpedia_fqdn_and_dates)\n",
    "    mitre_fqdn_counter = Counter(mitre_successful_fqdns)\n",
    "\n",
    "    # Get the top 5 FQDNs by frequency in Malpedia, MITRE, and overlap\n",
    "    top_malpedia_fqdns = malpedia_fqdn_counter.most_common(10)\n",
    "    top_mitre_fqdns = mitre_fqdn_counter.most_common(10)\n",
    " \n",
    "\n",
    "    # Return the results along with the counts\n",
    "    return {\n",
    "        'union':union_set,\n",
    "        'overlap': overlap,\n",
    "        'A-B': a_minus_b,\n",
    "        'B-A': b_minus_a,\n",
    "        'union_count':len(union_set),\n",
    "        'overlap_count': len(overlap),\n",
    "        'A-B_count': len(a_minus_b),\n",
    "        'B-A_count': len(b_minus_a),\n",
    "        'top_malpedia_fqdns': top_malpedia_fqdns,\n",
    "        'top_mitre_fqdns': top_mitre_fqdns,\n",
    "    }\n"
   ]
  },
  {
   "cell_type": "code",
   "execution_count": 57,
   "id": "5a9b790e-7adb-47b5-9bd6-d9d156dfcdf0",
   "metadata": {},
   "outputs": [
    {
     "name": "stdout",
     "output_type": "stream",
     "text": [
      "Union (A  U B) Count: 2024\n",
      "Overlap (A ∩ B): {'labs.sentinelone.com', 'threatconnect.com', 'geminiadvisory.io', 'blog.scilabs.mx', 'www.reuters.com', 'www.intezer.com', 'attack.mitre.org', 'www.volexity.com', 'docs.microsoft.com', 'www.mandiant.com', 'cloudblogs.microsoft.com', 'www.cisa.gov', 'www.malwarebytes.com', 'download.ahnlab.com', 'unit42.paloaltonetworks.com', 'www.rapid7.com', 'www.ncsc.gov.uk', 'usa.kaspersky.com', 'blog.qualys.com', 'cyberscoop.com', 'www.uptycs.com', 'www.securityweek.com', 'pylos.co', 'objective-see.com', 'www.slideshare.net', 'blog.cylance.com', 'blog.alyac.co.kr', 'securityaffairs.co', 'threatpost.com', 'dragos.com', 'vb2020.vblocalhost.com', 'blogs.blackberry.com', 'vblocalhost.com', 'www.darkreading.com', 'insight-jp.nttsecurity.com', 'www.lacework.com', 'www.talent-jump.com', 'www.wired.com', 'www.accenture.com', 'cdn-cybersecurity.att.com', 'cycraft.com', 'news.sophos.com', 'blog.certfa.com', 'home.treasury.gov', 'citizenlab.ca', 'www.f-secure.com', 'iranthreats.github.io', 'research.checkpoint.com', 'blog.google', 'documents.trendmicro.com', 'www.forbes.com', 'securingtomorrow.mcafee.com', 'blog.talosintelligence.com', 'asert.arbornetworks.com', 'www.bitdefender.com', 'cybersecurity.att.com', 'media.defense.gov', 'www.cybereason.com', 'research.nccgroup.com', 'f.hubspotusercontent30.net', 's3-eu-west-1.amazonaws.com', 'www.forcepoint.com', 'lab52.io', 'download.bitdefender.com', 'blog.netlab.360.com', 'learn.microsoft.com', 'www.fsec.or.kr', 'www.cylance.com', 'info.lookout.com', 'www.trendmicro.com', 'www.issuemakerslab.com', 'www.cert.ssi.gouv.fr', 'www.virusbulletin.com', 'www.youtube.com', 'redcanary.com', 'netzpolitik.org', 'www.group-ib.com', 'blog.sygnia.co', 'go.recordedfuture.com', 'gibnc.group-ib.com', 'www.proofpoint.com', 'arcticwolf.com', 'blog.malwarebytes.com', 'resources.cylera.com', 'content.fireeye.com', 'www.deepinstinct.com', 'www.zdnet.com', 'www.domaintools.com', 'www.recordedfuture.com', 'www.blackberry.com', 'www.boho.or.kr', 'go.group-ib.com', 'www.crowdstrike.com', 'go.crowdstrike.com', 'www.coresecurity.com', 'info.phishlabs.com', 'query.prod.cms.rt.microsoft.com', 'www.rewterz.com', 'www.esentire.com', 'cdn2.hubspot.net', 'blog.checkpoint.com', 'symantec-enterprise-blogs.security.com', 'cybleinc.com', 'www.mcafee.com', 'www.pwc.co.uk', 'www.europol.europa.eu', 'www.ptsecurity.com', 'blogs.jpcert.or.jp', 'www.infosecurity-magazine.com', 'docs.google.com', 'usa.visa.com', 'www.avira.com', 'global.ahnlab.com', 'www.fox-it.com', 'www.leonardo.com', 'blog.bushidotoken.net', 'www2.fireeye.com', 'www.operationblockbuster.com', 'blog.trendmicro.com', 'cdn0.vox-cdn.com', 'www.justice.gov', 'businessinsights.bitdefender.com', 'blog-assets.f-secure.com', 'www.paloaltonetworks.com', 'reaqta.com', 'securelist.com', 'blogs.technet.microsoft.com', 'download.microsoft.com', 'www.bleepingcomputer.com', 'threatvector.cylance.com', 'msrc-blog.microsoft.com', 'www.dragos.com', 'github.com', 'www.microsoft.com', 'www.gov.uk', 'blogs.microsoft.com', 'www.trustwave.com', 'assets.sentinelone.com', 'media.kasperskycontenthub.com', 'blog.aquasec.com', 'noticeofpleadings.com', 'www.cybercom.mil', 'www.anomali.com', 'msrc.microsoft.com', 'www.prevailion.com', 'www.symantec.com', 'www.eweek.com', 'blogs.cisco.com', 'www.cadosecurity.com', 'blog.morphisec.com', 'www.rsa.com', 'www.welivesecurity.com', 'thedfirreport.com', 'thehackernews.com', 'www.brighttalk.com', 'ti.dbappsecurity.com.cn', 'www.sans.org', 'www.us-cert.gov', 'docs.broadcom.com', 'securityintelligence.com', 'twitter.com', 'www.threatconnect.com', 'www.flashpoint-intel.com', 'pwc.blogs.com', 'foxitsecurity.files.wordpress.com', 'blog.360totalsecurity.com', 'www.bbc.com', 'community.broadcom.com', 'logrhythm.com', 'www.ria.ee', 'www.trellix.com', 'www.clearskysec.com', 'www.sentinelone.com', 'paper.seebug.org', 'researchcenter.paloaltonetworks.com', 'www.fireeye.com', 'therecord.media', 'www.ironnet.com', 'adversary.crowdstrike.com', 'www.ic3.gov', 'www.secureworks.com', 'www.lastline.com', 'security.web.cern.ch', 'www.trendmicro.de', 'www.whitehouse.gov', 'www.cyberscoop.com', 'www.zscaler.com', 'us-cert.cisa.gov', 'web.archive.org', 'arstechnica.com', 'pan-unit42.github.io'}, Count: 191\n",
      "A - B (In Malpedia but not in MITRE) Count: 1811\n",
      "B - A (In MITRE but not in Malpedia): {'enterprise-manage.norman.c.bitbit.net', 'citizenlab.org', 'fortune.com', 'recon.cx', 'operationblockbuster.com', 'airbus-cyber-security.com', 'crowdstrike.lookbookhq.com', 'www.threatminer.org', 'telefonicatech.com', 'brica.de', 'carnal0wnage.attackresearch.com', 'www.tetradefense.com', 'www.iranwatch.org', 'www.threatstream.com', 'www.csmonitor.com', 'published-prd.lanyonevents.com', 'cyberforensicator.com', 'blogs.forcepoint.com', '2017-2021.state.gov', '401trg.github.io', 'tools.kali.org', 'www.amnestyusa.org'}, Count: 22\n",
      "\n",
      "Top FQDNs in Malpedia (by frequency):\n",
      "twitter.com: 574 times\n",
      "www.bleepingcomputer.com: 447 times\n",
      "securelist.com: 396 times\n",
      "github.com: 358 times\n",
      "unit42.paloaltonetworks.com: 321 times\n",
      "www.trendmicro.com: 309 times\n",
      "www.welivesecurity.com: 281 times\n",
      "medium.com: 238 times\n",
      "www.youtube.com: 235 times\n",
      "blog.talosintelligence.com: 219 times\n",
      "\n",
      "Top FQDNs in MITRE (by frequency):\n",
      "www.fireeye.com: 91 times\n",
      "www.secureworks.com: 80 times\n",
      "securelist.com: 74 times\n",
      "www.welivesecurity.com: 58 times\n",
      "researchcenter.paloaltonetworks.com: 53 times\n",
      "web.archive.org: 50 times\n",
      "www.crowdstrike.com: 47 times\n",
      "www.microsoft.com: 46 times\n",
      "unit42.paloaltonetworks.com: 38 times\n",
      "www.mandiant.com: 36 times\n"
     ]
    }
   ],
   "source": [
    "# Compare the FQDNs\n",
    "comparison_results = compare_fqdns(malpedia_fqdn_and_dates, mitre_successful_fqdns)\n",
    "\n",
    "# Display the results\n",
    "print(f\"Union (A  U B) Count: {comparison_results['union_count']}\")\n",
    "print(f\"Overlap (A ∩ B): {comparison_results['overlap']}, Count: {comparison_results['overlap_count']}\")\n",
    "print(f\"A - B (In Malpedia but not in MITRE) Count: {comparison_results['A-B_count']}\")\n",
    "print(f\"B - A (In MITRE but not in Malpedia): {comparison_results['B-A']}, Count: {comparison_results['B-A_count']}\")\n",
    "\n",
    "# Print the top FQDNs by frequency\n",
    "print(\"\\nTop FQDNs in Malpedia (by frequency):\")\n",
    "for fqdn, count in comparison_results['top_malpedia_fqdns']:\n",
    "    print(f\"{fqdn}: {count} times\")\n",
    "\n",
    "print(\"\\nTop FQDNs in MITRE (by frequency):\")\n",
    "for fqdn, count in comparison_results['top_mitre_fqdns']:\n",
    "    print(f\"{fqdn}: {count} times\")\n",
    "\n",
    "\n"
   ]
  },
  {
   "cell_type": "code",
   "execution_count": 12,
   "id": "c7724bff-7cbf-4efa-a5c1-2074c492ec10",
   "metadata": {},
   "outputs": [
    {
     "name": "stdout",
     "output_type": "stream",
     "text": [
      "Intersection of second-level domains: {'zscaler', 'pwc', 'crowdstrike', 'securityintelligence', 'talent-jump', 'cybleinc', 'thedfirreport', 'mandiant', 'bleepingcomputer', 'lacework', 'fireeye', 'treasury', 'us-cert', 'hubspotusercontent30', 'jpcert', 'redcanary', 'twitter', 'welivesecurity', 'ic3', 'securityaffairs', 'morphisec', 'flashpoint-intel', 'domaintools', 'cisco', 'bushidotoken', 'group-ib', 'wordpress', 'pylos', 'zdnet', 'europa', 'netzpolitik', 'rapid7', 'wired', 'mcafee', 'aquasec', 'intezer', 'ptsecurity', 'clearskysec', 'threatconnect', 'checkpoint', 'securelist', 'logrhythm', 'objective-see', 'kasperskycontenthub', 'lookout', 'talosintelligence', 'arcticwolf', 'threatpost', 'trendmicro', 'accenture', 'deepinstinct', 'broadcom', 'cyberscoop', 'thehackernews', 'ironnet', 'recordedfuture', 'alyac', 'mitre', 'volexity', 'cybercom', 'avira', 'bbc', 'forcepoint', 'dragos', 'rsa', 'nccgroup', 'therecord', 'nttsecurity', 'citizenlab', 'phishlabs', 'trustwave', 'ncsc', 'malwarebytes', 'darkreading', 'vox-cdn', 'youtube', 'scilabs', 'noticeofpleadings', 'cylance', 'justice', 'proofpoint', 'qualys', 'f-secure', 'cycraft', 'paloaltonetworks', 'virusbulletin', 'eweek', 'bitdefender', 'reaqta', 'uptycs', 'sentinelone', 'hubspot', '360totalsecurity', 'github', 'vblocalhost', 'issuemakerslab', 'slideshare', 'www', 'secureworks', 'leonardo', 'cadosecurity', 'symantec', 'sygnia', 'rewterz', '360', 'archive', 'esentire', 'sophos', 'cisa', 'blog', 'lab52', 'fox-it', 'visa', 'certfa', 'forbes', 'att', 'microsoft', 'whitehouse', 'ssi', 'cern', 'blackberry', 'brighttalk', 'arstechnica', 'kaspersky', 'dbappsecurity', 'defense', 'infosecurity-magazine', 'security', 'cybereason', 'anomali'}\n",
      "Domains in MITRE but not in Malpedia: {'csmonitor', 'kali', 'threatstream', 'threatminer', 'amnestyusa', 'airbus-cyber-security', 'fortune', 'iranwatch', 'lookbookhq', 'telefonicatech', 'recon', 'attackresearch'}\n"
     ]
    }
   ],
   "source": [
    "import tldextract\n",
    "\n",
    "def extract_second_level_domain(fqdn):\n",
    "    \"\"\"\n",
    "    Extracts the second-level domain (SLD) from a given FQDN.\n",
    "    \n",
    "    Args:\n",
    "        fqdn (str): Fully Qualified Domain Name (FQDN).\n",
    "        \n",
    "    Returns:\n",
    "        str: The second-level domain of the FQDN.\n",
    "    \"\"\"\n",
    "    extracted = tldextract.extract(fqdn)\n",
    "    return extracted.domain  # This gives you the second-level domain (SLD)\n",
    "\n",
    "\n",
    "# Extract unique second-level domains from both lists\n",
    "unique_second_level_malpedia = set(extract_second_level_domain(fqdn) for fqdn, date in malpedia_fqdn_and_dates)\n",
    "unique_second_level_mitre = set(extract_second_level_domain(fqdn) for fqdn in mitre_successful_fqdns)\n",
    "\n",
    "# Find the intersection of second-level domains\n",
    "overlap = unique_second_level_malpedia.intersection(unique_second_level_mitre)\n",
    "b_minus_a = unique_second_level_mitre.difference(unique_second_level_malpedia)\n",
    "# Print the result\n",
    "print(f\"Intersection of second-level domains: {overlap}\")\n",
    "print(f\"Domains in MITRE but not in Malpedia: {b_minus_a}\")"
   ]
  },
  {
   "cell_type": "code",
   "execution_count": null,
   "id": "9d61f587-0952-421d-b0b1-22c9010075e5",
   "metadata": {},
   "outputs": [],
   "source": []
  }
 ],
 "metadata": {
  "kernelspec": {
   "display_name": "Python 3 (ipykernel)",
   "language": "python",
   "name": "python3"
  },
  "language_info": {
   "codemirror_mode": {
    "name": "ipython",
    "version": 3
   },
   "file_extension": ".py",
   "mimetype": "text/x-python",
   "name": "python",
   "nbconvert_exporter": "python",
   "pygments_lexer": "ipython3",
   "version": "3.11.4"
  }
 },
 "nbformat": 4,
 "nbformat_minor": 5
}
