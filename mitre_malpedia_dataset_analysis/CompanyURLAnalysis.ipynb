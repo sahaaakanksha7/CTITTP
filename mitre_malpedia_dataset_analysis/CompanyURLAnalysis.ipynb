{
 "cells": [
  {
   "cell_type": "code",
   "execution_count": 22,
   "id": "32d5a405-4d48-4aaa-88b9-a94c8b8bf99e",
   "metadata": {},
   "outputs": [],
   "source": [
    "import json\n",
    "import os\n",
    "import pandas as pd\n",
    "import tldextract\n",
    "from collections import Counter\n",
    "from urllib.parse import urlparse"
   ]
  },
  {
   "cell_type": "code",
   "execution_count": 3,
   "id": "99bcea4e-0bee-49b5-9e89-8e4c04820b6e",
   "metadata": {},
   "outputs": [],
   "source": [
    "# Step 1: Locate and load config.json from one level up\n",
    "parent_dir = os.path.abspath(os.path.join(os.getcwd(), os.pardir))\n",
    "config_path = os.path.normpath(os.path.join(parent_dir, 'config.json'))\n",
    "\n",
    "with open(config_path, 'r', encoding='utf-8') as f:\n",
    "    config = json.load(f)\n",
    "\n",
    "# Step 2: Build absolute path prefix based on where config.json was loaded from\n",
    "config_dir = os.path.dirname(config_path)"
   ]
  },
  {
   "cell_type": "code",
   "execution_count": 4,
   "id": "e6c95041-be04-4bdd-83e6-c279eac36ede",
   "metadata": {},
   "outputs": [],
   "source": [
    "def extract_fqdn_and_date(file_paths: list):\n",
    "    \"\"\"\n",
    "    Extracts the FQDN from the 'url' field and the 'date' from the provided JSON lines\n",
    "    in multiple files.\n",
    "\n",
    "    Args:\n",
    "        file_paths (list): List of paths to files containing JSON entries.\n",
    "\n",
    "    Returns:\n",
    "        list: A list of tuples containing the FQDN and date for each entry from all files.\n",
    "    \"\"\"\n",
    "    results = []\n",
    "    urls = []\n",
    "\n",
    "    for file_path in file_paths:\n",
    "        with open(file_path, 'r') as file:\n",
    "            # Read each line of the JSONL file\n",
    "            for line in file:\n",
    "                entry = json.loads(line)\n",
    "                # Extract the FQDN from the 'url'\n",
    "                url = entry.get(\"url\", \"\")\n",
    "                parsed_url = urlparse(url)\n",
    "                urls.append(url)\n",
    "                fqdn = parsed_url.netloc  # Get the FQDN part from the URL\n",
    "\n",
    "                # Extract the 'date'\n",
    "                date = entry.get(\"date\", \"\")\n",
    "\n",
    "                # Append the FQDN and date to the results\n",
    "                results.append((fqdn, date))\n",
    "\n",
    "    return results, urls"
   ]
  },
  {
   "cell_type": "code",
   "execution_count": 5,
   "id": "ceb35681-84ef-4507-8ece-91ce1734f67d",
   "metadata": {},
   "outputs": [
    {
     "name": "stdout",
     "output_type": "stream",
     "text": [
      "2002\n",
      "Total unique URLs: 15699\n"
     ]
    }
   ],
   "source": [
    "# File paths\n",
    "malpedia_2022_jsonl = os.path.normpath(os.path.join(config_dir, config[\"jsonl_files\"][\"Malpedia_2022\"]))\n",
    "malpedia_2024_jsonl = os.path.normpath(os.path.join(config_dir, config[\"jsonl_files\"][\"Malpedia_2024\"]))\n",
    "\n",
    "# Extract FQDNs and dates from both jsonl files\n",
    "malpedia_fqdn_and_dates, malpedia_urls = extract_fqdn_and_date([malpedia_2022_jsonl, malpedia_2024_jsonl])\n",
    "\n",
    "# Print the count of unique FQDNs across both files\n",
    "print(len(set(fqdn for fqdn, date in malpedia_fqdn_and_dates)))\n",
    "print(\"Total unique URLs:\", len(set(malpedia_urls)))"
   ]
  },
  {
   "cell_type": "code",
   "execution_count": 23,
   "id": "6093994e-322e-4c64-b435-ed01b27d49d6",
   "metadata": {},
   "outputs": [],
   "source": [
    "def extract_successful_urls(file_paths: str):\n",
    "    \"\"\"\n",
    "    Extracts the FQDN from the 'url' field only for entries where the 'download_status' is 200 (successful).\n",
    "\n",
    "    Args:\n",
    "        file_path (str): Path to the file containing JSON entries.\n",
    "\n",
    "    Returns:\n",
    "        list: A list of FQDNs for entries with a successful download status.\n",
    "    \"\"\"\n",
    "    successful_fqdn = []\n",
    "    successful_urls = []\n",
    "\n",
    "    for file_path in file_paths:\n",
    "        with open(file_path, 'r') as file:\n",
    "            # Read each line of the JSONL file\n",
    "            for line in file:\n",
    "                entry = json.loads(line)\n",
    "    \n",
    "                # Check if 'download_status' is 200\n",
    "                if entry.get('download_status') == 200:\n",
    "                    # Extract the FQDN from the 'url'\n",
    "                    url = entry.get(\"url\", \"\")\n",
    "                    parsed_url = urlparse(url)\n",
    "                    successful_urls.append(url)\n",
    "                    fqdn = parsed_url.netloc  # Get the FQDN part from the URL\n",
    "    \n",
    "                    # Append the FQDN to the list\n",
    "                    if fqdn:\n",
    "                        successful_fqdn.append(fqdn)\n",
    "\n",
    "    return successful_urls, successful_fqdn"
   ]
  },
  {
   "cell_type": "code",
   "execution_count": 24,
   "id": "ce2eb772-035e-442e-845c-90edad0f0b5e",
   "metadata": {},
   "outputs": [],
   "source": [
    "mitre_enterprise_jsonl = os.path.normpath(os.path.join(config_dir, config[\"jsonl_files\"][\"MITRE_enterprise\"]))\n",
    "mitre_mobileics_jsonl = os.path.normpath(os.path.join(config_dir, config[\"jsonl_files\"][\"MITRE_mobileics\"]))\n",
    "combined_json_files = [mitre_enterprise_jsonl, mitre_mobileics_jsonl]\n",
    "\n"
   ]
  },
  {
   "cell_type": "code",
   "execution_count": 25,
   "id": "c5c5baf5-a6a8-4ed6-b657-9a2892dfe028",
   "metadata": {},
   "outputs": [
    {
     "name": "stdout",
     "output_type": "stream",
     "text": [
      "FQDNS: 183\n",
      "URLS: 809\n"
     ]
    }
   ],
   "source": [
    "##The following analysis in on the URLs from jsonl files\n",
    "mitre_successful_urls, mitre_successful_fqdns = extract_successful_urls(combined_json_files)\n",
    "print(\"FQDNS:\", len(set(mitre_successful_fqdns)))\n",
    "print(\"URLS:\" , len(set(mitre_successful_urls)))"
   ]
  },
  {
   "cell_type": "code",
   "execution_count": 29,
   "id": "3950bd64-a243-45fe-bfac-beb765771b5c",
   "metadata": {},
   "outputs": [],
   "source": [
    "#  ATTACK group file paths\n",
    "group_paths = [\n",
    "    os.path.normpath(os.path.join(config_dir, config[\"data_directory\"], config[\"file_paths_groups_v15\"][\"enterprise\"])),\n",
    "    os.path.normpath(os.path.join(config_dir, config[\"data_directory\"], config[\"file_paths_groups_v15\"][\"mobile\"])),\n",
    "    os.path.normpath(os.path.join(config_dir, config[\"data_directory\"], config[\"file_paths_groups_v15\"][\"ics\"]))\n",
    "]"
   ]
  },
  {
   "cell_type": "code",
   "execution_count": 30,
   "id": "33418cf8-3b47-4f7e-a05d-51af0c35ba71",
   "metadata": {},
   "outputs": [
    {
     "name": "stdout",
     "output_type": "stream",
     "text": [
      "enterprise-attack-v15.1-groups.xlsx: 1372 URLs, 905 unique URLs\n",
      "mobile-attack-v15.1-groups.xlsx: 85 URLs, 74 unique URLs\n",
      "ics-attack-v15.1-groups.xlsx: 159 URLs, 131 unique URLs\n",
      "Total unique FQDNs across all files: 218\n"
     ]
    }
   ],
   "source": [
    "## The following analysis is form the citation URLs in the attack spreadsheet\n",
    "# Step 2: Read the \"Citations\" sheet and extract the \"URL\" column from each spreadsheet\n",
    "mitre_all_fqdns = []\n",
    "\n",
    "for path in group_paths:\n",
    "    try:\n",
    "        df = pd.read_excel(path, sheet_name='citations')['url'].dropna()\n",
    "        print(f\"{os.path.basename(path)}: {len(df)} URLs, {df.nunique()} unique URLs\")\n",
    "\n",
    "        for url in df:\n",
    "            fqdn = urlparse(url).netloc\n",
    "            if fqdn:\n",
    "                mitre_all_fqdns.append(fqdn)\n",
    "    except Exception as e:\n",
    "        print(f\"Error processing {path}: {e}\")\n",
    "\n",
    "print(f\"Total unique FQDNs across all files: {len(set(mitre_all_fqdns))}\")\n",
    "#print(set(mitre_successful_fqdns))"
   ]
  },
  {
   "cell_type": "code",
   "execution_count": 32,
   "id": "00cdb7de-6868-4c59-bb6e-4ed4fbc03a4c",
   "metadata": {},
   "outputs": [],
   "source": [
    "def compare_fqdns(malpedia_fqdn_and_dates: list, mitre_successful_fqdns: list):\n",
    "    \"\"\"\n",
    "    Compares two sets of FQDNs, returning the overlap, A-B, B-A, and their counts.\n",
    "\n",
    "    Args:\n",
    "        fqdn_and_dates (list): A list of tuples containing FQDN and date.\n",
    "        successful_fqdns (list): A list of FQDNs with successful download statuses.\n",
    "\n",
    "    Returns:\n",
    "        dict: A dictionary with the overlap, A-B, B-A, and counts for each.\n",
    "    \"\"\"\n",
    "    # Extract unique FQDNs from both lists\n",
    "    unique_fqdn_dates = set(fqdn for fqdn, date in malpedia_fqdn_and_dates)  # Unique FQDNs from fqdn_and_dates\n",
    "    unique_successful_fqdns = set(mitre_successful_fqdns)  # Unique FQDNs from successful_fqdns\n",
    "\n",
    "    # Find union\n",
    "    union_set = unique_fqdn_dates.union(unique_successful_fqdns)\n",
    "    \n",
    "    # Find the overlap\n",
    "    overlap = unique_fqdn_dates.intersection(unique_successful_fqdns)\n",
    "\n",
    "    # Find A - B (FQDNs in fqdn_and_dates but not in successful_fqdns)\n",
    "    a_minus_b = unique_fqdn_dates.difference(unique_successful_fqdns)\n",
    "\n",
    "    # Find B - A (FQDNs in successful_fqdns but not in fqdn_and_dates)\n",
    "    b_minus_a = unique_successful_fqdns.difference(unique_fqdn_dates)\n",
    "\n",
    "    #Count the frequencies of FQDNs in Malpedia and MITRE lists\n",
    "    malpedia_fqdn_counter = Counter(fqdn for fqdn, date in malpedia_fqdn_and_dates)\n",
    "    mitre_fqdn_counter = Counter(mitre_successful_fqdns)\n",
    "\n",
    "    # Get the top 5 FQDNs by frequency in Malpedia, MITRE, and overlap\n",
    "    top_malpedia_fqdns = malpedia_fqdn_counter.most_common(10)\n",
    "    top_mitre_fqdns = mitre_fqdn_counter.most_common(10)\n",
    " \n",
    "\n",
    "    # Return the results along with the counts\n",
    "    return {\n",
    "        'union':union_set,\n",
    "        'overlap': overlap,\n",
    "        'A-B': a_minus_b,\n",
    "        'B-A': b_minus_a,\n",
    "        'union_count':len(union_set),\n",
    "        'overlap_count': len(overlap),\n",
    "        'A-B_count': len(a_minus_b),\n",
    "        'B-A_count': len(b_minus_a),\n",
    "        'top_malpedia_fqdns': top_malpedia_fqdns,\n",
    "        'top_mitre_fqdns': top_mitre_fqdns,\n",
    "    }"
   ]
  },
  {
   "cell_type": "code",
   "execution_count": 33,
   "id": "5a9b790e-7adb-47b5-9bd6-d9d156dfcdf0",
   "metadata": {},
   "outputs": [
    {
     "name": "stdout",
     "output_type": "stream",
     "text": [
      "Union (A  U B) Count: 2026\n",
      "Overlap (A ∩ B): {'unit42.paloaltonetworks.com', 'paper.seebug.org', 'www.rapid7.com', 'www.rewterz.com', 'thedfirreport.com', 'blogs.blackberry.com', 'www.darkreading.com', 'blog.trendmicro.com', 'www.proofpoint.com', 'arstechnica.com', 'www.cert.ssi.gouv.fr', 'www.mandiant.com', 'www.slideshare.net', 'www.issuemakerslab.com', 'blog-assets.f-secure.com', 'cybleinc.com', 'www.anomali.com', 'www.group-ib.com', 'go.recordedfuture.com', 'www.gov.uk', 'www.wired.com', 'www.trustwave.com', 'www.trellix.com', 'www.uptycs.com', 'symantec-enterprise-blogs.security.com', 'www.f-secure.com', 'www.lookout.com', 'www.welivesecurity.com', 'msrc-blog.microsoft.com', 'blog.netlab.360.com', 'www.accenture.com', 'www.cylance.com', 'blog.checkpoint.com', 'reaqta.com', 'www.cybercom.mil', 'www2.fireeye.com', 'www.blackberry.com', 'www.cyfirma.com', 'www.leonardo.com', 'research.nccgroup.com', 'www.reuters.com', 'global.ahnlab.com', 'f.hubspotusercontent30.net', 'blogs.cisco.com', 'www.europol.europa.eu', 'redcanary.com', 'dragos.com', 'www.brighttalk.com', 'www.cisa.gov', 'www.trendmicro.de', 'assets.sentinelone.com', 'www.sentinelone.com', 'media.defense.gov', 'www.threatconnect.com', 'www.pwc.co.uk', 'usa.kaspersky.com', 'securingtomorrow.mcafee.com', 'securityintelligence.com', 'blog.360totalsecurity.com', 'www.malwarebytes.com', 'www.forbes.com', 'documents.trendmicro.com', 'pylos.co', 'www.recordedfuture.com', 'threatvector.cylance.com', 'www.clearskysec.com', 'citizenlab.ca', 'vblocalhost.com', 'www.sans.org', 'threatpost.com', 'www.prevailion.com', 'www.ncsc.gov.uk', 'asert.arbornetworks.com', 'www.whitehouse.gov', 'blog.google', 'info.phishlabs.com', 'www.trendmicro.com', 'twitter.com', 'docs.google.com', 'cdn0.vox-cdn.com', 'pan-unit42.github.io', 'pwc.blogs.com', 'blog.malwarebytes.com', 'cycraft.com', 'www.symantec.com', 'www.zdnet.com', 'www.lacework.com', 'blog.bushidotoken.net', 'labs.sentinelone.com', 'us-cert.cisa.gov', 'www.talent-jump.com', 'www.bleepingcomputer.com', 's3-eu-west-1.amazonaws.com', 'blog.cylance.com', 'cyberscoop.com', 'blogs.jpcert.or.jp', 'blogs.technet.microsoft.com', 'www.cybereason.com', 'businessinsights.bitdefender.com', 'www.fsec.or.kr', 'www.flashpoint-intel.com', 'logrhythm.com', 'threatconnect.com', 'query.prod.cms.rt.microsoft.com', 'www.coresecurity.com', 'www.zscaler.com', 'download.bitdefender.com', 'usa.visa.com', 'www.bitdefender.com', 'go.crowdstrike.com', 'home.treasury.gov', 'www.infosecurity-magazine.com', 'www.microsoft.com', 'download.microsoft.com', 'www.fireeye.com', 'noticeofpleadings.com', 'blog.talosintelligence.com', 'www.eweek.com', 'www.lastline.com', 'securityaffairs.co', 'blog.aquasec.com', 'www.us-cert.gov', 'iranthreats.github.io', 'cdn2.hubspot.net', 'www.volexity.com', 'www.crowdstrike.com', 'www.bbc.com', 'ti.dbappsecurity.com.cn', 'web.archive.org', 'news.sophos.com', 'therecord.media', 'arcticwolf.com', 'community.broadcom.com', 'www.paloaltonetworks.com', 'www.justice.gov', 'www.avira.com', 'go.group-ib.com', 'cloudblogs.microsoft.com', 'msrc.microsoft.com', 'www.boho.or.kr', 'www.fox-it.com', 'foxitsecurity.files.wordpress.com', 'www.ic3.gov', 'docs.microsoft.com', 'blog.sygnia.co', 'research.checkpoint.com', 'info.lookout.com', 'www.virusbulletin.com', 'www.forcepoint.com', 'www.dragos.com', 'github.com', 'geminiadvisory.io', 'www.securityweek.com', 'www.domaintools.com', 'www.youtube.com', 'lab52.io', 'www.secureworks.com', 'objective-see.com', 'blogs.microsoft.com', 'security.web.cern.ch', 'www.deepinstinct.com', 'www.ptsecurity.com', 'cdn-cybersecurity.att.com', 'cybersecurity.att.com', 'blog.scilabs.mx', 'www.ironnet.com', 'docs.broadcom.com', 'blog.morphisec.com', 'about.fb.com', 'thehackernews.com', 'media.kasperskycontenthub.com', 'www.cadosecurity.com', 'www.cyberscoop.com', 'www.esentire.com', 'download.ahnlab.com', 'attack.mitre.org', 'securelist.com', 'netzpolitik.org', 'www.rsa.com', 'insight-jp.nttsecurity.com', 'www.operationblockbuster.com', 'learn.microsoft.com', 'adversary.crowdstrike.com', 'content.fireeye.com', 'www.intezer.com', 'gibnc.group-ib.com', 'blog.qualys.com', 'www.ria.ee', 'vb2020.vblocalhost.com', 'resources.cylera.com', 'blog.alyac.co.kr', 'blog.certfa.com', 'researchcenter.paloaltonetworks.com', 'www.mcafee.com'}, Count: 194\n",
      "A - B (In Malpedia but not in MITRE) Count: 1808\n",
      "B - A (In MITRE but not in Malpedia): {'operationblockbuster.com', 'citizenlab.org', 'www.tetradefense.com', 'enterprise-manage.norman.c.bitbit.net', '401trg.github.io', 'www.csmonitor.com', 'tools.kali.org', 'www.amnestyusa.org', 'www.threatminer.org', 'published-prd.lanyonevents.com', 'airbus-cyber-security.com', 'www.threatstream.com', 'crowdstrike.lookbookhq.com', 'brica.de', 'telefonicatech.com', 'recon.cx', 'cyberforensicator.com', 'www.eisac.com', 'www.iranwatch.org', '2017-2021.state.gov', 'www.cyberviser.com', 'fortune.com', 'blogs.forcepoint.com', 'carnal0wnage.attackresearch.com'}, Count: 24\n",
      "\n",
      "Top FQDNs in Malpedia (by frequency):\n",
      "twitter.com: 574 times\n",
      "www.bleepingcomputer.com: 447 times\n",
      "securelist.com: 396 times\n",
      "github.com: 358 times\n",
      "unit42.paloaltonetworks.com: 321 times\n",
      "www.trendmicro.com: 309 times\n",
      "www.welivesecurity.com: 282 times\n",
      "medium.com: 238 times\n",
      "www.youtube.com: 235 times\n",
      "blog.talosintelligence.com: 219 times\n",
      "\n",
      "Top FQDNs in MITRE (by frequency):\n",
      "www.fireeye.com: 112 times\n",
      "www.secureworks.com: 102 times\n",
      "securelist.com: 77 times\n",
      "www.welivesecurity.com: 65 times\n",
      "web.archive.org: 64 times\n",
      "www.crowdstrike.com: 64 times\n",
      "researchcenter.paloaltonetworks.com: 59 times\n",
      "www.microsoft.com: 54 times\n",
      "www.mandiant.com: 41 times\n",
      "unit42.paloaltonetworks.com: 39 times\n"
     ]
    }
   ],
   "source": [
    "# Compare the FQDNs\n",
    "comparison_results = compare_fqdns(malpedia_fqdn_and_dates, mitre_all_fqdns)\n",
    "\n",
    "# Display the results\n",
    "print(f\"Union (A  U B) Count: {comparison_results['union_count']}\")\n",
    "print(f\"Overlap (A ∩ B): {comparison_results['overlap']}, Count: {comparison_results['overlap_count']}\")\n",
    "print(f\"A - B (In Malpedia but not in MITRE) Count: {comparison_results['A-B_count']}\")\n",
    "print(f\"B - A (In MITRE but not in Malpedia): {comparison_results['B-A']}, Count: {comparison_results['B-A_count']}\")\n",
    "\n",
    "# Print the top FQDNs by frequency\n",
    "print(\"\\nTop FQDNs in Malpedia (by frequency):\")\n",
    "for fqdn, count in comparison_results['top_malpedia_fqdns']:\n",
    "    print(f\"{fqdn}: {count} times\")\n",
    "\n",
    "print(\"\\nTop FQDNs in MITRE (by frequency):\")\n",
    "for fqdn, count in comparison_results['top_mitre_fqdns']:\n",
    "    print(f\"{fqdn}: {count} times\")\n"
   ]
  },
  {
   "cell_type": "code",
   "execution_count": 34,
   "id": "c7724bff-7cbf-4efa-a5c1-2074c492ec10",
   "metadata": {},
   "outputs": [
    {
     "name": "stdout",
     "output_type": "stream",
     "text": [
      "Intersection of second-level domains: {'welivesecurity', 'securityweek', 'operationblockbuster', 'justice', 'securityintelligence', 'threatconnect', 'f-secure', 'fox-it', 'therecord', 'trendmicro', 'dragos', 'certfa', 'security', 'lab52', 'twitter', 'scilabs', 'morphisec', 'fb', 'broadcom', 'qualys', 'securityaffairs', 'trellix', 'domaintools', 'lookout', 'ncsc', 'threatpost', 'noticeofpleadings', 'intezer', 'cisa', 'phishlabs', 'seebug', 'sans', 'pylos', 'cybleinc', 'bitdefender', 'wordpress', 'thehackernews', 'cylance', 'deepinstinct', 'eweek', 'aquasec', 'talent-jump', 'flashpoint-intel', 'forbes', 'sentinelone', 'geminiadvisory', 'blog', 'arcticwolf', 'bushidotoken', 'paloaltonetworks', 'us-cert', 'coresecurity', 'hubspot', 'jpcert', '360totalsecurity', 'ssi', 'dbappsecurity', 'whitehouse', 'att', 'sophos', 'redcanary', 'esentire', 'www', 'fsec', 'pwc', 'talosintelligence', 'ironnet', 'arstechnica', 'zdnet', 'kasperskycontenthub', 'objective-see', 'github', 'bleepingcomputer', 'nccgroup', 'visa', 'cyberscoop', 'mcafee', '360', 'anomali', 'lacework', 'reaqta', 'cybercom', 'virusbulletin', 'darkreading', 'amazonaws', 'rapid7', 'uptycs', 'slideshare', 'citizenlab', 'crowdstrike', 'proofpoint', 'accenture', 'fireeye', 'cadosecurity', 'treasury', 'cern', 'ptsecurity', 'cisco', 'vblocalhost', 'cycraft', 'state', 'cylera', 'europa', 'kaspersky', 'forcepoint', 'brighttalk', 'mitre', 'archive', 'hubspotusercontent30', 'reuters', 'cybereason', 'avira', 'thedfirreport', 'lastline', 'defense', 'blackberry', 'logrhythm', 'prevailion', 'zscaler', 'microsoft', 'netzpolitik', 'infosecurity-magazine', 'wired', 'nttsecurity', 'leonardo', 'google', 'ria', 'checkpoint', 'clearskysec', 'symantec', 'bbc', 'secureworks', 'youtube', 'rsa', 'vox-cdn', 'sygnia', 'issuemakerslab', 'ic3', 'arbornetworks', 'securelist', 'trustwave', 'mandiant', 'group-ib', 'boho', 'blogs', 'rewterz', 'volexity', 'cyfirma', 'ahnlab', 'recordedfuture', 'malwarebytes', 'alyac'}\n",
      "Domains in MITRE but not in Malpedia: {'tetradefense', 'cyberviser', 'csmonitor', 'amnestyusa', 'threatstream', 'lookbookhq', 'lanyonevents', 'airbus-cyber-security', 'eisac', 'attackresearch', 'brica', 'cyberforensicator', 'recon', 'iranwatch', 'telefonicatech', 'fortune', 'kali', 'bitbit', 'threatminer'}\n"
     ]
    }
   ],
   "source": [
    "def extract_second_level_domain(fqdn):\n",
    "    \"\"\"\n",
    "    Extracts the second-level domain (SLD) from a given FQDN.\n",
    "    \n",
    "    Args:\n",
    "        fqdn (str): Fully Qualified Domain Name (FQDN).\n",
    "        \n",
    "    Returns:\n",
    "        str: The second-level domain of the FQDN.\n",
    "    \"\"\"\n",
    "    extracted = tldextract.extract(fqdn)\n",
    "    return extracted.domain  # This gives you the second-level domain (SLD)\n",
    "\n",
    "\n",
    "# Extract unique second-level domains from both lists\n",
    "unique_second_level_malpedia = set(extract_second_level_domain(fqdn) for fqdn, date in malpedia_fqdn_and_dates)\n",
    "unique_second_level_mitre = set(extract_second_level_domain(fqdn) for fqdn in mitre_all_fqdns)\n",
    "\n",
    "# Find the intersection of second-level domains\n",
    "overlap = unique_second_level_malpedia.intersection(unique_second_level_mitre)\n",
    "b_minus_a = unique_second_level_mitre.difference(unique_second_level_malpedia)\n",
    "# Print the result\n",
    "print(f\"Intersection of second-level domains: {overlap}\")\n",
    "print(f\"Domains in MITRE but not in Malpedia: {b_minus_a}\")"
   ]
  },
  {
   "cell_type": "code",
   "execution_count": null,
   "id": "9d61f587-0952-421d-b0b1-22c9010075e5",
   "metadata": {},
   "outputs": [],
   "source": []
  }
 ],
 "metadata": {
  "kernelspec": {
   "display_name": "Python 3 (ipykernel)",
   "language": "python",
   "name": "python3"
  },
  "language_info": {
   "codemirror_mode": {
    "name": "ipython",
    "version": 3
   },
   "file_extension": ".py",
   "mimetype": "text/x-python",
   "name": "python",
   "nbconvert_exporter": "python",
   "pygments_lexer": "ipython3",
   "version": "3.11.4"
  }
 },
 "nbformat": 4,
 "nbformat_minor": 5
}
