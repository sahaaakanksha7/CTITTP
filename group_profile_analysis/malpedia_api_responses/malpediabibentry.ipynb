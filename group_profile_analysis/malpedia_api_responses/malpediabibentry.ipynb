{
 "cells": [
  {
   "cell_type": "code",
   "execution_count": 18,
   "id": "0568fdbc-3422-4321-9207-238843e0dda7",
   "metadata": {},
   "outputs": [],
   "source": [
    "# Paths to your two BibTeX files\n",
    "old_bib_path = 'malpedia-db_2022-07-18.bib'\n",
    "new_bib_path = 'malpedia-db_2024-11-12.bib'\n"
   ]
  },
  {
   "cell_type": "code",
   "execution_count": 19,
   "id": "8f17c8bc-a90d-4360-b5e7-729046c104a0",
   "metadata": {},
   "outputs": [],
   "source": [
    "def write_urls_to_file(urls, file_path):\n",
    "    \"\"\"\n",
    "    Writes a list of URLs to a file.\n",
    "    \n",
    "    Args:\n",
    "        urls (list): List of URLs to write.\n",
    "        file_path (str): Output file path.\n",
    "    \"\"\"\n",
    "    with open(file_path, 'w', encoding='utf-8') as file:\n",
    "        for url in urls:\n",
    "            file.write(url + '\\n')"
   ]
  },
  {
   "cell_type": "code",
   "execution_count": 21,
   "id": "3727720b-b401-4310-b077-bd98d332b865",
   "metadata": {},
   "outputs": [
    {
     "name": "stdout",
     "output_type": "stream",
     "text": [
      "3959\n",
      "3959\n",
      "New URLs have been written to Malpedia_download_urls.txt\n"
     ]
    }
   ],
   "source": [
    "import bibtexparser\n",
    "\n",
    "def replace_online_with_misc(content):\n",
    "    \"\"\"Replace @online entries with @misc to ensure compatibility.\"\"\"\n",
    "    return content.replace('@online', '@misc')\n",
    "\n",
    "def load_bib_file(file_path):\n",
    "    \"\"\"\n",
    "    Loads a .bib file and parses it into a dictionary.\n",
    "    \n",
    "    Args:\n",
    "        file_path (str): Path to the .bib file.\n",
    "        \n",
    "    Returns:\n",
    "        list: A list of parsed BibTeX entries.\n",
    "    \"\"\"\n",
    "    with open(file_path, 'r', encoding='utf-8') as bib_file:\n",
    "        content = bib_file.read()\n",
    "        modified_content = replace_online_with_misc(content)\n",
    "        \n",
    "        parser = bibtexparser.bparser.BibTexParser(common_strings=True)\n",
    "        bib_database = bibtexparser.loads(modified_content, parser=parser)\n",
    "        return bib_database.entries\n",
    "\n",
    "def extract_new_entries(old_entries, new_entries):\n",
    "    \"\"\"\n",
    "    Compares two sets of BibTeX entries and finds new ones.\n",
    "    \n",
    "    Args:\n",
    "        old_entries (list): List of entries from the old BibTeX file.\n",
    "        new_entries (list): List of entries from the new BibTeX file.\n",
    "        \n",
    "    Returns:\n",
    "        list: A list of new BibTeX entries found only in the new file.\n",
    "    \"\"\"\n",
    "    old_keys = {entry['ID'] for entry in old_entries}  # Get all IDs from old entries\n",
    "    new_entries_only = [entry for entry in new_entries if entry['ID'] not in old_keys]\n",
    "    return new_entries_only\n",
    "\n",
    "def extract_urls_from_entries(entries):\n",
    "    \"\"\"\n",
    "    Extracts URLs from a list of BibTeX entries.\n",
    "    \n",
    "    Args:\n",
    "        entries (list): List of BibTeX entries.\n",
    "        \n",
    "    Returns:\n",
    "        list: A list of URLs found in the entries.\n",
    "    \"\"\"\n",
    "    urls = [entry['url'] for entry in entries if 'url' in entry]\n",
    "    return urls\n",
    "\n",
    "\n",
    "old_entries = load_bib_file(old_bib_path)  # Load 2022 entries\n",
    "new_entries = load_bib_file(new_bib_path)  # Load 2024 entries\n",
    "\n",
    "# Find new entries in the 2024 BibTeX file\n",
    "new_entries_only = extract_new_entries(old_entries, new_entries)\n",
    "print(len(new_entries_only))\n",
    "# Extract URLs from the new entries\n",
    "new_urls = extract_urls_from_entries(new_entries_only)\n",
    "print(len(new_urls))\n",
    "# Output the new URLs\n",
    "#print(f\"New URLs extracted: {new_urls}\")\n",
    "\n",
    "output_file_path = \"Malpedia_download_urls.txt\"\n",
    "# Write the new URLs to a file\n",
    "write_urls_to_file(new_urls, output_file_path)\n",
    "\n",
    "print(f\"New URLs have been written to {output_file_path}\")\n",
    "\n",
    "# Optionally, you can save these new entries to another file or process them further\n",
    "#for entry in new_entries_only:\n",
    "#    print(f\"New Entry: {entry['ID']}, URL: {entry.get('url', 'No URL')}\")\n"
   ]
  },
  {
   "cell_type": "code",
   "execution_count": null,
   "id": "50f4980c-262a-4828-9b10-845c09aac11b",
   "metadata": {},
   "outputs": [],
   "source": []
  }
 ],
 "metadata": {
  "kernelspec": {
   "display_name": "Python 3 (ipykernel)",
   "language": "python",
   "name": "python3"
  },
  "language_info": {
   "codemirror_mode": {
    "name": "ipython",
    "version": 3
   },
   "file_extension": ".py",
   "mimetype": "text/x-python",
   "name": "python",
   "nbconvert_exporter": "python",
   "pygments_lexer": "ipython3",
   "version": "3.11.4"
  }
 },
 "nbformat": 4,
 "nbformat_minor": 5
}
