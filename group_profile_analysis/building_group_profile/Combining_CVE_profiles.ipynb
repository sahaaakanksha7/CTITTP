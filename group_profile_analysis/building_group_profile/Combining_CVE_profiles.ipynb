{
 "cells": [
  {
   "cell_type": "code",
   "execution_count": 4,
   "id": "c5916397-f6d2-4178-8a61-577e70fad0a3",
   "metadata": {},
   "outputs": [],
   "source": [
    "import pandas as pd\n",
    "import json\n",
    "import os\n",
    "from statistics import mode\n",
    "from collections import Counter\n",
    "import requests\n",
    "import re\n",
    "import copy\n",
    "import pprint"
   ]
  },
  {
   "cell_type": "code",
   "execution_count": 5,
   "id": "f8167d51-ff50-4b46-a2b3-c4578e671121",
   "metadata": {},
   "outputs": [],
   "source": [
    "def load_config():\n",
    "    # Get the absolute path of the project root (one directory up)\n",
    "    project_root = os.path.abspath(os.path.join(os.getcwd(), '../..'))\n",
    "\n",
    "    # Normalize the project_root to ensure it's correctly formatted\n",
    "    project_root = os.path.normpath(project_root)\n",
    "    \n",
    "    config_path = os.path.join(project_root, 'config.json')\n",
    "\n",
    "    if not os.path.exists(config_path):\n",
    "        raise FileNotFoundError(f\"Config file not found at expected location: {config_path}\")\n",
    "\n",
    "    with open(config_path, 'r') as f:\n",
    "        config = json.load(f)\n",
    "\n",
    "    return config, project_root\n"
   ]
  },
  {
   "cell_type": "code",
   "execution_count": 6,
   "id": "605a42d5-d3b8-4634-bff8-06ab09262e54",
   "metadata": {},
   "outputs": [],
   "source": [
    "config, project_root = load_config()\n"
   ]
  },
  {
   "cell_type": "code",
   "execution_count": 7,
   "id": "a35711c5-8346-46c3-9488-6140acdbc9e1",
   "metadata": {},
   "outputs": [],
   "source": [
    "mitre_cve_map_file = os.path.normpath(os.path.join(project_root, \"group_profile_analysis\", \"group_analysis_json_outputs\", \"MITRE_cve_group_analysis.json\"))\n",
    "malpedia_cve_map_file = os.path.normpath(os.path.join(project_root, \"group_profile_analysis\", \"group_analysis_json_outputs\", \"Malpedia_cve_group_analysis.json\"))\n",
    "\n",
    "updated_union_map_file = os.path.normpath(os.path.join(os.getcwd(), \"intermediate_json_outputs\", \"malpedia_attack_group_software_union_profile.json\"))"
   ]
  },
  {
   "cell_type": "code",
   "execution_count": 8,
   "id": "93fbc400-6a77-4b05-b2e2-fb4131f57fa5",
   "metadata": {},
   "outputs": [],
   "source": [
    "# Function to normalize group names\n",
    "def normalize_group_name(name):\n",
    "    \n",
    "    if not isinstance(name, str):\n",
    "        return ''\n",
    "    \n",
    "    # Convert to lowercase for case-insensitive comparison\n",
    "    name = name.lower().strip()\n",
    "\n",
    "    # Remove 'team' from names like 'Sandworm Team'\n",
    "    if name.endswith(' team'):\n",
    "        name = name.replace(' team', '')\n",
    "\n",
    "    # Replace 'threat group-' with 'tg-' (e.g., 'Threat Group-1314' -> 'TG-1314')\n",
    "    name = re.sub(r'threat group[- ]', 'tg-', name)\n",
    "\n",
    "    # Remove 'temp.' or similar prefixes (e.g., 'Temp.Pittytiger' -> 'Pittytiger')\n",
    "    name = re.sub(r'^temp[\\. ]+', '', name)\n",
    "\n",
    "    # Normalize spaces and dots (e.g., 'pitty tiger' == 'pitty.tiger')\n",
    "    name = re.sub(r'[\\. ]+', ' ', name)\n",
    "\n",
    "    # Remove common suffixes like 'framework' or 'group' (e.g., 'Inception Framework' -> 'Inception')\n",
    "    name = re.sub(r' (framework|group)$', '', name)\n",
    "\n",
    "    # Standardize 'Confucius' and 'Confucious' to 'confucius'\n",
    "    name = re.sub(r'confucious', 'confucius', name)\n",
    "\n",
    "    # Normalize specific known prefixes (apt, unc, g)\n",
    "    name = re.sub(\n",
    "        r'\\b(apt|unc|g)[\\s\\.-]*([a-z]*)[\\s\\.-]*(\\d{1,4})\\b',\n",
    "        lambda m: m.group(1) + m.group(2) + m.group(3),\n",
    "        name\n",
    "    )\n",
    "    #re.sub(r'([a-z])[\\s\\.-]?(\\d{2,4})', r'\\1\\2', name)\n",
    "\n",
    "\n",
    "    return name"
   ]
  },
  {
   "cell_type": "code",
   "execution_count": 9,
   "id": "ecc9260b-bcb7-4df6-bdb2-c040d4720a66",
   "metadata": {},
   "outputs": [],
   "source": [
    "def load_json_metadata(metadata_path):\n",
    "    \"\"\"\n",
    "    Loads the group metadata JSON file.\n",
    "\n",
    "    Parameters\n",
    "    ----------\n",
    "    metadata_path : str\n",
    "        Path to the JSON file containing group metadata.\n",
    "\n",
    "    Returns\n",
    "    -------\n",
    "    dict\n",
    "        Group metadata loaded from the file.\n",
    "    \"\"\"\n",
    "    with open(metadata_path, 'r', encoding='utf-8') as f:\n",
    "        metadata = json.load(f)\n",
    "    return metadata"
   ]
  },
  {
   "cell_type": "code",
   "execution_count": 10,
   "id": "6109e7c5-2711-42cf-b619-db0ab508913a",
   "metadata": {},
   "outputs": [],
   "source": [
    "def load_cves_from_json(json_file):\n",
    "    \"\"\"\n",
    "    Loads the CVE data from a JSON file and returns a dictionary of group IDs to associated CVEs.\n",
    "    \n",
    "    Parameters\n",
    "    ----------\n",
    "    json_file : str\n",
    "        Path to the JSON file containing APT group CVE data.\n",
    "    \n",
    "    Returns\n",
    "    -------\n",
    "    dict\n",
    "        A dictionary with group IDs as keys and a list of CVEs as values.\n",
    "    \"\"\"\n",
    "    with open(json_file, 'r') as file:\n",
    "        data = json.load(file)\n",
    "\n",
    "    cve_map = {}\n",
    "    for group_id, details in data.items():\n",
    "        # Flatten the CVEs associated with all hashes for each group\n",
    "        cves = set()\n",
    "        for item in details.get('hashes', []):\n",
    "            cves.update(item.get('cves', []))\n",
    "        cve_map[group_id] = cves\n",
    "    \n",
    "    return cve_map"
   ]
  },
  {
   "cell_type": "code",
   "execution_count": 11,
   "id": "bae306dd-e241-47ec-ba3b-15c561bd197e",
   "metadata": {},
   "outputs": [],
   "source": [
    "def group_cves_by_threat_group(malpedia_cve_path: str) -> dict:\n",
    "    \"\"\"\n",
    "    Groups CVEs under threat groups, considering only the URLs with source 'actor' or 'attribution'.\n",
    "    \n",
    "    Parameters\n",
    "    ----------\n",
    "    malpedia_cve_path : str\n",
    "        Path to the JSON file containing Malpedia CVE data.\n",
    "    \n",
    "    Returns\n",
    "    -------\n",
    "    dict\n",
    "        A dictionary with threat groups as keys and their associated CVEs as values.\n",
    "    \"\"\"\n",
    "    with open(malpedia_cve_path, 'r') as file:\n",
    "        data = json.load(file)\n",
    "    \n",
    "    grouped_cves = {}\n",
    "\n",
    "    # Process the data to group CVEs\n",
    "    for group in data:\n",
    "        if group == \"Unknown\":\n",
    "            continue  # Skip the \"Unknown\" group\n",
    "        # Collect only URLs with 'actor' or 'attribution' source\n",
    "        relevant_urls = [url['url'] for url in data[group].get('urls', []) \n",
    "                         if url['source'] in ['actor', 'attribution']]\n",
    "        \n",
    "        if relevant_urls:\n",
    "            # Collect CVEs from the current group\n",
    "            cves = set()\n",
    "            for hash_entry in data[group].get('hashes', []):\n",
    "                cves.update(hash_entry.get('cves', []))\n",
    "\n",
    "            # Add the CVEs to the group if there are relevant URLs\n",
    "            grouped_cves[group] = sorted(cves)\n",
    "\n",
    "    return grouped_cves\n"
   ]
  },
  {
   "cell_type": "code",
   "execution_count": 12,
   "id": "c1e86cda-fca3-43f9-b840-4cc33d65d463",
   "metadata": {},
   "outputs": [],
   "source": [
    "mitre_cve_map_metadata = load_cves_from_json(mitre_cve_map_file)\n",
    "union_map_metadata = load_json_metadata(updated_union_map_file)"
   ]
  },
  {
   "cell_type": "code",
   "execution_count": 13,
   "id": "c3d8b639-d718-447f-8622-86d23bb68862",
   "metadata": {},
   "outputs": [],
   "source": [
    "malpedia_cve_map_metadata = group_cves_by_threat_group(malpedia_cve_map_file)"
   ]
  },
  {
   "cell_type": "code",
   "execution_count": 14,
   "id": "95fa55f6-c924-436b-a8ae-88f3b68f8577",
   "metadata": {},
   "outputs": [
    {
     "data": {
      "text/plain": [
       "(86, 278, 331)"
      ]
     },
     "execution_count": 14,
     "metadata": {},
     "output_type": "execute_result"
    }
   ],
   "source": [
    "len(mitre_cve_map_metadata), len(malpedia_cve_map_metadata), len(union_map_metadata)"
   ]
  },
  {
   "cell_type": "code",
   "execution_count": 16,
   "id": "a7ac6e37-b313-40d0-8a08-46f87eb30144",
   "metadata": {},
   "outputs": [],
   "source": [
    "#{k: malpedia_cve_map_metadata[k] for k in list(malpedia_cve_map_metadata)[:2]}"
   ]
  },
  {
   "cell_type": "code",
   "execution_count": 17,
   "id": "591929ac-d7ad-40bc-9ffd-9cc608ac1348",
   "metadata": {},
   "outputs": [],
   "source": [
    "def update_union_with_cves(union_map: dict, cve_map: dict) -> dict:\n",
    "    \"\"\"\n",
    "    Updates the union map with attack CVEs from the CVE map. Adds new groups if they don't exist in the union.\n",
    "\n",
    "    Parameters\n",
    "    ----------\n",
    "    union_map : dict\n",
    "        Dictionary containing APT group metadata.\n",
    "    cve_map : dict\n",
    "        Dictionary mapping group IDs to sets of CVEs.\n",
    "\n",
    "    Returns\n",
    "    -------\n",
    "    dict\n",
    "        The updated union map.\n",
    "    \"\"\"\n",
    "    for group_id, cves in cve_map.items():\n",
    "        sorted_cves = sorted(cves)\n",
    "        if group_id in union_map:\n",
    "            union_map[group_id][\"attack cve\"] = sorted_cves\n",
    "        else:\n",
    "            print(f\"New group added to union: {group_id}\")\n",
    "            union_map[group_id] = {\n",
    "                \"mitre name\": \"\",\n",
    "                \"mitre alias\": [],\n",
    "                \"malpedia name\": \"\",\n",
    "                \"malpedia alias\": [],\n",
    "                \"attack techniques\": [],\n",
    "                \"technique name\": [],\n",
    "                \"attack software\": [],\n",
    "                \"malpedia techniques\": [],\n",
    "                \"malpedia software\": [],\n",
    "                \"attack cve\": sorted_cves\n",
    "            }\n",
    "    \n",
    "    # Ensure all existing groups in the union_map have the \"attack cve\" key, initialized as an empty list if missing\n",
    "    for group_id in union_map:\n",
    "        union_map[group_id].setdefault(\"attack cve\", [])\n",
    "    \n",
    "    return union_map\n"
   ]
  },
  {
   "cell_type": "code",
   "execution_count": 18,
   "id": "566229c6-8957-46ab-a771-3b8df7240a6b",
   "metadata": {},
   "outputs": [],
   "source": [
    "union_map_metadata = update_union_with_cves(union_map_metadata, mitre_cve_map_metadata)\n"
   ]
  },
  {
   "cell_type": "code",
   "execution_count": 19,
   "id": "172c25b1-6f66-4e63-9953-144e7cc29148",
   "metadata": {},
   "outputs": [
    {
     "data": {
      "text/plain": [
       "331"
      ]
     },
     "execution_count": 19,
     "metadata": {},
     "output_type": "execute_result"
    }
   ],
   "source": [
    "len(union_map_metadata)\n",
    "#{k: union_map_metadata[k] for k in list(union_map_metadata)[:2]}"
   ]
  },
  {
   "cell_type": "code",
   "execution_count": 22,
   "id": "fe3bf853-c2bf-4385-b4c5-ce9053e7c4d6",
   "metadata": {},
   "outputs": [],
   "source": [
    "def update_union_map_with_malpedia_cves(union_map_metadata, malpedia_cve_metadata):\n",
    "    \"\"\"\n",
    "    Updates enhanced_techniques_software_alias_map with Malpedia CVEs per group.\n",
    "\n",
    "    Parameters\n",
    "    ----------\n",
    "    enhanced_techniques_software_alias_map : dict\n",
    "        Dictionary mapping group IDs to their MITRE and Malpedia metadata.\n",
    "    malpedia_cve_metadata : dict\n",
    "        Dictionary containing CVEs per actor name from Malpedia.\n",
    "\n",
    "    Returns\n",
    "    -------\n",
    "    dict\n",
    "        Updated enhanced_techniques_software_alias_map including Malpedia CVEs.\n",
    "    \"\"\"\n",
    "\n",
    "    count_cve = 0\n",
    "    count_new_malpedia = 0\n",
    "\n",
    "    next_mal_id = 1\n",
    "    def get_next_id():\n",
    "        nonlocal next_mal_id\n",
    "        while True:\n",
    "            gid = f\"MAL{next_mal_id:03d}\"\n",
    "            next_mal_id += 1\n",
    "            if gid not in union_map_metadata:\n",
    "                return gid\n",
    "\n",
    "    # Build normalized group name index for fast lookups\n",
    "    group_name_index = {}\n",
    "    for group_id, group_info in union_map_metadata.items():\n",
    "        names = [\n",
    "            normalize_group_name(group_info.get('mitre name', '')),\n",
    "            normalize_group_name(group_info.get('malpedia name', ''))\n",
    "        ] + [\n",
    "            normalize_group_name(alias) for alias in group_info.get('mitre alias', []) + group_info.get('malpedia alias', [])\n",
    "        ]\n",
    "        for name in names:\n",
    "            group_name_index[name] = group_id\n",
    "\n",
    "        # Ensure empty lists exist for keys\n",
    "        union_map_metadata[group_id].setdefault('malpedia cve', [])\n",
    "\n",
    "    # Process CVEs\n",
    "    for malpedia_group, cve_list in malpedia_cve_metadata.items():\n",
    "        norm_name = normalize_group_name(malpedia_group)\n",
    "        group_id = group_name_index.get(norm_name)\n",
    "\n",
    "        if group_id:\n",
    "            union_map_metadata[group_id]['malpedia cve'] = cve_list\n",
    "            count_cve += 1\n",
    "        else:\n",
    "            # Add as new entry similar to techniques and software block\n",
    "            new_entry = {\n",
    "                \"mitre name\": \"\",\n",
    "                \"mitre alias\": [],\n",
    "                \"malpedia name\": malpedia_group,\n",
    "                \"malpedia alias\": [],\n",
    "                \"attack techniques\": [],\n",
    "                \"technique name\": [],\n",
    "                \"attack software\": [],\n",
    "                \"malpedia techniques\": [],\n",
    "                \"malpedia software\": [],\n",
    "                \"malpedia cve\": cve_list\n",
    "            }\n",
    "            new_group_id = get_next_id()\n",
    "            union_map_metadata[new_group_id] = new_entry\n",
    "            group_name_index[norm_name] = new_group_id\n",
    "            count_new_malpedia += 1  # Increment since we're adding a new one now\n",
    "\n",
    "    print(f\"Total matches with Malpedia CVEs: {count_cve}\")\n",
    "    print(f\"Total number of newly added Malpedia groups: {count_new_malpedia}\")\n",
    "\n",
    "    return union_map_metadata\n"
   ]
  },
  {
   "cell_type": "code",
   "execution_count": 23,
   "id": "ce4f4639-bb36-442a-bd4e-4e885ae39dfc",
   "metadata": {},
   "outputs": [
    {
     "name": "stdout",
     "output_type": "stream",
     "text": [
      "Total matches with Malpedia CVEs: 191\n",
      "Total number of newly added Malpedia groups: 87\n"
     ]
    }
   ],
   "source": [
    "final_metadata = update_union_map_with_malpedia_cves(union_map_metadata, malpedia_cve_map_metadata )"
   ]
  },
  {
   "cell_type": "code",
   "execution_count": 24,
   "id": "1d6eaff5-68e2-4ea5-9ecc-28449974b06f",
   "metadata": {},
   "outputs": [
    {
     "data": {
      "text/plain": [
       "418"
      ]
     },
     "execution_count": 24,
     "metadata": {},
     "output_type": "execute_result"
    }
   ],
   "source": [
    "len(final_metadata)"
   ]
  },
  {
   "cell_type": "code",
   "execution_count": 25,
   "id": "f6537001-cceb-4336-b264-f84175651a61",
   "metadata": {},
   "outputs": [],
   "source": [
    "def dump_to_json(data, file_path):\n",
    "    \"\"\"\n",
    "    Dumps data to a JSON file in the specified output folder.\n",
    "\n",
    "    Parameters\n",
    "    ----------\n",
    "    data : dict\n",
    "        The data to be written to the JSON file.\n",
    "    output_folder : str\n",
    "        The folder where the JSON file will be saved.\n",
    "    filename : str\n",
    "        The name of the output JSON file (including .json extension).\n",
    "\n",
    "    Returns\n",
    "    -------\n",
    "    bool\n",
    "        True if the data was successfully written to the file, False otherwise.\n",
    "    \"\"\"\n",
    "\n",
    "    try:\n",
    "        with open(file_path, 'w', encoding='utf-8') as f:\n",
    "            json.dump(data, f, ensure_ascii=False, indent=4)\n",
    "        return True\n",
    "    except Exception as e:\n",
    "        print(f\"Error writing to file {file_path}: {e}\")\n",
    "        return False\n"
   ]
  },
  {
   "cell_type": "code",
   "execution_count": 27,
   "id": "d0d0cf52-cd63-48ba-9c94-1e5c58648649",
   "metadata": {},
   "outputs": [],
   "source": [
    "base_dir = os.getcwd()\n",
    "json_output_data_dir = os.path.join(base_dir, \"intermediate_json_outputs\")\n",
    "# Ensure the output folder exists\n",
    "os.makedirs(json_output_data_dir, exist_ok=True)\n",
    "filename = \"malpedia_attack_group_software_cve_profile.json\"\n",
    "# Full path to the output file\n",
    "file_path = os.path.join(json_output_data_dir, filename)"
   ]
  },
  {
   "cell_type": "code",
   "execution_count": 28,
   "id": "03da536a-90f9-4bb8-a0e2-7357d025d2c6",
   "metadata": {},
   "outputs": [
    {
     "data": {
      "text/plain": [
       "True"
      ]
     },
     "execution_count": 28,
     "metadata": {},
     "output_type": "execute_result"
    }
   ],
   "source": [
    "dump_to_json(final_metadata, file_path)"
   ]
  },
  {
   "cell_type": "code",
   "execution_count": 54,
   "id": "00f262c5-00bf-4909-81a4-5e408758a49d",
   "metadata": {},
   "outputs": [],
   "source": [
    "def find_unmapped_groups(malpedia_cve_map: dict, union_map_metadata: dict) -> dict:\n",
    "    \"\"\"\n",
    "    Checks for groups in malpedia_cve_map that have CVEs but are not present in the union_map_metadata.\n",
    "\n",
    "    Parameters\n",
    "    ----------\n",
    "    malpedia_cve_map : dict\n",
    "        Dictionary mapping group names to sets of CVEs from Malpedia.\n",
    "    union_map_metadata : dict\n",
    "        Dictionary containing APT group metadata from Union Map.\n",
    "\n",
    "    Returns\n",
    "    -------\n",
    "    dict\n",
    "        A dictionary containing groups from malpedia_cve_map that are not in union_map_metadata.\n",
    "    \"\"\"\n",
    "    unmapped_groups = {}\n",
    "\n",
    "    # Iterate over each group in malpedia_cve_map\n",
    "    for malpedia_name, cves in malpedia_cve_map.items():\n",
    "        normalized_malpedia_name = normalize_group_name(malpedia_name)\n",
    "        found_match = False\n",
    "        \n",
    "        # Check if this group is found in union_map_metadata\n",
    "        for group_id, group_data in union_map_metadata.items():\n",
    "            # Normalize group names from union map for comparison\n",
    "            mitre_name = normalize_group_name(group_data.get(\"mitre name\", \"\"))\n",
    "            malpedia_names = [normalize_group_name(name) for name in group_data.get(\"malpedia alias\", [])]\n",
    "            malpedia_names.append(normalize_group_name(group_data.get(\"malpedia name\", \"\")))\n",
    "            \n",
    "            # If match is found\n",
    "            if normalized_malpedia_name == mitre_name or normalized_malpedia_name in malpedia_names:\n",
    "                found_match = True\n",
    "                break\n",
    "        \n",
    "        if not found_match:\n",
    "            # If no match found in union_map_metadata, add to unmapped_groups\n",
    "            unmapped_groups[malpedia_name] = cves\n",
    "\n",
    "    return unmapped_groups\n"
   ]
  },
  {
   "cell_type": "code",
   "execution_count": 56,
   "id": "05d6218d-afdb-49aa-bd47-8a500baec8aa",
   "metadata": {},
   "outputs": [
    {
     "data": {
      "text/plain": [
       "115"
      ]
     },
     "execution_count": 56,
     "metadata": {},
     "output_type": "execute_result"
    }
   ],
   "source": [
    "len(unmapped_groups)"
   ]
  },
  {
   "cell_type": "code",
   "execution_count": null,
   "id": "fb354b0c-160d-49ca-b2c4-f9df761e3dca",
   "metadata": {},
   "outputs": [],
   "source": []
  },
  {
   "cell_type": "code",
   "execution_count": null,
   "id": "a9d53bb6-6cd2-4cc2-811b-2de77a8a9c8c",
   "metadata": {},
   "outputs": [],
   "source": [
    "def compare_apt_groups_detailed(techniques_map, software_map, cve_map, group_ids):\n",
    "    \"\"\"\n",
    "    Compare APT groups based on their techniques, software, and CVEs.\n",
    "    Provides detailed differences including common, unique, and union, as well as the Jaccard Index.\n",
    "    \n",
    "    Parameters:\n",
    "    ----------\n",
    "    techniques_map : dict\n",
    "        A mapping of APT group IDs to techniques used.\n",
    "    software_map : dict\n",
    "        A mapping of APT group IDs to software used.\n",
    "    cve_map : dict\n",
    "        A mapping of APT group IDs to CVEs.\n",
    "    group_ids : list\n",
    "        A list of APT group IDs to compare.\n",
    "\n",
    "    Returns:\n",
    "    -------\n",
    "    dict\n",
    "        A dictionary containing:\n",
    "        - common_techniques: Common techniques used by all the selected groups.\n",
    "        - common_software: Common software used by all the selected groups.\n",
    "        - common_cves: Common CVEs between all the selected groups.\n",
    "        - unique_techniques: Unique techniques for each group.\n",
    "        - unique_software: Unique software for each group.\n",
    "        - unique_cves: Unique CVEs for each group.\n",
    "        - union_techniques: Union of all techniques used by the selected groups.\n",
    "        - union_software: Union of all software used by the selected groups.\n",
    "        - union_cves: Union of all CVEs used by the selected groups.\n",
    "        - jaccard_index_techniques: Jaccard Index for techniques.\n",
    "        - jaccard_index_software: Jaccard Index for software.\n",
    "        - jaccard_index_cves: Jaccard Index for CVEs.\n",
    "    \"\"\"\n",
    "    common_techniques = None\n",
    "    common_software = None\n",
    "    common_cves = None\n",
    "    unique_techniques = {}\n",
    "    unique_software = {}\n",
    "    unique_cves = {}\n",
    "\n",
    "    # To keep track of all techniques, software, and CVEs for union and jaccard index\n",
    "    all_techniques_sets = []\n",
    "    all_software_sets = []\n",
    "    all_cves_sets = []\n",
    "\n",
    "    # Loop over the selected group IDs\n",
    "    for group_id in group_ids:\n",
    "        if group_id not in techniques_map or group_id not in software_map:\n",
    "            raise ValueError(f\"Group ID {group_id} not found in techniques_map or software_map\")\n",
    "\n",
    "        # Get the techniques and software for the current group\n",
    "        group_techniques = set(techniques_map.get(group_id, {}).get('items', []))\n",
    "        group_software = set(software_map.get(group_id, {}).get('items', []))\n",
    "\n",
    "        # Handle cases where a group might not have CVEs\n",
    "        group_cves = cve_map.get(group_id, set())  # Default to an empty set if not found\n",
    "\n",
    "        # Update common_techniques, common_software, and common_cves by intersecting with the first group\n",
    "        if common_techniques is None:\n",
    "            common_techniques = group_techniques\n",
    "        else:\n",
    "            common_techniques &= group_techniques\n",
    "\n",
    "        if common_software is None:\n",
    "            common_software = group_software\n",
    "        else:\n",
    "            common_software &= group_software\n",
    "\n",
    "        if common_cves is None:\n",
    "            common_cves = group_cves\n",
    "        else:\n",
    "            common_cves &= group_cves\n",
    "\n",
    "        # Collect unique techniques, software, and CVEs for the current group\n",
    "        unique_techniques[group_id] = group_techniques - common_techniques\n",
    "        unique_software[group_id] = group_software - common_software\n",
    "        unique_cves[group_id] = group_cves - common_cves\n",
    "\n",
    "        # Collect sets of techniques, software, and CVEs for Jaccard index and union\n",
    "        all_techniques_sets.append(group_techniques)\n",
    "        all_software_sets.append(group_software)\n",
    "        all_cves_sets.append(group_cves)\n",
    "\n",
    "    # Union of all techniques, software, and CVEs\n",
    "    union_techniques = set.union(*all_techniques_sets)\n",
    "    union_software = set.union(*all_software_sets)\n",
    "    union_cves = set.union(*all_cves_sets)\n",
    "\n",
    "    # Jaccard Index for techniques, software, and CVEs\n",
    "    jaccard_index_techniques = len(common_techniques) / len(union_techniques) if len(union_techniques) > 0 else 0\n",
    "    jaccard_index_software = len(common_software) / len(union_software) if len(union_software) > 0 else 0\n",
    "    jaccard_index_cves = len(common_cves) / len(union_cves) if len(union_cves) > 0 else 0\n",
    "\n",
    "    # Prepare the result\n",
    "    result = {\n",
    "        'common_techniques': list(common_techniques),\n",
    "        'common_software': list(common_software),\n",
    "        'common_cves': list(common_cves),\n",
    "        'unique_techniques': unique_techniques,\n",
    "        'unique_software': unique_software,\n",
    "        'unique_cves': unique_cves,\n",
    "        'union_techniques': list(union_techniques),\n",
    "        'union_software': list(union_software),\n",
    "        'union_cves': list(union_cves),\n",
    "        'jaccard_index_techniques': jaccard_index_techniques,\n",
    "        'jaccard_index_software': jaccard_index_software,\n",
    "        'jaccard_index_cves': jaccard_index_cves\n",
    "    }\n",
    "\n",
    "    return result\n"
   ]
  },
  {
   "cell_type": "code",
   "execution_count": null,
   "id": "3e523071-0301-48bf-856a-626357f7600c",
   "metadata": {},
   "outputs": [],
   "source": [
    "malpedia_mitre_map = {\n",
    "    'apt17': ['G0025', 'G0001'],\n",
    "    'apt19': ['G0073', 'G0009'],\n",
    "    'apt30': ['G0013', 'G0030'],\n",
    "    'lazarus': ['G0082', 'G0138', 'G0032'],\n",
    "    'apt41': ['G0096', 'G0044'],\n",
    "    'earth lusca': ['G0143', 'G1006'],\n",
    "    'fin7': ['G0008', 'G0046'],\n",
    "    'dragonok': ['G0017', 'G0002'],\n",
    "    'mustang panda': ['G1014', 'G0129']\n",
    "}"
   ]
  },
  {
   "cell_type": "code",
   "execution_count": null,
   "id": "03d76a60-2c9b-4824-bb45-bb93c9e6f28f",
   "metadata": {},
   "outputs": [],
   "source": [
    "## add the techniques_map and software_map from combining group profile and reading mitre excel datasheet\n",
    "\n",
    "for actor, group_ids in malpedia_mitre_map.items():\n",
    "    try:\n",
    "        result = compare_apt_groups_detailed(techniques_map, software_map, cve_map, group_ids)\n",
    "\n",
    "        print(f\"Comparison for {actor} ({', '.join(group_ids)})\")\n",
    "        print(f\"  - Common Techniques: {len(result['common_techniques'])}\")\n",
    "        print(f\"  - Common Software: {len(result['common_software'])}\")\n",
    "        print(f\"  - Common CVEs: {len(result['common_cves'])}\")\n",
    "        print(f\"  - Jaccard (Techniques): {result['jaccard_index_techniques']:.2f}\")\n",
    "        print(f\"  - Jaccard (Software): {result['jaccard_index_software']:.2f}\")\n",
    "        print(f\"  - Jaccard (CVEs): {result['jaccard_index_cves']:.2f}\")\n",
    "\n",
    "    except ValueError as e:\n",
    "        print(f\"Skipping {actor} due to error: {e}\")"
   ]
  }
 ],
 "metadata": {
  "kernelspec": {
   "display_name": "Python 3 (ipykernel)",
   "language": "python",
   "name": "python3"
  },
  "language_info": {
   "codemirror_mode": {
    "name": "ipython",
    "version": 3
   },
   "file_extension": ".py",
   "mimetype": "text/x-python",
   "name": "python",
   "nbconvert_exporter": "python",
   "pygments_lexer": "ipython3",
   "version": "3.11.4"
  }
 },
 "nbformat": 4,
 "nbformat_minor": 5
}
