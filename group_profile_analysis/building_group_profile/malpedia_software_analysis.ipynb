{
 "cells": [
  {
   "cell_type": "code",
   "execution_count": 34,
   "id": "6b2a7331-e413-4897-9038-b153f541cd75",
   "metadata": {},
   "outputs": [],
   "source": [
    "import pandas as pd\n",
    "import json\n",
    "import os\n",
    "from statistics import mode\n",
    "from collections import Counter, defaultdict\n",
    "import requests\n",
    "import re"
   ]
  },
  {
   "cell_type": "code",
   "execution_count": 25,
   "id": "028a04e3-2c9e-4db5-b61e-931dd711dcac",
   "metadata": {},
   "outputs": [],
   "source": [
    "def load_json_metadata(metadata_path):\n",
    "    \"\"\"\n",
    "    Loads the group metadata JSON file.\n",
    "\n",
    "    Parameters\n",
    "    ----------\n",
    "    metadata_path : str\n",
    "        Path to the JSON file containing group metadata.\n",
    "\n",
    "    Returns\n",
    "    -------\n",
    "    dict\n",
    "        Group metadata loaded from the file.\n",
    "    \"\"\"\n",
    "    with open(metadata_path, 'r', encoding='utf-8') as f:\n",
    "        metadata = json.load(f)\n",
    "    return metadata"
   ]
  },
  {
   "cell_type": "code",
   "execution_count": 26,
   "id": "777ecc14-a4a8-4a8a-a6e8-3d535554dbb1",
   "metadata": {},
   "outputs": [],
   "source": [
    "# Path to group_metadata.json\n",
    "project_root = os.path.abspath(os.path.join(os.getcwd(), '..'))  # move up from notebooks/\n",
    "file_malpedia_family_actor = os.path.join(project_root, \"malpedia_api_responses\", \"family_actor_info.json\")\n",
    "\n",
    "\n",
    "# Load the file\n",
    "malpedia_software_metadata = load_json_metadata(file_malpedia_family_actor)\n"
   ]
  },
  {
   "cell_type": "code",
   "execution_count": 27,
   "id": "f9e4f6ec-4091-428d-93bd-7e5f36410147",
   "metadata": {},
   "outputs": [],
   "source": [
    "def build_software_to_actor_map(family_data_dict):\n",
    "    \"\"\"\n",
    "    Builds a mapping from software/family name to its associated actors and alternate names.\n",
    "\n",
    "    Parameters\n",
    "    ----------\n",
    "    family_data_dict : dict\n",
    "        Dictionary where keys are software names and values are metadata (alt_names, actors).\n",
    "\n",
    "    Returns\n",
    "    -------\n",
    "    dict\n",
    "        Mapping from software name to dictionary with 'alt_names' and 'actors'.\n",
    "    \"\"\"\n",
    "    software_to_actor_map = {}\n",
    "\n",
    "    for software_name, info in family_data_dict.items():\n",
    "        alt_names = info.get(\"alt_names\", [])\n",
    "        actors_block = info.get(\"actors\", [])\n",
    "\n",
    "        actor_names = [actor.get(\"actor_name\", \"\") for actor in actors_block if actor.get(\"actor_name\")]\n",
    "\n",
    "        software_to_actor_map[software_name] = {\n",
    "            \"alt_names\": alt_names,\n",
    "            \"actors\": actor_names\n",
    "        }\n",
    "\n",
    "    return software_to_actor_map\n"
   ]
  },
  {
   "cell_type": "code",
   "execution_count": 28,
   "id": "5b38e8ff-cdfc-4c99-a9a5-0cb969b25f11",
   "metadata": {},
   "outputs": [],
   "source": [
    "def build_actor_to_software_map(software_to_actor_map):\n",
    "    \"\"\"\n",
    "    Builds a reverse mapping from actor name to a list of software/families used.\n",
    "\n",
    "    Parameters\n",
    "    ----------\n",
    "    software_to_actor_map : dict\n",
    "        Dictionary mapping software to their associated actors.\n",
    "\n",
    "    Returns\n",
    "    -------\n",
    "    dict\n",
    "        Mapping from actor name to list of software names.\n",
    "    \"\"\"\n",
    "    actor_to_software_map = {}\n",
    "\n",
    "    for software, details in software_to_actor_map.items():\n",
    "        for actor in details.get(\"actors\", []):\n",
    "            actor_to_software_map.setdefault(actor, []).append(software)\n",
    "\n",
    "    return actor_to_software_map\n"
   ]
  },
  {
   "cell_type": "code",
   "execution_count": 30,
   "id": "129659ae-7a36-4aac-86f2-8088a1a19d94",
   "metadata": {},
   "outputs": [
    {
     "name": "stdout",
     "output_type": "stream",
     "text": [
      "247\n"
     ]
    }
   ],
   "source": [
    "# Step 1: Build software-to-actor map first\n",
    "software_to_actor_map = build_software_to_actor_map(malpedia_software_metadata)\n",
    "\n",
    "# Step 2: Generate the reverse mapping\n",
    "actor_to_software_map = build_actor_to_software_map(software_to_actor_map)\n",
    "\n",
    "# Step 3: Preview top actors and their tools\n",
    "# from pprint import pprint\n",
    "# pprint(dict(list(actor_to_software_map.items())[:5]))\n",
    "\n",
    "print(len(actor_to_software_map))"
   ]
  },
  {
   "cell_type": "code",
   "execution_count": 39,
   "id": "bf002851-d786-4091-bb59-52bf0a05a920",
   "metadata": {},
   "outputs": [],
   "source": [
    "def analyze_software_usage(actor_to_software_map, top_n=10):\n",
    "    \"\"\"\n",
    "    Analyzes software usage across actors.\n",
    "\n",
    "    Parameters\n",
    "    ----------\n",
    "    actor_to_software_map : dict\n",
    "        Mapping from actor names to list of software used.\n",
    "    top_n : int\n",
    "        Number of top common software to return.\n",
    "\n",
    "    Returns\n",
    "    -------\n",
    "    dict\n",
    "        Dictionary containing:\n",
    "            - software_frequency: Counter of software usage across actors\n",
    "            - top_common_software: List of top N software and their usage counts\n",
    "            - unique_software_per_actor: Mapping of actor to list of software unique to them\n",
    "    \"\"\"\n",
    "    software_frequency = Counter()\n",
    "    software_to_actors = defaultdict(set)\n",
    "\n",
    "    # Count software appearances and map software to actors\n",
    "    for actor, software_list in actor_to_software_map.items():\n",
    "        for software in software_list:\n",
    "            software_frequency[software] += 1\n",
    "            software_to_actors[software].add(actor)\n",
    "\n",
    "    # Identify unique software per actor\n",
    "    unique_software_per_actor = defaultdict(list)\n",
    "    for software, actors in software_to_actors.items():\n",
    "        if len(actors) == 1:\n",
    "            only_actor = list(actors)[0]\n",
    "            unique_software_per_actor[only_actor].append(software)\n",
    "\n",
    "    return {\n",
    "        \"software_frequency\": software_frequency,\n",
    "        \"top_common_software\": software_frequency.most_common(top_n),\n",
    "        \"unique_software_per_actor\": unique_software_per_actor\n",
    "    }\n"
   ]
  },
  {
   "cell_type": "code",
   "execution_count": 40,
   "id": "b56628e4-1f6b-4b2e-9f76-779f9baedbd1",
   "metadata": {},
   "outputs": [
    {
     "name": "stdout",
     "output_type": "stream",
     "text": [
      "Number of actors with at least one unique software: 208\n",
      "Top 10 Most Common Software Across Groups:\n",
      "win.plugx: used by 19 groups\n",
      "win.cobalt_strike: used by 18 groups\n",
      "win.poison_ivy: used by 8 groups\n",
      "win.8t_dropper: used by 8 groups\n",
      "win.shadowpad: used by 7 groups\n",
      "win.ghost_rat: used by 6 groups\n",
      "win.chinachopper: used by 6 groups\n",
      "win.quasar_rat: used by 4 groups\n",
      "win.njrat: used by 4 groups\n",
      "win.derusbi: used by 4 groups\n",
      "\n",
      " Example Unique Software Per Actor:\n",
      "Lazarus Group: ['aix.fastcash', 'apk.badcall', 'apk.hardrain', 'elf.badcall', 'elf.simpletea', 'elf.spectral_blur', 'js.quickcafe', 'osx.3cx_backdoor', 'osx.applejeus', 'osx.casso', 'osx.dacls', 'osx.hloader', 'osx.interception', 'osx.kandykorn', 'osx.manuscrypt', 'osx.poolrat', 'osx.rustbucket', 'osx.simpletea', 'osx.spectral_blur', 'osx.sugarloader', 'osx.unidentified_001', 'osx.watchcat', 'osx.yort', 'php.redhat_hacker', 'ps1.powerbrace', 'ps1.powerspritz', 'win.3cx_backdoor', 'win.alphanc', 'win.alreay', 'win.anchormtea', 'win.applejeus', 'win.artfulpie', 'win.badcall', 'win.bankshot', 'win.banpolmex', 'win.bitsran', 'win.blindingcan', 'win.blindtoad', 'win.bluenoroff', 'win.bookcodesrat', 'win.bootwreck', 'win.brambul', 'win.bravonc', 'win.buffetline', 'win.cheesetray', 'win.cleantoad', 'win.cloudburst', 'win.comebacker', 'win.contopee', 'win.coredn', 'win.crat', 'win.cur1_downloader', 'win.dacls', 'win.deltas', 'win.dratzarus', 'win.duuzer', 'win.dyepack', 'win.electricfish', 'win.feed_load', 'win.forest_tiger', 'win.fudmodule', 'win.fuwuqidrama', 'win.ghost_secret', 'win.gopuram', 'win.hardrain', 'win.hermes', 'win.hoplight', 'win.hotcroissant', 'win.hotwax', 'win.httpsuploader', 'win.iconic_stealer', 'win.imprudentcook', 'win.interception', 'win.jessiecontea', 'win.joanap', 'win.keymarble', 'win.klackring', 'win.lambload', 'win.lazardoor', 'win.lazarloader', 'win.lazarus_killdisk', 'win.lcpdot', 'win.lightlesscan', 'win.lpeclient', 'win.miniblindingcan', 'win.minitypeframe', 'win.nachocheese', 'win.neddnloader', 'win.nestegg', 'win.op_blockbuster', 'win.postnaptea', 'win.power_ratankba', 'win.pslogger', 'win.racket', 'win.ratankba', 'win.ratankbapos', 'win.redshawl', 'win.roll_sling', 'win.romeos', 'win.rustbucket', 'win.scout', 'win.sierras', 'win.slickshoes', 'win.snatchcrypto', 'win.torisma', 'win.touchmove', 'win.tsunami', 'win.typeframe', 'win.unidentified_042', 'win.unidentified_077', 'win.unidentified_090', 'win.unidentified_101', 'win.veiledsignal', 'win.volgmer', 'win.vyveva', 'win.wagenttea', 'win.wannacryptor', 'win.webbytea', 'win.wininetloader', 'win.winordll64', 'win.wormhole']\n",
      "POISON CARP: ['apk.actionspy', 'ios.poisoncarp']\n",
      "APT29: ['apk.androsnatch', 'apk.unidentified_009', 'ios.cookiesnatch', 'ios.validvictor', 'win.beatdrop', 'win.boombox', 'win.cloud_duke', 'win.cosmicduke', 'win.cozyduke', 'win.fatduke', 'win.graphdrop', 'win.graphical_neutrino', 'win.halfrig', 'win.liteduke', 'win.miniduke', 'win.onionduke', 'win.pinchduke', 'win.polyglotduke', 'win.quarterrig', 'win.seadaddy', 'win.tdiscoverer', 'win.unidentified_098', 'win.unidentified_099', 'win.vapor_rage', 'win.wineloader']\n",
      "APT15: ['apk.badbazaar', 'win.graphican']\n",
      "Molerats: ['apk.badpatch', 'win.brittle_bush', 'win.dropbook', 'win.extreme_rat', 'win.molenet', 'win.molerat_loader', 'win.nimblemamba', 'win.pierogi', 'win.sharpstage', 'win.spark']\n",
      "Dropping Elephant: ['win.tinytyphon', 'win.unidentified_047', 'win.wscspl']\n",
      "Gamaredon Group: ['apk.bone_spy', 'apk.plain_gnome', 'elf.evilgnome', 'vbs.litterdrifter', 'vbs.unidentified_003', 'vbs.unidentified_006', 'win.dilongtrash', 'win.dinotrain', 'win.pteranodon', 'win.quietsieve']\n",
      "Operation C-Major: ['apk.capra_rat', 'apk.stealthmango', 'win.andromeda', 'win.beendoor', 'win.bezigate', 'win.breach_rat', 'win.crimson', 'win.eliza_rat', 'win.limepad', 'win.luminosity_rat', 'win.peppy_rat', 'win.unidentified_066']\n",
      "HenBox: ['apk.carbonsteal', 'apk.doubleagent', 'apk.goldeneagle', 'apk.henbox', 'apk.silkbean']\n",
      "APT37: ['apk.chinotto', 'apk.kevdroid', 'win.bluelight', 'win.chinotto', 'win.final1stspy', 'win.freenki', 'win.goldbackdoor', 'win.konni', 'win.nokki', 'win.open_carrot', 'win.poohmilk', 'win.poorweb', 'win.rokrat', 'win.starcruft', 'win.unidentified_067']\n",
      "Inception Framework: ['apk.cloudatlas', 'ps1.powershower']\n",
      "Turla: ['apk.cyber_azov', 'asp.unidentified_001', 'elf.penquin_turla', 'js.kopiluwak', 'js.minijs', 'js.turla_ff_ext', 'js.turla_maintools', 'osx.uroburos', 'win.agent_btz', 'win.cobra', 'win.comlook', 'win.crutch', 'win.delivery_check', 'win.gazer', 'win.kazuar', 'win.ksl0t', 'win.lightneuron', 'win.lunarmail', 'win.minipocket', 'win.mosquito', 'win.netflash', 'win.outlook_backdoor', 'win.pelmeni', 'win.powershellrunner', 'win.quietcanary', 'win.satellite_turla', 'win.skipper', 'win.tinyturla_ng', 'win.tiny_turla', 'win.turla_rpc', 'win.turla_silentmoon', 'win.twodash', 'win.uroburos', 'win.wipbot']\n",
      "HAZY TIGER: ['apk.dracarys', 'win.almondrat', 'win.miya_rat', 'win.wm_rat', 'win.zxxz']\n",
      "APT41: ['apk.dragonegg', 'apk.wyrmspy', 'elf.keyplug', 'elf.messagetap', 'win.acehash', 'win.biopass', 'win.coldlock', 'win.crackshot', 'win.crosswalk', 'win.dboxagent', 'win.dusttrap', 'win.easynight', 'win.gearshift', 'win.highnoon_bin', 'win.jumpall', 'win.lowkey', 'win.moonbounce', 'win.moonwalk', 'win.pinegrove', 'win.poisonplug', 'win.serialvlogger', 'win.skip20']\n",
      "Kimsuky: ['apk.fastfire', 'apk.fastspy', 'elf.gomir', 'ps1.flowerpower', 'ps1.randomquery', 'ps1.unidentified_004', 'vbs.randomquery', 'win.alphaseed', 'win.appleseed', 'win.babyshark', 'win.grease', 'win.kimsuky', 'win.mechanical', 'win.navrat', 'win.nikihttp', 'win.troll_stealer', 'win.yorekey']\n"
     ]
    }
   ],
   "source": [
    "results = analyze_software_usage(actor_to_software_map)\n",
    "\n",
    "unique_software_map = results['unique_software_per_actor']\n",
    "num_actors_with_unique_software = sum(1 for softwares in unique_software_map.values() if softwares)\n",
    "\n",
    "print(f\"Number of actors with at least one unique software: {num_actors_with_unique_software}\")\n",
    "\n",
    "print(\"Top 10 Most Common Software Across Groups:\")\n",
    "for sw, count in results['top_common_software']:\n",
    "    print(f\"{sw}: used by {count} groups\")\n",
    "\n",
    "print(\"\\n Example Unique Software Per Actor:\")\n",
    "for actor, unique_sw in list(results['unique_software_per_actor'].items())[:15]:\n",
    "    print(f\"{actor}: {unique_sw}\")\n"
   ]
  },
  {
   "cell_type": "code",
   "execution_count": 42,
   "id": "ab701f92-b629-4abe-9bcb-b037653620c7",
   "metadata": {},
   "outputs": [
    {
     "name": "stdout",
     "output_type": "stream",
     "text": [
      "actor_to_software_map has been saved to: malpedia_actor_to_software_map.json\n"
     ]
    }
   ],
   "source": [
    "# Define target folder and file name\n",
    "output_dir = \"output\"\n",
    "output_file = \"malpedia_actor_to_software_map.json\"\n",
    "output_path = os.path.join(output_dir, output_file)\n",
    "\n",
    "# Create the folder if it doesn't exist\n",
    "os.makedirs(output_dir, exist_ok=True)\n",
    "\n",
    "with open(output_path, \"w\", encoding=\"utf-8\") as f:\n",
    "    json.dump(actor_to_software_map, f, indent=2, ensure_ascii=False)\n",
    "\n",
    "print(f\"actor_to_software_map has been saved to: {output_file}\")\n"
   ]
  },
  {
   "cell_type": "code",
   "execution_count": null,
   "id": "1d0f17bf-87a8-4605-98c9-d718c427f045",
   "metadata": {},
   "outputs": [],
   "source": []
  }
 ],
 "metadata": {
  "kernelspec": {
   "display_name": "Python 3 (ipykernel)",
   "language": "python",
   "name": "python3"
  },
  "language_info": {
   "codemirror_mode": {
    "name": "ipython",
    "version": 3
   },
   "file_extension": ".py",
   "mimetype": "text/x-python",
   "name": "python",
   "nbconvert_exporter": "python",
   "pygments_lexer": "ipython3",
   "version": "3.11.4"
  }
 },
 "nbformat": 4,
 "nbformat_minor": 5
}
